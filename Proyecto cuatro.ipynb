{
 "cells": [
  {
   "cell_type": "markdown",
   "metadata": {
    "id": "3rYiDeEH0q0f"
   },
   "source": [
    "# ¿Cuál es la mejor tarifa?\n",
    "\n",
    "Trabajas como analista para el operador de telecomunicaciones Megaline. La empresa ofrece a sus clientes dos tarifas de prepago, Surf y Ultimate. El departamento comercial quiere saber cuál de las tarifas genera más ingresos para poder ajustar el presupuesto de publicidad.\n",
    "\n",
    "Vas a realizar un análisis preliminar de las tarifas basado en una selección de clientes relativamente pequeña. Tendrás los datos de 500 clientes de Megaline: quiénes son los clientes, de dónde son, qué tarifa usan, así como la cantidad de llamadas que hicieron y los mensajes de texto que enviaron en 2018. Tu trabajo es analizar el comportamiento de los clientes y determinar qué tarifa de prepago genera más ingresos."
   ]
  },
  {
   "cell_type": "markdown",
   "metadata": {
    "id": "MQi4IPy70q0y"
   },
   "source": [
    "## Inicialización"
   ]
  },
  {
   "cell_type": "code",
   "execution_count": 1,
   "metadata": {
    "id": "MtYIuBxu0q0z"
   },
   "outputs": [],
   "source": [
    "# Cargar todas las librerías\n",
    "import pandas as pd\n",
    "import numpy as np\n",
    "from scipy import stats as st\n",
    "from matplotlib import pyplot as plt\n",
    "\n"
   ]
  },
  {
   "cell_type": "markdown",
   "metadata": {
    "id": "4ysWWC5i0q00"
   },
   "source": [
    "## Cargar datos"
   ]
  },
  {
   "cell_type": "code",
   "execution_count": 2,
   "metadata": {
    "id": "CCqPW7rS0q01"
   },
   "outputs": [],
   "source": [
    "# Carga los archivos de datos en diferentes DataFrames\n",
    "user_data = pd.read_csv('/datasets/megaline_users.csv')\n",
    "calls_data = pd.read_csv('/datasets/megaline_calls.csv')\n",
    "messages_data = pd.read_csv('/datasets/megaline_messages.csv')\n",
    "internet_data = pd.read_csv('/datasets/megaline_internet.csv')\n",
    "plans_data = pd.read_csv('/datasets/megaline_plans.csv')"
   ]
  },
  {
   "cell_type": "markdown",
   "metadata": {
    "id": "69qqoJ3r0q01"
   },
   "source": [
    "## Preparar los datos"
   ]
  },
  {
   "cell_type": "markdown",
   "metadata": {
    "id": "ohBhimvH0q01"
   },
   "source": [
    "## Tarifas"
   ]
  },
  {
   "cell_type": "code",
   "execution_count": 3,
   "metadata": {
    "id": "GptqP3Q40q02"
   },
   "outputs": [
    {
     "name": "stdout",
     "output_type": "stream",
     "text": [
      "<class 'pandas.core.frame.DataFrame'>\n",
      "RangeIndex: 2 entries, 0 to 1\n",
      "Data columns (total 8 columns):\n",
      " #   Column                 Non-Null Count  Dtype  \n",
      "---  ------                 --------------  -----  \n",
      " 0   messages_included      2 non-null      int64  \n",
      " 1   mb_per_month_included  2 non-null      int64  \n",
      " 2   minutes_included       2 non-null      int64  \n",
      " 3   usd_monthly_pay        2 non-null      int64  \n",
      " 4   usd_per_gb             2 non-null      int64  \n",
      " 5   usd_per_message        2 non-null      float64\n",
      " 6   usd_per_minute         2 non-null      float64\n",
      " 7   plan_name              2 non-null      object \n",
      "dtypes: float64(2), int64(5), object(1)\n",
      "memory usage: 256.0+ bytes\n"
     ]
    }
   ],
   "source": [
    "# Imprime la información general/resumida sobre el DataFrame de las tarifas\n",
    "plans_data.info()"
   ]
  },
  {
   "cell_type": "code",
   "execution_count": 4,
   "metadata": {
    "id": "64xzjwL70q02"
   },
   "outputs": [
    {
     "data": {
      "text/html": [
       "<div>\n",
       "<style scoped>\n",
       "    .dataframe tbody tr th:only-of-type {\n",
       "        vertical-align: middle;\n",
       "    }\n",
       "\n",
       "    .dataframe tbody tr th {\n",
       "        vertical-align: top;\n",
       "    }\n",
       "\n",
       "    .dataframe thead th {\n",
       "        text-align: right;\n",
       "    }\n",
       "</style>\n",
       "<table border=\"1\" class=\"dataframe\">\n",
       "  <thead>\n",
       "    <tr style=\"text-align: right;\">\n",
       "      <th></th>\n",
       "      <th>messages_included</th>\n",
       "      <th>mb_per_month_included</th>\n",
       "      <th>minutes_included</th>\n",
       "      <th>usd_monthly_pay</th>\n",
       "      <th>usd_per_gb</th>\n",
       "      <th>usd_per_message</th>\n",
       "      <th>usd_per_minute</th>\n",
       "      <th>plan_name</th>\n",
       "    </tr>\n",
       "  </thead>\n",
       "  <tbody>\n",
       "    <tr>\n",
       "      <th>0</th>\n",
       "      <td>50</td>\n",
       "      <td>15360</td>\n",
       "      <td>500</td>\n",
       "      <td>20</td>\n",
       "      <td>10</td>\n",
       "      <td>0.03</td>\n",
       "      <td>0.03</td>\n",
       "      <td>surf</td>\n",
       "    </tr>\n",
       "    <tr>\n",
       "      <th>1</th>\n",
       "      <td>1000</td>\n",
       "      <td>30720</td>\n",
       "      <td>3000</td>\n",
       "      <td>70</td>\n",
       "      <td>7</td>\n",
       "      <td>0.01</td>\n",
       "      <td>0.01</td>\n",
       "      <td>ultimate</td>\n",
       "    </tr>\n",
       "  </tbody>\n",
       "</table>\n",
       "</div>"
      ],
      "text/plain": [
       "   messages_included  mb_per_month_included  minutes_included  \\\n",
       "0                 50                  15360               500   \n",
       "1               1000                  30720              3000   \n",
       "\n",
       "   usd_monthly_pay  usd_per_gb  usd_per_message  usd_per_minute plan_name  \n",
       "0               20          10             0.03            0.03      surf  \n",
       "1               70           7             0.01            0.01  ultimate  "
      ]
     },
     "metadata": {},
     "output_type": "display_data"
    }
   ],
   "source": [
    "# Imprime una muestra de los datos para las tarifas\n",
    "display(plans_data.head())"
   ]
  },
  {
   "cell_type": "markdown",
   "metadata": {
    "id": "mEc_3_hs0q02"
   },
   "source": [
    "Primero para visualizar informacion general del data frame (df) utilizo info y con este método puedo visualizar que hay 2 entradas, y un total de 8 columnas.\n",
    "Este df posee las tarifas de los planes por lo que las columnas poseen los mensajes, llamadas y datos móviles que incluye cada plan, los costos mensuales y los costos por cada servicio por minutos si se exceden los clientes. No se observan valores ausentes. Los tipos de datos que posee son datos numéricos enteros y flotantes, y una columna es de tipo object que sería la columna 'plan_name'.\n",
    "\n",
    "Luego imprimí una muestra de los datos con head() y se puede visualizar el plan completo según la Tarifa."
   ]
  },
  {
   "cell_type": "markdown",
   "metadata": {
    "id": "R3C05i1l0q03"
   },
   "source": [
    "## Corregir datos"
   ]
  },
  {
   "cell_type": "markdown",
   "metadata": {
    "id": "Y7SVmjGn0q03"
   },
   "source": [
    "\n",
    "No se observan errores a corregir en este df."
   ]
  },
  {
   "cell_type": "markdown",
   "metadata": {
    "id": "LJir7bml0q03"
   },
   "source": [
    "## Enriquecer los datos"
   ]
  },
  {
   "cell_type": "code",
   "execution_count": 5,
   "metadata": {
    "id": "gfcIEuXV0q04"
   },
   "outputs": [
    {
     "data": {
      "text/html": [
       "<div>\n",
       "<style scoped>\n",
       "    .dataframe tbody tr th:only-of-type {\n",
       "        vertical-align: middle;\n",
       "    }\n",
       "\n",
       "    .dataframe tbody tr th {\n",
       "        vertical-align: top;\n",
       "    }\n",
       "\n",
       "    .dataframe thead th {\n",
       "        text-align: right;\n",
       "    }\n",
       "</style>\n",
       "<table border=\"1\" class=\"dataframe\">\n",
       "  <thead>\n",
       "    <tr style=\"text-align: right;\">\n",
       "      <th></th>\n",
       "      <th>plan_name</th>\n",
       "    </tr>\n",
       "  </thead>\n",
       "  <tbody>\n",
       "    <tr>\n",
       "      <th>count</th>\n",
       "      <td>2</td>\n",
       "    </tr>\n",
       "    <tr>\n",
       "      <th>unique</th>\n",
       "      <td>2</td>\n",
       "    </tr>\n",
       "    <tr>\n",
       "      <th>top</th>\n",
       "      <td>surf</td>\n",
       "    </tr>\n",
       "    <tr>\n",
       "      <th>freq</th>\n",
       "      <td>1</td>\n",
       "    </tr>\n",
       "  </tbody>\n",
       "</table>\n",
       "</div>"
      ],
      "text/plain": [
       "       plan_name\n",
       "count          2\n",
       "unique         2\n",
       "top         surf\n",
       "freq           1"
      ]
     },
     "metadata": {},
     "output_type": "display_data"
    },
    {
     "name": "stdout",
     "output_type": "stream",
     "text": [
      "\n",
      "Valores duplicados en este df:\n",
      "messages_included        0\n",
      "mb_per_month_included    0\n",
      "minutes_included         0\n",
      "usd_monthly_pay          0\n",
      "usd_per_gb               0\n",
      "usd_per_message          0\n",
      "usd_per_minute           0\n",
      "plan_name                0\n",
      "dtype: int64\n"
     ]
    }
   ],
   "source": [
    "display(plans_data.describe(include='object'))\n",
    "print()\n",
    "print('Valores duplicados en este df:')\n",
    "print(plans_data.isna().sum())"
   ]
  },
  {
   "cell_type": "markdown",
   "metadata": {},
   "source": [
    "Plan_name tiene dos columnas, dos valores unicos que son los planes, y no se observan valores ausentes."
   ]
  },
  {
   "cell_type": "markdown",
   "metadata": {
    "id": "1n2X6WXf0q04"
   },
   "source": [
    "## Usuarios/as"
   ]
  },
  {
   "cell_type": "code",
   "execution_count": 6,
   "metadata": {
    "id": "2NgjWFqx0q05"
   },
   "outputs": [
    {
     "name": "stdout",
     "output_type": "stream",
     "text": [
      "<class 'pandas.core.frame.DataFrame'>\n",
      "RangeIndex: 500 entries, 0 to 499\n",
      "Data columns (total 8 columns):\n",
      " #   Column      Non-Null Count  Dtype \n",
      "---  ------      --------------  ----- \n",
      " 0   user_id     500 non-null    int64 \n",
      " 1   first_name  500 non-null    object\n",
      " 2   last_name   500 non-null    object\n",
      " 3   age         500 non-null    int64 \n",
      " 4   city        500 non-null    object\n",
      " 5   reg_date    500 non-null    object\n",
      " 6   plan        500 non-null    object\n",
      " 7   churn_date  34 non-null     object\n",
      "dtypes: int64(2), object(6)\n",
      "memory usage: 31.4+ KB\n"
     ]
    }
   ],
   "source": [
    "# Imprime la información general/resumida sobre el DataFrame de usuarios\n",
    "user_data.info()\n"
   ]
  },
  {
   "cell_type": "code",
   "execution_count": 7,
   "metadata": {
    "id": "1IN1L9uh0q05"
   },
   "outputs": [
    {
     "data": {
      "text/html": [
       "<div>\n",
       "<style scoped>\n",
       "    .dataframe tbody tr th:only-of-type {\n",
       "        vertical-align: middle;\n",
       "    }\n",
       "\n",
       "    .dataframe tbody tr th {\n",
       "        vertical-align: top;\n",
       "    }\n",
       "\n",
       "    .dataframe thead th {\n",
       "        text-align: right;\n",
       "    }\n",
       "</style>\n",
       "<table border=\"1\" class=\"dataframe\">\n",
       "  <thead>\n",
       "    <tr style=\"text-align: right;\">\n",
       "      <th></th>\n",
       "      <th>user_id</th>\n",
       "      <th>first_name</th>\n",
       "      <th>last_name</th>\n",
       "      <th>age</th>\n",
       "      <th>city</th>\n",
       "      <th>reg_date</th>\n",
       "      <th>plan</th>\n",
       "      <th>churn_date</th>\n",
       "    </tr>\n",
       "  </thead>\n",
       "  <tbody>\n",
       "    <tr>\n",
       "      <th>57</th>\n",
       "      <td>1057</td>\n",
       "      <td>Theo</td>\n",
       "      <td>Sargent</td>\n",
       "      <td>18</td>\n",
       "      <td>Atlanta-Sandy Springs-Roswell, GA MSA</td>\n",
       "      <td>2018-08-07</td>\n",
       "      <td>ultimate</td>\n",
       "      <td>NaN</td>\n",
       "    </tr>\n",
       "    <tr>\n",
       "      <th>70</th>\n",
       "      <td>1070</td>\n",
       "      <td>Jacelyn</td>\n",
       "      <td>Contreras</td>\n",
       "      <td>66</td>\n",
       "      <td>Chicago-Naperville-Elgin, IL-IN-WI MSA</td>\n",
       "      <td>2018-05-12</td>\n",
       "      <td>surf</td>\n",
       "      <td>NaN</td>\n",
       "    </tr>\n",
       "    <tr>\n",
       "      <th>364</th>\n",
       "      <td>1364</td>\n",
       "      <td>Clarine</td>\n",
       "      <td>Bonner</td>\n",
       "      <td>75</td>\n",
       "      <td>San Diego-Chula Vista-Carlsbad, CA MSA</td>\n",
       "      <td>2018-08-09</td>\n",
       "      <td>surf</td>\n",
       "      <td>NaN</td>\n",
       "    </tr>\n",
       "    <tr>\n",
       "      <th>108</th>\n",
       "      <td>1108</td>\n",
       "      <td>Porfirio</td>\n",
       "      <td>Kane</td>\n",
       "      <td>45</td>\n",
       "      <td>Salt Lake City, UT MSA</td>\n",
       "      <td>2018-12-30</td>\n",
       "      <td>ultimate</td>\n",
       "      <td>NaN</td>\n",
       "    </tr>\n",
       "    <tr>\n",
       "      <th>318</th>\n",
       "      <td>1318</td>\n",
       "      <td>Huey</td>\n",
       "      <td>Walsh</td>\n",
       "      <td>54</td>\n",
       "      <td>Atlanta-Sandy Springs-Roswell, GA MSA</td>\n",
       "      <td>2018-09-29</td>\n",
       "      <td>surf</td>\n",
       "      <td>NaN</td>\n",
       "    </tr>\n",
       "    <tr>\n",
       "      <th>375</th>\n",
       "      <td>1375</td>\n",
       "      <td>Andy</td>\n",
       "      <td>Holden</td>\n",
       "      <td>69</td>\n",
       "      <td>Philadelphia-Camden-Wilmington, PA-NJ-DE-MD MSA</td>\n",
       "      <td>2018-12-01</td>\n",
       "      <td>surf</td>\n",
       "      <td>NaN</td>\n",
       "    </tr>\n",
       "    <tr>\n",
       "      <th>366</th>\n",
       "      <td>1366</td>\n",
       "      <td>Rod</td>\n",
       "      <td>Huff</td>\n",
       "      <td>62</td>\n",
       "      <td>Cincinnati, OH-KY-IN MSA</td>\n",
       "      <td>2018-07-30</td>\n",
       "      <td>surf</td>\n",
       "      <td>NaN</td>\n",
       "    </tr>\n",
       "  </tbody>\n",
       "</table>\n",
       "</div>"
      ],
      "text/plain": [
       "     user_id first_name  last_name  age  \\\n",
       "57      1057       Theo    Sargent   18   \n",
       "70      1070    Jacelyn  Contreras   66   \n",
       "364     1364    Clarine     Bonner   75   \n",
       "108     1108   Porfirio       Kane   45   \n",
       "318     1318       Huey      Walsh   54   \n",
       "375     1375       Andy     Holden   69   \n",
       "366     1366        Rod       Huff   62   \n",
       "\n",
       "                                                city    reg_date      plan  \\\n",
       "57             Atlanta-Sandy Springs-Roswell, GA MSA  2018-08-07  ultimate   \n",
       "70            Chicago-Naperville-Elgin, IL-IN-WI MSA  2018-05-12      surf   \n",
       "364           San Diego-Chula Vista-Carlsbad, CA MSA  2018-08-09      surf   \n",
       "108                           Salt Lake City, UT MSA  2018-12-30  ultimate   \n",
       "318            Atlanta-Sandy Springs-Roswell, GA MSA  2018-09-29      surf   \n",
       "375  Philadelphia-Camden-Wilmington, PA-NJ-DE-MD MSA  2018-12-01      surf   \n",
       "366                         Cincinnati, OH-KY-IN MSA  2018-07-30      surf   \n",
       "\n",
       "    churn_date  \n",
       "57         NaN  \n",
       "70         NaN  \n",
       "364        NaN  \n",
       "108        NaN  \n",
       "318        NaN  \n",
       "375        NaN  \n",
       "366        NaN  "
      ]
     },
     "metadata": {},
     "output_type": "display_data"
    }
   ],
   "source": [
    "# Imprime una muestra de datos para usuarios\n",
    "display(user_data.sample(7, random_state= 500))\n"
   ]
  },
  {
   "cell_type": "markdown",
   "metadata": {
    "id": "dCZoUq4f0q06"
   },
   "source": [
    "Este df tiene 500 entradas, 8 columnas, con datos generales de cada cliente. Con el método info se puede ver que en la columna churn date hay valores ausentes, se podría arreglar cambiando todos los NaN por Unknow con el método fillna. "
   ]
  },
  {
   "cell_type": "markdown",
   "metadata": {
    "id": "BX5FQh_I0q06"
   },
   "source": [
    "### Corregir los datos"
   ]
  },
  {
   "cell_type": "code",
   "execution_count": 8,
   "metadata": {
    "id": "yUqX-K0C0q07"
   },
   "outputs": [
    {
     "name": "stdout",
     "output_type": "stream",
     "text": [
      "Valores ausentes en la columna churn_date:\n"
     ]
    },
    {
     "data": {
      "text/plain": [
       "466"
      ]
     },
     "metadata": {},
     "output_type": "display_data"
    },
    {
     "name": "stdout",
     "output_type": "stream",
     "text": [
      "Valores duplicados:\n",
      "0\n"
     ]
    }
   ],
   "source": [
    "print('Valores ausentes en la columna churn_date:')\n",
    "display(user_data['churn_date'].isna().sum())\n",
    "print('Valores duplicados:')\n",
    "print(user_data.duplicated().sum())"
   ]
  },
  {
   "cell_type": "code",
   "execution_count": 9,
   "metadata": {},
   "outputs": [
    {
     "name": "stdout",
     "output_type": "stream",
     "text": [
      "Valores ausentes en la columna churn_date:\n",
      "0\n"
     ]
    }
   ],
   "source": [
    "user_data['churn_date'] = user_data['churn_date'].fillna('Unknown')\n",
    "print('Valores ausentes en la columna churn_date:')\n",
    "print(user_data['churn_date'].isna().sum())"
   ]
  },
  {
   "cell_type": "code",
   "execution_count": 10,
   "metadata": {},
   "outputs": [
    {
     "data": {
      "text/plain": [
       "Index(['user_id', 'first_name', 'last_name', 'age', 'city', 'reg_date',\n",
       "       'plan_name', 'churn_date'],\n",
       "      dtype='object')"
      ]
     },
     "execution_count": 10,
     "metadata": {},
     "output_type": "execute_result"
    }
   ],
   "source": [
    "user_data.rename(columns={'plan': 'plan_name'}, inplace=True)\n",
    "user_data.columns #renombro la columna plan para usarla más adelante\n"
   ]
  },
  {
   "cell_type": "markdown",
   "metadata": {
    "id": "ycwuARJp0q07"
   },
   "source": [
    "### Enriquecer los datos"
   ]
  },
  {
   "cell_type": "code",
   "execution_count": 11,
   "metadata": {
    "id": "iq0AaBS90q08"
   },
   "outputs": [
    {
     "data": {
      "text/html": [
       "<div>\n",
       "<style scoped>\n",
       "    .dataframe tbody tr th:only-of-type {\n",
       "        vertical-align: middle;\n",
       "    }\n",
       "\n",
       "    .dataframe tbody tr th {\n",
       "        vertical-align: top;\n",
       "    }\n",
       "\n",
       "    .dataframe thead th {\n",
       "        text-align: right;\n",
       "    }\n",
       "</style>\n",
       "<table border=\"1\" class=\"dataframe\">\n",
       "  <thead>\n",
       "    <tr style=\"text-align: right;\">\n",
       "      <th></th>\n",
       "      <th>first_name</th>\n",
       "      <th>last_name</th>\n",
       "      <th>city</th>\n",
       "      <th>reg_date</th>\n",
       "      <th>plan_name</th>\n",
       "      <th>churn_date</th>\n",
       "    </tr>\n",
       "  </thead>\n",
       "  <tbody>\n",
       "    <tr>\n",
       "      <th>count</th>\n",
       "      <td>500</td>\n",
       "      <td>500</td>\n",
       "      <td>500</td>\n",
       "      <td>500</td>\n",
       "      <td>500</td>\n",
       "      <td>500</td>\n",
       "    </tr>\n",
       "    <tr>\n",
       "      <th>unique</th>\n",
       "      <td>458</td>\n",
       "      <td>399</td>\n",
       "      <td>73</td>\n",
       "      <td>266</td>\n",
       "      <td>2</td>\n",
       "      <td>30</td>\n",
       "    </tr>\n",
       "    <tr>\n",
       "      <th>top</th>\n",
       "      <td>Jasper</td>\n",
       "      <td>Thompson</td>\n",
       "      <td>New York-Newark-Jersey City, NY-NJ-PA MSA</td>\n",
       "      <td>2018-08-03</td>\n",
       "      <td>surf</td>\n",
       "      <td>Unknown</td>\n",
       "    </tr>\n",
       "    <tr>\n",
       "      <th>freq</th>\n",
       "      <td>3</td>\n",
       "      <td>3</td>\n",
       "      <td>80</td>\n",
       "      <td>5</td>\n",
       "      <td>339</td>\n",
       "      <td>466</td>\n",
       "    </tr>\n",
       "  </tbody>\n",
       "</table>\n",
       "</div>"
      ],
      "text/plain": [
       "       first_name last_name                                       city  \\\n",
       "count         500       500                                        500   \n",
       "unique        458       399                                         73   \n",
       "top        Jasper  Thompson  New York-Newark-Jersey City, NY-NJ-PA MSA   \n",
       "freq            3         3                                         80   \n",
       "\n",
       "          reg_date plan_name churn_date  \n",
       "count          500       500        500  \n",
       "unique         266         2         30  \n",
       "top     2018-08-03      surf    Unknown  \n",
       "freq             5       339        466  "
      ]
     },
     "execution_count": 11,
     "metadata": {},
     "output_type": "execute_result"
    }
   ],
   "source": [
    "user_data.describe(include='object')"
   ]
  },
  {
   "cell_type": "code",
   "execution_count": 12,
   "metadata": {},
   "outputs": [
    {
     "name": "stdout",
     "output_type": "stream",
     "text": [
      "count    500.000000\n",
      "mean      45.486000\n",
      "std       16.972269\n",
      "min       18.000000\n",
      "25%       30.000000\n",
      "50%       46.000000\n",
      "75%       61.000000\n",
      "max       75.000000\n",
      "Name: age, dtype: float64\n"
     ]
    }
   ],
   "source": [
    "age_mean_by_user = user_data.groupby('user_id')['age'].mean()\n",
    "print(age_mean_by_user.describe()) #Para observar la edad media de los clientes que tienen planes "
   ]
  },
  {
   "cell_type": "markdown",
   "metadata": {
    "id": "o7MeKCid0q08"
   },
   "source": [
    "## Llamadas"
   ]
  },
  {
   "cell_type": "code",
   "execution_count": 13,
   "metadata": {
    "id": "6dDlnoDm0q08"
   },
   "outputs": [
    {
     "name": "stdout",
     "output_type": "stream",
     "text": [
      "<class 'pandas.core.frame.DataFrame'>\n",
      "RangeIndex: 137735 entries, 0 to 137734\n",
      "Data columns (total 4 columns):\n",
      " #   Column     Non-Null Count   Dtype  \n",
      "---  ------     --------------   -----  \n",
      " 0   id         137735 non-null  object \n",
      " 1   user_id    137735 non-null  int64  \n",
      " 2   call_date  137735 non-null  object \n",
      " 3   duration   137735 non-null  float64\n",
      "dtypes: float64(1), int64(1), object(2)\n",
      "memory usage: 4.2+ MB\n"
     ]
    }
   ],
   "source": [
    "# Imprime la información general/resumida sobre el DataFrame de las llamadas\n",
    "calls_data.info()\n"
   ]
  },
  {
   "cell_type": "code",
   "execution_count": 14,
   "metadata": {
    "id": "kuh1vlNB0q09"
   },
   "outputs": [
    {
     "data": {
      "text/html": [
       "<div>\n",
       "<style scoped>\n",
       "    .dataframe tbody tr th:only-of-type {\n",
       "        vertical-align: middle;\n",
       "    }\n",
       "\n",
       "    .dataframe tbody tr th {\n",
       "        vertical-align: top;\n",
       "    }\n",
       "\n",
       "    .dataframe thead th {\n",
       "        text-align: right;\n",
       "    }\n",
       "</style>\n",
       "<table border=\"1\" class=\"dataframe\">\n",
       "  <thead>\n",
       "    <tr style=\"text-align: right;\">\n",
       "      <th></th>\n",
       "      <th>id</th>\n",
       "      <th>user_id</th>\n",
       "      <th>call_date</th>\n",
       "      <th>duration</th>\n",
       "    </tr>\n",
       "  </thead>\n",
       "  <tbody>\n",
       "    <tr>\n",
       "      <th>1363</th>\n",
       "      <td>1008_4</td>\n",
       "      <td>1008</td>\n",
       "      <td>2018-10-12</td>\n",
       "      <td>16.53</td>\n",
       "    </tr>\n",
       "    <tr>\n",
       "      <th>36573</th>\n",
       "      <td>1138_537</td>\n",
       "      <td>1138</td>\n",
       "      <td>2018-09-12</td>\n",
       "      <td>12.01</td>\n",
       "    </tr>\n",
       "    <tr>\n",
       "      <th>32092</th>\n",
       "      <td>1120_538</td>\n",
       "      <td>1120</td>\n",
       "      <td>2018-11-09</td>\n",
       "      <td>0.01</td>\n",
       "    </tr>\n",
       "    <tr>\n",
       "      <th>136699</th>\n",
       "      <td>1495_139</td>\n",
       "      <td>1495</td>\n",
       "      <td>2018-11-18</td>\n",
       "      <td>3.26</td>\n",
       "    </tr>\n",
       "    <tr>\n",
       "      <th>53557</th>\n",
       "      <td>1192_614</td>\n",
       "      <td>1192</td>\n",
       "      <td>2018-12-04</td>\n",
       "      <td>15.94</td>\n",
       "    </tr>\n",
       "    <tr>\n",
       "      <th>68809</th>\n",
       "      <td>1247_142</td>\n",
       "      <td>1247</td>\n",
       "      <td>2018-08-15</td>\n",
       "      <td>0.00</td>\n",
       "    </tr>\n",
       "    <tr>\n",
       "      <th>131129</th>\n",
       "      <td>1471_77</td>\n",
       "      <td>1471</td>\n",
       "      <td>2018-10-22</td>\n",
       "      <td>9.71</td>\n",
       "    </tr>\n",
       "  </tbody>\n",
       "</table>\n",
       "</div>"
      ],
      "text/plain": [
       "              id  user_id   call_date  duration\n",
       "1363      1008_4     1008  2018-10-12     16.53\n",
       "36573   1138_537     1138  2018-09-12     12.01\n",
       "32092   1120_538     1120  2018-11-09      0.01\n",
       "136699  1495_139     1495  2018-11-18      3.26\n",
       "53557   1192_614     1192  2018-12-04     15.94\n",
       "68809   1247_142     1247  2018-08-15      0.00\n",
       "131129   1471_77     1471  2018-10-22      9.71"
      ]
     },
     "metadata": {},
     "output_type": "display_data"
    },
    {
     "name": "stdout",
     "output_type": "stream",
     "text": [
      "Valores duplicados en este df:\n",
      "0\n"
     ]
    }
   ],
   "source": [
    "# Imprime una muestra de datos para las llamadas\n",
    "display(calls_data.sample(7, random_state= 1377345))\n",
    "print('Valores duplicados en este df:')\n",
    "print(calls_data.duplicated().sum())"
   ]
  },
  {
   "cell_type": "markdown",
   "metadata": {
    "id": "DOAxYJSx0q09"
   },
   "source": [
    "Este df posee 137735 entradas totales, 4 columnas con datos de las llamadas telefónicas, duración, día y usuario que realizó la llamada, no se observan valores ausentes."
   ]
  },
  {
   "cell_type": "markdown",
   "metadata": {
    "id": "S7hzxmbX0q0-"
   },
   "source": [
    "### Corregir los datos"
   ]
  },
  {
   "cell_type": "code",
   "execution_count": 15,
   "metadata": {
    "id": "S2r8xA4f0q0-"
   },
   "outputs": [
    {
     "data": {
      "text/plain": [
       "0        2018-12-27\n",
       "1        2018-12-27\n",
       "2        2018-12-27\n",
       "3        2018-12-28\n",
       "4        2018-12-30\n",
       "            ...    \n",
       "137730   2018-11-21\n",
       "137731   2018-10-20\n",
       "137732   2018-09-21\n",
       "137733   2018-10-10\n",
       "137734   2018-12-29\n",
       "Name: call_date, Length: 137735, dtype: datetime64[ns]"
      ]
     },
     "metadata": {},
     "output_type": "display_data"
    }
   ],
   "source": [
    "calls_data['call_date'] = pd.to_datetime(calls_data['call_date'])\n",
    "calls_data['month'] = calls_data['call_date'].dt.month\n",
    "display(calls_data['call_date'])"
   ]
  },
  {
   "cell_type": "markdown",
   "metadata": {
    "id": "KrMgTrlG0q0_"
   },
   "source": [
    "### Enriquecer los datos"
   ]
  },
  {
   "cell_type": "code",
   "execution_count": 16,
   "metadata": {
    "id": "iZ1avpA_0q0_"
   },
   "outputs": [
    {
     "name": "stdout",
     "output_type": "stream",
     "text": [
      "count     481.000000\n",
      "mean      286.351351\n",
      "std       238.182107\n",
      "min         2.000000\n",
      "25%       108.000000\n",
      "50%       216.000000\n",
      "75%       413.000000\n",
      "max      1300.000000\n",
      "Name: duration, dtype: float64\n"
     ]
    }
   ],
   "source": [
    "#Agrupo a los usuarios por la duración de llamadas y cuento el total de minutos\n",
    "calls_mean_by_user = calls_data.groupby('user_id')['duration'].count()\n",
    "print(calls_mean_by_user.describe()) "
   ]
  },
  {
   "cell_type": "markdown",
   "metadata": {
    "id": "mOUZSi180q0_"
   },
   "source": [
    "## Mensajes"
   ]
  },
  {
   "cell_type": "code",
   "execution_count": 17,
   "metadata": {
    "id": "R-bYJpdV0q1A"
   },
   "outputs": [
    {
     "name": "stdout",
     "output_type": "stream",
     "text": [
      "<class 'pandas.core.frame.DataFrame'>\n",
      "RangeIndex: 76051 entries, 0 to 76050\n",
      "Data columns (total 3 columns):\n",
      " #   Column        Non-Null Count  Dtype \n",
      "---  ------        --------------  ----- \n",
      " 0   id            76051 non-null  object\n",
      " 1   user_id       76051 non-null  int64 \n",
      " 2   message_date  76051 non-null  object\n",
      "dtypes: int64(1), object(2)\n",
      "memory usage: 1.7+ MB\n"
     ]
    }
   ],
   "source": [
    "# Imprime la información general/resumida sobre el DataFrame de los mensajes\n",
    "messages_data.info()\n"
   ]
  },
  {
   "cell_type": "code",
   "execution_count": 18,
   "metadata": {
    "id": "mCEl2iGE0q1A"
   },
   "outputs": [
    {
     "data": {
      "text/html": [
       "<div>\n",
       "<style scoped>\n",
       "    .dataframe tbody tr th:only-of-type {\n",
       "        vertical-align: middle;\n",
       "    }\n",
       "\n",
       "    .dataframe tbody tr th {\n",
       "        vertical-align: top;\n",
       "    }\n",
       "\n",
       "    .dataframe thead th {\n",
       "        text-align: right;\n",
       "    }\n",
       "</style>\n",
       "<table border=\"1\" class=\"dataframe\">\n",
       "  <thead>\n",
       "    <tr style=\"text-align: right;\">\n",
       "      <th></th>\n",
       "      <th>id</th>\n",
       "      <th>user_id</th>\n",
       "      <th>message_date</th>\n",
       "    </tr>\n",
       "  </thead>\n",
       "  <tbody>\n",
       "    <tr>\n",
       "      <th>65138</th>\n",
       "      <td>1417_8</td>\n",
       "      <td>1417</td>\n",
       "      <td>2018-12-12</td>\n",
       "    </tr>\n",
       "    <tr>\n",
       "      <th>29945</th>\n",
       "      <td>1187_53</td>\n",
       "      <td>1187</td>\n",
       "      <td>2018-10-05</td>\n",
       "    </tr>\n",
       "    <tr>\n",
       "      <th>72660</th>\n",
       "      <td>1470_288</td>\n",
       "      <td>1470</td>\n",
       "      <td>2018-10-02</td>\n",
       "    </tr>\n",
       "    <tr>\n",
       "      <th>22910</th>\n",
       "      <td>1137_326</td>\n",
       "      <td>1137</td>\n",
       "      <td>2018-10-25</td>\n",
       "    </tr>\n",
       "    <tr>\n",
       "      <th>66048</th>\n",
       "      <td>1432_15</td>\n",
       "      <td>1432</td>\n",
       "      <td>2018-11-23</td>\n",
       "    </tr>\n",
       "    <tr>\n",
       "      <th>69870</th>\n",
       "      <td>1454_232</td>\n",
       "      <td>1454</td>\n",
       "      <td>2018-10-13</td>\n",
       "    </tr>\n",
       "    <tr>\n",
       "      <th>46614</th>\n",
       "      <td>1316_547</td>\n",
       "      <td>1316</td>\n",
       "      <td>2018-09-26</td>\n",
       "    </tr>\n",
       "  </tbody>\n",
       "</table>\n",
       "</div>"
      ],
      "text/plain": [
       "             id  user_id message_date\n",
       "65138    1417_8     1417   2018-12-12\n",
       "29945   1187_53     1187   2018-10-05\n",
       "72660  1470_288     1470   2018-10-02\n",
       "22910  1137_326     1137   2018-10-25\n",
       "66048   1432_15     1432   2018-11-23\n",
       "69870  1454_232     1454   2018-10-13\n",
       "46614  1316_547     1316   2018-09-26"
      ]
     },
     "metadata": {},
     "output_type": "display_data"
    },
    {
     "name": "stdout",
     "output_type": "stream",
     "text": [
      "Valores ausentes en la columna churn_date:\n",
      "id              0\n",
      "user_id         0\n",
      "message_date    0\n",
      "dtype: int64\n"
     ]
    }
   ],
   "source": [
    "# Imprime una muestra de datos para los mensajes\n",
    "display(messages_data.sample(7, random_state= 76051))\n",
    "print('Valores ausentes en la columna churn_date:')\n",
    "print(messages_data.isna().sum())"
   ]
  },
  {
   "cell_type": "markdown",
   "metadata": {
    "id": "04xDj7KH0q1A"
   },
   "source": [
    "La información general del df cuenta con 76051 entradas, 3 columnas, con la información de los usuarios, el día que mandó el mensaje y id que identifica cada mensaje. No aparecen valores ausentes, el tipo de valores en dos columnas es tipo 'object' y en la otraes 'int64'. No se observan valores ausentes."
   ]
  },
  {
   "cell_type": "markdown",
   "metadata": {
    "id": "Sprfak900q1B"
   },
   "source": [
    "### Corregir los datos"
   ]
  },
  {
   "cell_type": "code",
   "execution_count": 19,
   "metadata": {
    "id": "vsllvkoa0q1B"
   },
   "outputs": [
    {
     "name": "stdout",
     "output_type": "stream",
     "text": [
      "0       2018-12-27\n",
      "1       2018-12-31\n",
      "2       2018-12-31\n",
      "3       2018-12-27\n",
      "4       2018-12-26\n",
      "           ...    \n",
      "76046   2018-12-24\n",
      "76047   2018-12-24\n",
      "76048   2018-12-31\n",
      "76049   2018-12-24\n",
      "76050   2018-12-23\n",
      "Name: message_date, Length: 76051, dtype: datetime64[ns]\n"
     ]
    }
   ],
   "source": [
    "messages_data['message_date'] = pd.to_datetime(messages_data['message_date'])\n",
    "messages_data['month'] = messages_data['message_date'].dt.month\n",
    "print(messages_data['message_date'])"
   ]
  },
  {
   "cell_type": "markdown",
   "metadata": {
    "id": "HvLid7iD0q1B"
   },
   "source": [
    "### Enriquecer los datos"
   ]
  },
  {
   "cell_type": "code",
   "execution_count": 20,
   "metadata": {
    "id": "zYEXZac10q1C"
   },
   "outputs": [
    {
     "name": "stdout",
     "output_type": "stream",
     "text": [
      "count     402.000000\n",
      "mean      189.181592\n",
      "std       192.207920\n",
      "min         1.000000\n",
      "25%        60.000000\n",
      "50%       126.500000\n",
      "75%       258.750000\n",
      "max      1288.000000\n",
      "Name: message_date, dtype: float64\n"
     ]
    }
   ],
   "source": [
    "messages_count_by_user = messages_data.groupby('user_id')['message_date'].count()\n",
    "print(messages_count_by_user.describe()) #Agrupo a los usuarios por los días en los que han enviado sms y los cuento"
   ]
  },
  {
   "cell_type": "markdown",
   "metadata": {
    "id": "bStkaxn40q1C"
   },
   "source": [
    "## Internet"
   ]
  },
  {
   "cell_type": "code",
   "execution_count": 21,
   "metadata": {
    "id": "e-Uz5qyn0q1C"
   },
   "outputs": [
    {
     "name": "stdout",
     "output_type": "stream",
     "text": [
      "<class 'pandas.core.frame.DataFrame'>\n",
      "RangeIndex: 104825 entries, 0 to 104824\n",
      "Data columns (total 4 columns):\n",
      " #   Column        Non-Null Count   Dtype  \n",
      "---  ------        --------------   -----  \n",
      " 0   id            104825 non-null  object \n",
      " 1   user_id       104825 non-null  int64  \n",
      " 2   session_date  104825 non-null  object \n",
      " 3   mb_used       104825 non-null  float64\n",
      "dtypes: float64(1), int64(1), object(2)\n",
      "memory usage: 3.2+ MB\n"
     ]
    }
   ],
   "source": [
    "# Imprime la información general/resumida sobre el DataFrame de internet\n",
    "internet_data.info()\n"
   ]
  },
  {
   "cell_type": "code",
   "execution_count": 22,
   "metadata": {
    "id": "9r3x_XLw0q1C"
   },
   "outputs": [
    {
     "data": {
      "text/html": [
       "<div>\n",
       "<style scoped>\n",
       "    .dataframe tbody tr th:only-of-type {\n",
       "        vertical-align: middle;\n",
       "    }\n",
       "\n",
       "    .dataframe tbody tr th {\n",
       "        vertical-align: top;\n",
       "    }\n",
       "\n",
       "    .dataframe thead th {\n",
       "        text-align: right;\n",
       "    }\n",
       "</style>\n",
       "<table border=\"1\" class=\"dataframe\">\n",
       "  <thead>\n",
       "    <tr style=\"text-align: right;\">\n",
       "      <th></th>\n",
       "      <th>id</th>\n",
       "      <th>user_id</th>\n",
       "      <th>session_date</th>\n",
       "      <th>mb_used</th>\n",
       "    </tr>\n",
       "  </thead>\n",
       "  <tbody>\n",
       "    <tr>\n",
       "      <th>37480</th>\n",
       "      <td>1170_102</td>\n",
       "      <td>1170</td>\n",
       "      <td>2018-12-03</td>\n",
       "      <td>502.70</td>\n",
       "    </tr>\n",
       "    <tr>\n",
       "      <th>31721</th>\n",
       "      <td>1144_461</td>\n",
       "      <td>1144</td>\n",
       "      <td>2018-07-07</td>\n",
       "      <td>360.02</td>\n",
       "    </tr>\n",
       "    <tr>\n",
       "      <th>86279</th>\n",
       "      <td>1400_416</td>\n",
       "      <td>1400</td>\n",
       "      <td>2018-07-02</td>\n",
       "      <td>23.58</td>\n",
       "    </tr>\n",
       "    <tr>\n",
       "      <th>103337</th>\n",
       "      <td>1494_219</td>\n",
       "      <td>1494</td>\n",
       "      <td>2018-10-07</td>\n",
       "      <td>340.38</td>\n",
       "    </tr>\n",
       "    <tr>\n",
       "      <th>5919</th>\n",
       "      <td>1032_80</td>\n",
       "      <td>1032</td>\n",
       "      <td>2018-12-25</td>\n",
       "      <td>114.04</td>\n",
       "    </tr>\n",
       "    <tr>\n",
       "      <th>8872</th>\n",
       "      <td>1046_157</td>\n",
       "      <td>1046</td>\n",
       "      <td>2018-06-15</td>\n",
       "      <td>0.00</td>\n",
       "    </tr>\n",
       "    <tr>\n",
       "      <th>25685</th>\n",
       "      <td>1120_215</td>\n",
       "      <td>1120</td>\n",
       "      <td>2018-05-18</td>\n",
       "      <td>980.42</td>\n",
       "    </tr>\n",
       "  </tbody>\n",
       "</table>\n",
       "</div>"
      ],
      "text/plain": [
       "              id  user_id session_date  mb_used\n",
       "37480   1170_102     1170   2018-12-03   502.70\n",
       "31721   1144_461     1144   2018-07-07   360.02\n",
       "86279   1400_416     1400   2018-07-02    23.58\n",
       "103337  1494_219     1494   2018-10-07   340.38\n",
       "5919     1032_80     1032   2018-12-25   114.04\n",
       "8872    1046_157     1046   2018-06-15     0.00\n",
       "25685   1120_215     1120   2018-05-18   980.42"
      ]
     },
     "metadata": {},
     "output_type": "display_data"
    },
    {
     "name": "stdout",
     "output_type": "stream",
     "text": [
      "Valores ausentes en la columna churn_date:\n",
      "id              0\n",
      "user_id         0\n",
      "session_date    0\n",
      "mb_used         0\n",
      "dtype: int64\n"
     ]
    }
   ],
   "source": [
    "# Imprime una muestra de datos para el tráfico de internet\n",
    "display(internet_data.sample(7, random_state= 76051))\n",
    "print('Valores ausentes en la columna churn_date:')\n",
    "print(internet_data.isna().sum())"
   ]
  },
  {
   "cell_type": "markdown",
   "metadata": {
    "id": "EzOG5ik30q1D"
   },
   "source": [
    "El df de internet contiene 104825 entradas, 4 columnas, con datos del usuario que utilizo md, la cantidad usados, el día y el id único de cada sesión.\n",
    "No se observan valores ausentes, el tipo de valores de las columnas son object, int64 y float."
   ]
  },
  {
   "cell_type": "markdown",
   "metadata": {
    "id": "yA0tkPFg0q1D"
   },
   "source": [
    "### Corregir los datos"
   ]
  },
  {
   "cell_type": "code",
   "execution_count": 23,
   "metadata": {
    "id": "zVeanzdd0q1E"
   },
   "outputs": [
    {
     "name": "stdout",
     "output_type": "stream",
     "text": [
      "0        2018-12-29\n",
      "1        2018-12-31\n",
      "2        2018-12-28\n",
      "3        2018-12-26\n",
      "4        2018-12-27\n",
      "            ...    \n",
      "104820   2018-10-20\n",
      "104821   2018-12-30\n",
      "104822   2018-09-22\n",
      "104823   2018-12-07\n",
      "104824   2018-12-24\n",
      "Name: session_date, Length: 104825, dtype: datetime64[ns]\n"
     ]
    }
   ],
   "source": [
    "internet_data['session_date']= pd.to_datetime(internet_data['session_date'])\n",
    "internet_data['month'] = internet_data['session_date'].dt.month\n",
    "print(internet_data['session_date'])"
   ]
  },
  {
   "cell_type": "code",
   "execution_count": 24,
   "metadata": {},
   "outputs": [
    {
     "name": "stdout",
     "output_type": "stream",
     "text": [
      "0          89.86\n",
      "1           0.00\n",
      "2         660.40\n",
      "3         270.99\n",
      "4         880.22\n",
      "           ...  \n",
      "104820    218.06\n",
      "104821    304.72\n",
      "104822    292.75\n",
      "104823      0.00\n",
      "104824    758.31\n",
      "Name: mb_used, Length: 104825, dtype: float64\n"
     ]
    }
   ],
   "source": [
    "internet_data['gb_used'] = internet_data['mb_used'] / 1024\n",
    "print(internet_data['mb_used'])"
   ]
  },
  {
   "cell_type": "markdown",
   "metadata": {
    "id": "e8_mLF4a0q1E"
   },
   "source": [
    "### Enriquecer los datos"
   ]
  },
  {
   "cell_type": "code",
   "execution_count": 25,
   "metadata": {
    "id": "ESiYPIEK0q1E"
   },
   "outputs": [
    {
     "name": "stdout",
     "output_type": "stream",
     "text": [
      "count    489.000000\n",
      "mean     370.762239\n",
      "std       87.689742\n",
      "min       92.680000\n",
      "25%      316.837538\n",
      "50%      330.936093\n",
      "75%      446.352632\n",
      "max      771.312000\n",
      "Name: mb_used, dtype: float64\n"
     ]
    }
   ],
   "source": [
    "internet_used_by_user = internet_data.groupby('user_id')['mb_used'].mean()\n",
    "print(internet_used_by_user.describe()) #Agrupo los usuarios por mb_used y calculo la média de datos usados "
   ]
  },
  {
   "cell_type": "markdown",
   "metadata": {
    "id": "3UA2cqIW0q1E"
   },
   "source": [
    "## Estudiar las condiciones de las tarifas"
   ]
  },
  {
   "cell_type": "code",
   "execution_count": 26,
   "metadata": {
    "id": "i409op8p0q1F"
   },
   "outputs": [
    {
     "data": {
      "text/html": [
       "<div>\n",
       "<style scoped>\n",
       "    .dataframe tbody tr th:only-of-type {\n",
       "        vertical-align: middle;\n",
       "    }\n",
       "\n",
       "    .dataframe tbody tr th {\n",
       "        vertical-align: top;\n",
       "    }\n",
       "\n",
       "    .dataframe thead th {\n",
       "        text-align: right;\n",
       "    }\n",
       "</style>\n",
       "<table border=\"1\" class=\"dataframe\">\n",
       "  <thead>\n",
       "    <tr style=\"text-align: right;\">\n",
       "      <th></th>\n",
       "      <th>messages_included</th>\n",
       "      <th>mb_per_month_included</th>\n",
       "      <th>minutes_included</th>\n",
       "      <th>usd_monthly_pay</th>\n",
       "      <th>usd_per_gb</th>\n",
       "      <th>usd_per_message</th>\n",
       "      <th>usd_per_minute</th>\n",
       "      <th>plan_name</th>\n",
       "    </tr>\n",
       "  </thead>\n",
       "  <tbody>\n",
       "    <tr>\n",
       "      <th>0</th>\n",
       "      <td>50</td>\n",
       "      <td>15360</td>\n",
       "      <td>500</td>\n",
       "      <td>20</td>\n",
       "      <td>10</td>\n",
       "      <td>0.03</td>\n",
       "      <td>0.03</td>\n",
       "      <td>surf</td>\n",
       "    </tr>\n",
       "    <tr>\n",
       "      <th>1</th>\n",
       "      <td>1000</td>\n",
       "      <td>30720</td>\n",
       "      <td>3000</td>\n",
       "      <td>70</td>\n",
       "      <td>7</td>\n",
       "      <td>0.01</td>\n",
       "      <td>0.01</td>\n",
       "      <td>ultimate</td>\n",
       "    </tr>\n",
       "  </tbody>\n",
       "</table>\n",
       "</div>"
      ],
      "text/plain": [
       "   messages_included  mb_per_month_included  minutes_included  \\\n",
       "0                 50                  15360               500   \n",
       "1               1000                  30720              3000   \n",
       "\n",
       "   usd_monthly_pay  usd_per_gb  usd_per_message  usd_per_minute plan_name  \n",
       "0               20          10             0.03            0.03      surf  \n",
       "1               70           7             0.01            0.01  ultimate  "
      ]
     },
     "metadata": {},
     "output_type": "display_data"
    }
   ],
   "source": [
    "# Imprime las condiciones de la tarifa y asegúrate de que te quedan claras\n",
    "tarifa= plans_data.head()\n",
    "display(tarifa)\n"
   ]
  },
  {
   "cell_type": "markdown",
   "metadata": {
    "id": "hMR1tP5d0q1F"
   },
   "source": [
    "## Agregar datos por usuario"
   ]
  },
  {
   "cell_type": "code",
   "execution_count": 27,
   "metadata": {},
   "outputs": [
    {
     "data": {
      "text/html": [
       "<div>\n",
       "<style scoped>\n",
       "    .dataframe tbody tr th:only-of-type {\n",
       "        vertical-align: middle;\n",
       "    }\n",
       "\n",
       "    .dataframe tbody tr th {\n",
       "        vertical-align: top;\n",
       "    }\n",
       "\n",
       "    .dataframe thead th {\n",
       "        text-align: right;\n",
       "    }\n",
       "</style>\n",
       "<table border=\"1\" class=\"dataframe\">\n",
       "  <thead>\n",
       "    <tr style=\"text-align: right;\">\n",
       "      <th></th>\n",
       "      <th>user_id</th>\n",
       "      <th>month</th>\n",
       "      <th>id</th>\n",
       "    </tr>\n",
       "  </thead>\n",
       "  <tbody>\n",
       "    <tr>\n",
       "      <th>0</th>\n",
       "      <td>1000</td>\n",
       "      <td>12</td>\n",
       "      <td>16</td>\n",
       "    </tr>\n",
       "    <tr>\n",
       "      <th>1</th>\n",
       "      <td>1001</td>\n",
       "      <td>8</td>\n",
       "      <td>27</td>\n",
       "    </tr>\n",
       "    <tr>\n",
       "      <th>2</th>\n",
       "      <td>1001</td>\n",
       "      <td>9</td>\n",
       "      <td>49</td>\n",
       "    </tr>\n",
       "    <tr>\n",
       "      <th>3</th>\n",
       "      <td>1001</td>\n",
       "      <td>10</td>\n",
       "      <td>65</td>\n",
       "    </tr>\n",
       "    <tr>\n",
       "      <th>4</th>\n",
       "      <td>1001</td>\n",
       "      <td>11</td>\n",
       "      <td>64</td>\n",
       "    </tr>\n",
       "  </tbody>\n",
       "</table>\n",
       "</div>"
      ],
      "text/plain": [
       "   user_id  month  id\n",
       "0     1000     12  16\n",
       "1     1001      8  27\n",
       "2     1001      9  49\n",
       "3     1001     10  65\n",
       "4     1001     11  64"
      ]
     },
     "metadata": {},
     "output_type": "display_data"
    },
    {
     "data": {
      "text/html": [
       "<div>\n",
       "<style scoped>\n",
       "    .dataframe tbody tr th:only-of-type {\n",
       "        vertical-align: middle;\n",
       "    }\n",
       "\n",
       "    .dataframe tbody tr th {\n",
       "        vertical-align: top;\n",
       "    }\n",
       "\n",
       "    .dataframe thead th {\n",
       "        text-align: right;\n",
       "    }\n",
       "</style>\n",
       "<table border=\"1\" class=\"dataframe\">\n",
       "  <thead>\n",
       "    <tr style=\"text-align: right;\">\n",
       "      <th></th>\n",
       "      <th>user_id</th>\n",
       "      <th>month</th>\n",
       "      <th>id</th>\n",
       "    </tr>\n",
       "  </thead>\n",
       "  <tbody>\n",
       "    <tr>\n",
       "      <th>0</th>\n",
       "      <td>1000</td>\n",
       "      <td>12</td>\n",
       "      <td>11</td>\n",
       "    </tr>\n",
       "    <tr>\n",
       "      <th>1</th>\n",
       "      <td>1001</td>\n",
       "      <td>8</td>\n",
       "      <td>30</td>\n",
       "    </tr>\n",
       "    <tr>\n",
       "      <th>2</th>\n",
       "      <td>1001</td>\n",
       "      <td>9</td>\n",
       "      <td>44</td>\n",
       "    </tr>\n",
       "    <tr>\n",
       "      <th>3</th>\n",
       "      <td>1001</td>\n",
       "      <td>10</td>\n",
       "      <td>53</td>\n",
       "    </tr>\n",
       "    <tr>\n",
       "      <th>4</th>\n",
       "      <td>1001</td>\n",
       "      <td>11</td>\n",
       "      <td>36</td>\n",
       "    </tr>\n",
       "  </tbody>\n",
       "</table>\n",
       "</div>"
      ],
      "text/plain": [
       "   user_id  month  id\n",
       "0     1000     12  11\n",
       "1     1001      8  30\n",
       "2     1001      9  44\n",
       "3     1001     10  53\n",
       "4     1001     11  36"
      ]
     },
     "metadata": {},
     "output_type": "display_data"
    },
    {
     "data": {
      "text/html": [
       "<div>\n",
       "<style scoped>\n",
       "    .dataframe tbody tr th:only-of-type {\n",
       "        vertical-align: middle;\n",
       "    }\n",
       "\n",
       "    .dataframe tbody tr th {\n",
       "        vertical-align: top;\n",
       "    }\n",
       "\n",
       "    .dataframe thead th {\n",
       "        text-align: right;\n",
       "    }\n",
       "</style>\n",
       "<table border=\"1\" class=\"dataframe\">\n",
       "  <thead>\n",
       "    <tr style=\"text-align: right;\">\n",
       "      <th></th>\n",
       "      <th>user_id</th>\n",
       "      <th>month</th>\n",
       "      <th>mb_used</th>\n",
       "      <th>gb_round</th>\n",
       "    </tr>\n",
       "  </thead>\n",
       "  <tbody>\n",
       "    <tr>\n",
       "      <th>0</th>\n",
       "      <td>1000</td>\n",
       "      <td>12</td>\n",
       "      <td>1901.47</td>\n",
       "      <td>2.0</td>\n",
       "    </tr>\n",
       "    <tr>\n",
       "      <th>1</th>\n",
       "      <td>1001</td>\n",
       "      <td>8</td>\n",
       "      <td>6919.15</td>\n",
       "      <td>7.0</td>\n",
       "    </tr>\n",
       "    <tr>\n",
       "      <th>2</th>\n",
       "      <td>1001</td>\n",
       "      <td>9</td>\n",
       "      <td>13314.82</td>\n",
       "      <td>14.0</td>\n",
       "    </tr>\n",
       "    <tr>\n",
       "      <th>3</th>\n",
       "      <td>1001</td>\n",
       "      <td>10</td>\n",
       "      <td>22330.49</td>\n",
       "      <td>22.0</td>\n",
       "    </tr>\n",
       "    <tr>\n",
       "      <th>4</th>\n",
       "      <td>1001</td>\n",
       "      <td>11</td>\n",
       "      <td>18504.30</td>\n",
       "      <td>19.0</td>\n",
       "    </tr>\n",
       "  </tbody>\n",
       "</table>\n",
       "</div>"
      ],
      "text/plain": [
       "   user_id  month   mb_used  gb_round\n",
       "0     1000     12   1901.47       2.0\n",
       "1     1001      8   6919.15       7.0\n",
       "2     1001      9  13314.82      14.0\n",
       "3     1001     10  22330.49      22.0\n",
       "4     1001     11  18504.30      19.0"
      ]
     },
     "metadata": {},
     "output_type": "display_data"
    },
    {
     "data": {
      "text/html": [
       "<div>\n",
       "<style scoped>\n",
       "    .dataframe tbody tr th:only-of-type {\n",
       "        vertical-align: middle;\n",
       "    }\n",
       "\n",
       "    .dataframe tbody tr th {\n",
       "        vertical-align: top;\n",
       "    }\n",
       "\n",
       "    .dataframe thead th {\n",
       "        text-align: right;\n",
       "    }\n",
       "</style>\n",
       "<table border=\"1\" class=\"dataframe\">\n",
       "  <thead>\n",
       "    <tr style=\"text-align: right;\">\n",
       "      <th></th>\n",
       "      <th>user_id</th>\n",
       "      <th>month</th>\n",
       "      <th>duration_round</th>\n",
       "    </tr>\n",
       "  </thead>\n",
       "  <tbody>\n",
       "    <tr>\n",
       "      <th>0</th>\n",
       "      <td>1000</td>\n",
       "      <td>12</td>\n",
       "      <td>124.0</td>\n",
       "    </tr>\n",
       "    <tr>\n",
       "      <th>1</th>\n",
       "      <td>1001</td>\n",
       "      <td>8</td>\n",
       "      <td>182.0</td>\n",
       "    </tr>\n",
       "    <tr>\n",
       "      <th>2</th>\n",
       "      <td>1001</td>\n",
       "      <td>9</td>\n",
       "      <td>315.0</td>\n",
       "    </tr>\n",
       "    <tr>\n",
       "      <th>3</th>\n",
       "      <td>1001</td>\n",
       "      <td>10</td>\n",
       "      <td>393.0</td>\n",
       "    </tr>\n",
       "    <tr>\n",
       "      <th>4</th>\n",
       "      <td>1001</td>\n",
       "      <td>11</td>\n",
       "      <td>426.0</td>\n",
       "    </tr>\n",
       "  </tbody>\n",
       "</table>\n",
       "</div>"
      ],
      "text/plain": [
       "   user_id  month  duration_round\n",
       "0     1000     12           124.0\n",
       "1     1001      8           182.0\n",
       "2     1001      9           315.0\n",
       "3     1001     10           393.0\n",
       "4     1001     11           426.0"
      ]
     },
     "metadata": {},
     "output_type": "display_data"
    },
    {
     "data": {
      "text/html": [
       "<div>\n",
       "<style scoped>\n",
       "    .dataframe tbody tr th:only-of-type {\n",
       "        vertical-align: middle;\n",
       "    }\n",
       "\n",
       "    .dataframe tbody tr th {\n",
       "        vertical-align: top;\n",
       "    }\n",
       "\n",
       "    .dataframe thead th {\n",
       "        text-align: right;\n",
       "    }\n",
       "</style>\n",
       "<table border=\"1\" class=\"dataframe\">\n",
       "  <thead>\n",
       "    <tr style=\"text-align: right;\">\n",
       "      <th></th>\n",
       "      <th>user_id</th>\n",
       "      <th>plan_name</th>\n",
       "      <th>city</th>\n",
       "      <th>month</th>\n",
       "      <th>n_calls</th>\n",
       "      <th>duration_round</th>\n",
       "      <th>n_sms</th>\n",
       "      <th>mb_used</th>\n",
       "      <th>gb_round</th>\n",
       "      <th>messages_included</th>\n",
       "      <th>...</th>\n",
       "      <th>minutes_included</th>\n",
       "      <th>usd_monthly_pay</th>\n",
       "      <th>usd_per_gb</th>\n",
       "      <th>usd_per_message</th>\n",
       "      <th>usd_per_minute</th>\n",
       "      <th>gb_per_month_included</th>\n",
       "      <th>cargo_calls</th>\n",
       "      <th>cargo_sms</th>\n",
       "      <th>cargo_internet</th>\n",
       "      <th>total_ingreso</th>\n",
       "    </tr>\n",
       "  </thead>\n",
       "  <tbody>\n",
       "    <tr>\n",
       "      <th>0</th>\n",
       "      <td>1001</td>\n",
       "      <td>surf</td>\n",
       "      <td>Seattle-Tacoma-Bellevue, WA MSA</td>\n",
       "      <td>8</td>\n",
       "      <td>27.0</td>\n",
       "      <td>182.0</td>\n",
       "      <td>30.0</td>\n",
       "      <td>6919.15</td>\n",
       "      <td>7.0</td>\n",
       "      <td>50</td>\n",
       "      <td>...</td>\n",
       "      <td>500</td>\n",
       "      <td>20</td>\n",
       "      <td>10</td>\n",
       "      <td>0.03</td>\n",
       "      <td>0.03</td>\n",
       "      <td>15.0</td>\n",
       "      <td>0.0</td>\n",
       "      <td>0.00</td>\n",
       "      <td>0.0</td>\n",
       "      <td>20.00</td>\n",
       "    </tr>\n",
       "    <tr>\n",
       "      <th>1</th>\n",
       "      <td>1001</td>\n",
       "      <td>surf</td>\n",
       "      <td>Seattle-Tacoma-Bellevue, WA MSA</td>\n",
       "      <td>9</td>\n",
       "      <td>49.0</td>\n",
       "      <td>315.0</td>\n",
       "      <td>44.0</td>\n",
       "      <td>13314.82</td>\n",
       "      <td>14.0</td>\n",
       "      <td>50</td>\n",
       "      <td>...</td>\n",
       "      <td>500</td>\n",
       "      <td>20</td>\n",
       "      <td>10</td>\n",
       "      <td>0.03</td>\n",
       "      <td>0.03</td>\n",
       "      <td>15.0</td>\n",
       "      <td>0.0</td>\n",
       "      <td>0.00</td>\n",
       "      <td>0.0</td>\n",
       "      <td>20.00</td>\n",
       "    </tr>\n",
       "    <tr>\n",
       "      <th>2</th>\n",
       "      <td>1001</td>\n",
       "      <td>surf</td>\n",
       "      <td>Seattle-Tacoma-Bellevue, WA MSA</td>\n",
       "      <td>10</td>\n",
       "      <td>65.0</td>\n",
       "      <td>393.0</td>\n",
       "      <td>53.0</td>\n",
       "      <td>22330.49</td>\n",
       "      <td>22.0</td>\n",
       "      <td>50</td>\n",
       "      <td>...</td>\n",
       "      <td>500</td>\n",
       "      <td>20</td>\n",
       "      <td>10</td>\n",
       "      <td>0.03</td>\n",
       "      <td>0.03</td>\n",
       "      <td>15.0</td>\n",
       "      <td>0.0</td>\n",
       "      <td>0.09</td>\n",
       "      <td>70.0</td>\n",
       "      <td>90.09</td>\n",
       "    </tr>\n",
       "    <tr>\n",
       "      <th>3</th>\n",
       "      <td>1001</td>\n",
       "      <td>surf</td>\n",
       "      <td>Seattle-Tacoma-Bellevue, WA MSA</td>\n",
       "      <td>11</td>\n",
       "      <td>64.0</td>\n",
       "      <td>426.0</td>\n",
       "      <td>36.0</td>\n",
       "      <td>18504.30</td>\n",
       "      <td>19.0</td>\n",
       "      <td>50</td>\n",
       "      <td>...</td>\n",
       "      <td>500</td>\n",
       "      <td>20</td>\n",
       "      <td>10</td>\n",
       "      <td>0.03</td>\n",
       "      <td>0.03</td>\n",
       "      <td>15.0</td>\n",
       "      <td>0.0</td>\n",
       "      <td>0.00</td>\n",
       "      <td>40.0</td>\n",
       "      <td>60.00</td>\n",
       "    </tr>\n",
       "    <tr>\n",
       "      <th>4</th>\n",
       "      <td>1001</td>\n",
       "      <td>surf</td>\n",
       "      <td>Seattle-Tacoma-Bellevue, WA MSA</td>\n",
       "      <td>12</td>\n",
       "      <td>56.0</td>\n",
       "      <td>412.0</td>\n",
       "      <td>44.0</td>\n",
       "      <td>19369.18</td>\n",
       "      <td>19.0</td>\n",
       "      <td>50</td>\n",
       "      <td>...</td>\n",
       "      <td>500</td>\n",
       "      <td>20</td>\n",
       "      <td>10</td>\n",
       "      <td>0.03</td>\n",
       "      <td>0.03</td>\n",
       "      <td>15.0</td>\n",
       "      <td>0.0</td>\n",
       "      <td>0.00</td>\n",
       "      <td>40.0</td>\n",
       "      <td>60.00</td>\n",
       "    </tr>\n",
       "    <tr>\n",
       "      <th>...</th>\n",
       "      <td>...</td>\n",
       "      <td>...</td>\n",
       "      <td>...</td>\n",
       "      <td>...</td>\n",
       "      <td>...</td>\n",
       "      <td>...</td>\n",
       "      <td>...</td>\n",
       "      <td>...</td>\n",
       "      <td>...</td>\n",
       "      <td>...</td>\n",
       "      <td>...</td>\n",
       "      <td>...</td>\n",
       "      <td>...</td>\n",
       "      <td>...</td>\n",
       "      <td>...</td>\n",
       "      <td>...</td>\n",
       "      <td>...</td>\n",
       "      <td>...</td>\n",
       "      <td>...</td>\n",
       "      <td>...</td>\n",
       "      <td>...</td>\n",
       "    </tr>\n",
       "    <tr>\n",
       "      <th>2288</th>\n",
       "      <td>1204</td>\n",
       "      <td>ultimate</td>\n",
       "      <td>Chicago-Naperville-Elgin, IL-IN-WI MSA</td>\n",
       "      <td>12</td>\n",
       "      <td>0.0</td>\n",
       "      <td>0.0</td>\n",
       "      <td>78.0</td>\n",
       "      <td>36730.05</td>\n",
       "      <td>36.0</td>\n",
       "      <td>1000</td>\n",
       "      <td>...</td>\n",
       "      <td>3000</td>\n",
       "      <td>70</td>\n",
       "      <td>7</td>\n",
       "      <td>0.01</td>\n",
       "      <td>0.01</td>\n",
       "      <td>30.0</td>\n",
       "      <td>0.0</td>\n",
       "      <td>0.00</td>\n",
       "      <td>42.0</td>\n",
       "      <td>112.00</td>\n",
       "    </tr>\n",
       "    <tr>\n",
       "      <th>2289</th>\n",
       "      <td>1224</td>\n",
       "      <td>ultimate</td>\n",
       "      <td>Atlanta-Sandy Springs-Roswell, GA MSA</td>\n",
       "      <td>6</td>\n",
       "      <td>0.0</td>\n",
       "      <td>0.0</td>\n",
       "      <td>5.0</td>\n",
       "      <td>2966.21</td>\n",
       "      <td>3.0</td>\n",
       "      <td>1000</td>\n",
       "      <td>...</td>\n",
       "      <td>3000</td>\n",
       "      <td>70</td>\n",
       "      <td>7</td>\n",
       "      <td>0.01</td>\n",
       "      <td>0.01</td>\n",
       "      <td>30.0</td>\n",
       "      <td>0.0</td>\n",
       "      <td>0.00</td>\n",
       "      <td>0.0</td>\n",
       "      <td>70.00</td>\n",
       "    </tr>\n",
       "    <tr>\n",
       "      <th>2290</th>\n",
       "      <td>1482</td>\n",
       "      <td>ultimate</td>\n",
       "      <td>New York-Newark-Jersey City, NY-NJ-PA MSA</td>\n",
       "      <td>10</td>\n",
       "      <td>0.0</td>\n",
       "      <td>0.0</td>\n",
       "      <td>2.0</td>\n",
       "      <td>0.00</td>\n",
       "      <td>0.0</td>\n",
       "      <td>1000</td>\n",
       "      <td>...</td>\n",
       "      <td>3000</td>\n",
       "      <td>70</td>\n",
       "      <td>7</td>\n",
       "      <td>0.01</td>\n",
       "      <td>0.01</td>\n",
       "      <td>30.0</td>\n",
       "      <td>0.0</td>\n",
       "      <td>0.00</td>\n",
       "      <td>0.0</td>\n",
       "      <td>70.00</td>\n",
       "    </tr>\n",
       "    <tr>\n",
       "      <th>2291</th>\n",
       "      <td>1108</td>\n",
       "      <td>ultimate</td>\n",
       "      <td>Salt Lake City, UT MSA</td>\n",
       "      <td>12</td>\n",
       "      <td>0.0</td>\n",
       "      <td>0.0</td>\n",
       "      <td>0.0</td>\n",
       "      <td>233.17</td>\n",
       "      <td>1.0</td>\n",
       "      <td>1000</td>\n",
       "      <td>...</td>\n",
       "      <td>3000</td>\n",
       "      <td>70</td>\n",
       "      <td>7</td>\n",
       "      <td>0.01</td>\n",
       "      <td>0.01</td>\n",
       "      <td>30.0</td>\n",
       "      <td>0.0</td>\n",
       "      <td>0.00</td>\n",
       "      <td>0.0</td>\n",
       "      <td>70.00</td>\n",
       "    </tr>\n",
       "    <tr>\n",
       "      <th>2292</th>\n",
       "      <td>1311</td>\n",
       "      <td>ultimate</td>\n",
       "      <td>Memphis, TN-MS-AR MSA</td>\n",
       "      <td>6</td>\n",
       "      <td>0.0</td>\n",
       "      <td>0.0</td>\n",
       "      <td>0.0</td>\n",
       "      <td>1498.83</td>\n",
       "      <td>2.0</td>\n",
       "      <td>1000</td>\n",
       "      <td>...</td>\n",
       "      <td>3000</td>\n",
       "      <td>70</td>\n",
       "      <td>7</td>\n",
       "      <td>0.01</td>\n",
       "      <td>0.01</td>\n",
       "      <td>30.0</td>\n",
       "      <td>0.0</td>\n",
       "      <td>0.00</td>\n",
       "      <td>0.0</td>\n",
       "      <td>70.00</td>\n",
       "    </tr>\n",
       "  </tbody>\n",
       "</table>\n",
       "<p>2293 rows × 21 columns</p>\n",
       "</div>"
      ],
      "text/plain": [
       "      user_id plan_name                                       city  month  \\\n",
       "0        1001      surf            Seattle-Tacoma-Bellevue, WA MSA      8   \n",
       "1        1001      surf            Seattle-Tacoma-Bellevue, WA MSA      9   \n",
       "2        1001      surf            Seattle-Tacoma-Bellevue, WA MSA     10   \n",
       "3        1001      surf            Seattle-Tacoma-Bellevue, WA MSA     11   \n",
       "4        1001      surf            Seattle-Tacoma-Bellevue, WA MSA     12   \n",
       "...       ...       ...                                        ...    ...   \n",
       "2288     1204  ultimate     Chicago-Naperville-Elgin, IL-IN-WI MSA     12   \n",
       "2289     1224  ultimate      Atlanta-Sandy Springs-Roswell, GA MSA      6   \n",
       "2290     1482  ultimate  New York-Newark-Jersey City, NY-NJ-PA MSA     10   \n",
       "2291     1108  ultimate                     Salt Lake City, UT MSA     12   \n",
       "2292     1311  ultimate                      Memphis, TN-MS-AR MSA      6   \n",
       "\n",
       "      n_calls  duration_round  n_sms   mb_used  gb_round  messages_included  \\\n",
       "0        27.0           182.0   30.0   6919.15       7.0                 50   \n",
       "1        49.0           315.0   44.0  13314.82      14.0                 50   \n",
       "2        65.0           393.0   53.0  22330.49      22.0                 50   \n",
       "3        64.0           426.0   36.0  18504.30      19.0                 50   \n",
       "4        56.0           412.0   44.0  19369.18      19.0                 50   \n",
       "...       ...             ...    ...       ...       ...                ...   \n",
       "2288      0.0             0.0   78.0  36730.05      36.0               1000   \n",
       "2289      0.0             0.0    5.0   2966.21       3.0               1000   \n",
       "2290      0.0             0.0    2.0      0.00       0.0               1000   \n",
       "2291      0.0             0.0    0.0    233.17       1.0               1000   \n",
       "2292      0.0             0.0    0.0   1498.83       2.0               1000   \n",
       "\n",
       "      ...  minutes_included  usd_monthly_pay  usd_per_gb  usd_per_message  \\\n",
       "0     ...               500               20          10             0.03   \n",
       "1     ...               500               20          10             0.03   \n",
       "2     ...               500               20          10             0.03   \n",
       "3     ...               500               20          10             0.03   \n",
       "4     ...               500               20          10             0.03   \n",
       "...   ...               ...              ...         ...              ...   \n",
       "2288  ...              3000               70           7             0.01   \n",
       "2289  ...              3000               70           7             0.01   \n",
       "2290  ...              3000               70           7             0.01   \n",
       "2291  ...              3000               70           7             0.01   \n",
       "2292  ...              3000               70           7             0.01   \n",
       "\n",
       "      usd_per_minute  gb_per_month_included  cargo_calls  cargo_sms  \\\n",
       "0               0.03                   15.0          0.0       0.00   \n",
       "1               0.03                   15.0          0.0       0.00   \n",
       "2               0.03                   15.0          0.0       0.09   \n",
       "3               0.03                   15.0          0.0       0.00   \n",
       "4               0.03                   15.0          0.0       0.00   \n",
       "...              ...                    ...          ...        ...   \n",
       "2288            0.01                   30.0          0.0       0.00   \n",
       "2289            0.01                   30.0          0.0       0.00   \n",
       "2290            0.01                   30.0          0.0       0.00   \n",
       "2291            0.01                   30.0          0.0       0.00   \n",
       "2292            0.01                   30.0          0.0       0.00   \n",
       "\n",
       "      cargo_internet  total_ingreso  \n",
       "0                0.0          20.00  \n",
       "1                0.0          20.00  \n",
       "2               70.0          90.09  \n",
       "3               40.0          60.00  \n",
       "4               40.0          60.00  \n",
       "...              ...            ...  \n",
       "2288            42.0         112.00  \n",
       "2289             0.0          70.00  \n",
       "2290             0.0          70.00  \n",
       "2291             0.0          70.00  \n",
       "2292             0.0          70.00  \n",
       "\n",
       "[2293 rows x 21 columns]"
      ]
     },
     "metadata": {},
     "output_type": "display_data"
    }
   ],
   "source": [
    "calls_month = calls_data.groupby(['user_id','month'])['id'].count().reset_index()\n",
    "display(calls_month.head())\n",
    "\n",
    "sms_month = messages_data.groupby(['user_id','month'])['id'].count().reset_index()\n",
    "display(sms_month.head())\n",
    "\n",
    "# Calcula el volumen del trafico de internet usado por cada usuario por mes. Guarda el resultado.\n",
    "mb_month = internet_data.groupby(['user_id','month'])['mb_used'].sum().reset_index()\n",
    "\n",
    "#Redondeamos el consumo mensual 1gb = 1024 mb, \n",
    "#el redondeo es por mes, no individual como las llamadas.\n",
    "\n",
    "mb_month['gb_round'] = mb_month['mb_used'] / 1024\n",
    "mb_month['gb_round'] = np.ceil(mb_month['gb_round'])\n",
    "display(mb_month.head())\n",
    "\n",
    "# Calcula la cantidad de minutos que usó cada usuario por mes. Guarda el resultado.\n",
    "calls_data['duration_round'] = np.ceil(calls_data['duration'])\n",
    "min_month = calls_data.groupby(['user_id','month'])['duration_round'].sum().reset_index()\n",
    "display(min_month.head())\n",
    "\n",
    "resumen = (pd.merge(calls_month, min_month, on=['user_id', 'month'], how='outer')\n",
    "             .merge(sms_month, on=['user_id', 'month'], how='outer')\n",
    "             .merge(mb_month, on=['user_id', 'month'], how='outer')\n",
    "          )\n",
    "\n",
    "# Renombramos las columas para cantidad de mensajes y llamadas\n",
    "resumen = resumen.rename(columns={'id_x': 'n_calls'})\n",
    "resumen = resumen.rename(columns={'id_y': 'n_sms'}) \n",
    "resumen = resumen.fillna(0)\n",
    "        \n",
    "# Añade la información del plan\n",
    "   \n",
    "users = user_data[['user_id', 'plan_name', 'city']]\n",
    "\n",
    "\n",
    "resumen = users.merge(resumen, on=['user_id'], how='right').merge(plans_data, on='plan_name', how='right')\n",
    "\n",
    "#Agregamos una columna para dejar los megas inluídos en el plan en gigas\n",
    "\n",
    "resumen['gb_per_month_included'] = resumen['mb_per_month_included'] / 1024\n",
    "\n",
    "        # Calcula el ingreso mensual para cada usuario\n",
    "#Llamadas\n",
    "resumen['cargo_calls'] = (resumen['duration_round'] - resumen['minutes_included']) * resumen['usd_per_minute'] \n",
    "\n",
    "#Corregimos los números negativos dejándolos en 0 ya que no sobrepasaron los límites del plan\n",
    "resumen['cargo_calls'] = np.where(resumen['cargo_calls'] < 0, 0, resumen['cargo_calls'])\n",
    "\n",
    "\n",
    "#SMS\n",
    "resumen['cargo_sms'] = (resumen['n_sms'] - resumen['messages_included']) * resumen['usd_per_message'] \n",
    "\n",
    "#Corregimos los números negativos dejándolos en 0 ya que no sobrepasaron los límites del plan\n",
    "resumen['cargo_sms'] = np.where(resumen['cargo_sms'] < 0, 0, resumen['cargo_sms'])\n",
    "\n",
    "\n",
    "#Internet\n",
    "resumen['cargo_internet'] = (resumen['gb_round'] - resumen['gb_per_month_included']) * resumen['usd_per_gb']\n",
    "\n",
    "\n",
    "#Corregimos los números negativos dejándolos en 0 ya que no sobrepasaron los límites del plan\n",
    "resumen['cargo_internet'] = np.where(resumen['cargo_internet'] < 0, 0, resumen['cargo_internet'])\n",
    "\n",
    "#Agregamos una columna con el ingreso total\n",
    "resumen['total_ingreso'] = resumen['usd_monthly_pay'] + resumen['cargo_calls'] + resumen['cargo_sms'] + resumen['cargo_internet']\n",
    "\n",
    "resumen.head()\n",
    "       \n",
    "display(resumen)"
   ]
  },
  {
   "cell_type": "code",
   "execution_count": 28,
   "metadata": {},
   "outputs": [
    {
     "data": {
      "text/html": [
       "<div>\n",
       "<style scoped>\n",
       "    .dataframe tbody tr th:only-of-type {\n",
       "        vertical-align: middle;\n",
       "    }\n",
       "\n",
       "    .dataframe tbody tr th {\n",
       "        vertical-align: top;\n",
       "    }\n",
       "\n",
       "    .dataframe thead th {\n",
       "        text-align: right;\n",
       "    }\n",
       "</style>\n",
       "<table border=\"1\" class=\"dataframe\">\n",
       "  <thead>\n",
       "    <tr style=\"text-align: right;\">\n",
       "      <th></th>\n",
       "      <th>user_id</th>\n",
       "      <th>plan_name</th>\n",
       "      <th>city</th>\n",
       "      <th>month</th>\n",
       "      <th>n_calls</th>\n",
       "      <th>duration_round</th>\n",
       "      <th>n_sms</th>\n",
       "      <th>mb_used</th>\n",
       "      <th>gb_round</th>\n",
       "      <th>messages_included</th>\n",
       "      <th>...</th>\n",
       "      <th>minutes_included</th>\n",
       "      <th>usd_monthly_pay</th>\n",
       "      <th>usd_per_gb</th>\n",
       "      <th>usd_per_message</th>\n",
       "      <th>usd_per_minute</th>\n",
       "      <th>gb_per_month_included</th>\n",
       "      <th>cargo_calls</th>\n",
       "      <th>cargo_sms</th>\n",
       "      <th>cargo_internet</th>\n",
       "      <th>total_ingreso</th>\n",
       "    </tr>\n",
       "  </thead>\n",
       "  <tbody>\n",
       "    <tr>\n",
       "      <th>0</th>\n",
       "      <td>1001</td>\n",
       "      <td>surf</td>\n",
       "      <td>Seattle-Tacoma-Bellevue, WA MSA</td>\n",
       "      <td>8</td>\n",
       "      <td>27.0</td>\n",
       "      <td>182.0</td>\n",
       "      <td>30.0</td>\n",
       "      <td>6919.15</td>\n",
       "      <td>7.0</td>\n",
       "      <td>50</td>\n",
       "      <td>...</td>\n",
       "      <td>500</td>\n",
       "      <td>20</td>\n",
       "      <td>10</td>\n",
       "      <td>0.03</td>\n",
       "      <td>0.03</td>\n",
       "      <td>15.0</td>\n",
       "      <td>0.0</td>\n",
       "      <td>0.00</td>\n",
       "      <td>0.0</td>\n",
       "      <td>20.00</td>\n",
       "    </tr>\n",
       "    <tr>\n",
       "      <th>1</th>\n",
       "      <td>1001</td>\n",
       "      <td>surf</td>\n",
       "      <td>Seattle-Tacoma-Bellevue, WA MSA</td>\n",
       "      <td>9</td>\n",
       "      <td>49.0</td>\n",
       "      <td>315.0</td>\n",
       "      <td>44.0</td>\n",
       "      <td>13314.82</td>\n",
       "      <td>14.0</td>\n",
       "      <td>50</td>\n",
       "      <td>...</td>\n",
       "      <td>500</td>\n",
       "      <td>20</td>\n",
       "      <td>10</td>\n",
       "      <td>0.03</td>\n",
       "      <td>0.03</td>\n",
       "      <td>15.0</td>\n",
       "      <td>0.0</td>\n",
       "      <td>0.00</td>\n",
       "      <td>0.0</td>\n",
       "      <td>20.00</td>\n",
       "    </tr>\n",
       "    <tr>\n",
       "      <th>2</th>\n",
       "      <td>1001</td>\n",
       "      <td>surf</td>\n",
       "      <td>Seattle-Tacoma-Bellevue, WA MSA</td>\n",
       "      <td>10</td>\n",
       "      <td>65.0</td>\n",
       "      <td>393.0</td>\n",
       "      <td>53.0</td>\n",
       "      <td>22330.49</td>\n",
       "      <td>22.0</td>\n",
       "      <td>50</td>\n",
       "      <td>...</td>\n",
       "      <td>500</td>\n",
       "      <td>20</td>\n",
       "      <td>10</td>\n",
       "      <td>0.03</td>\n",
       "      <td>0.03</td>\n",
       "      <td>15.0</td>\n",
       "      <td>0.0</td>\n",
       "      <td>0.09</td>\n",
       "      <td>70.0</td>\n",
       "      <td>90.09</td>\n",
       "    </tr>\n",
       "    <tr>\n",
       "      <th>3</th>\n",
       "      <td>1001</td>\n",
       "      <td>surf</td>\n",
       "      <td>Seattle-Tacoma-Bellevue, WA MSA</td>\n",
       "      <td>11</td>\n",
       "      <td>64.0</td>\n",
       "      <td>426.0</td>\n",
       "      <td>36.0</td>\n",
       "      <td>18504.30</td>\n",
       "      <td>19.0</td>\n",
       "      <td>50</td>\n",
       "      <td>...</td>\n",
       "      <td>500</td>\n",
       "      <td>20</td>\n",
       "      <td>10</td>\n",
       "      <td>0.03</td>\n",
       "      <td>0.03</td>\n",
       "      <td>15.0</td>\n",
       "      <td>0.0</td>\n",
       "      <td>0.00</td>\n",
       "      <td>40.0</td>\n",
       "      <td>60.00</td>\n",
       "    </tr>\n",
       "    <tr>\n",
       "      <th>4</th>\n",
       "      <td>1001</td>\n",
       "      <td>surf</td>\n",
       "      <td>Seattle-Tacoma-Bellevue, WA MSA</td>\n",
       "      <td>12</td>\n",
       "      <td>56.0</td>\n",
       "      <td>412.0</td>\n",
       "      <td>44.0</td>\n",
       "      <td>19369.18</td>\n",
       "      <td>19.0</td>\n",
       "      <td>50</td>\n",
       "      <td>...</td>\n",
       "      <td>500</td>\n",
       "      <td>20</td>\n",
       "      <td>10</td>\n",
       "      <td>0.03</td>\n",
       "      <td>0.03</td>\n",
       "      <td>15.0</td>\n",
       "      <td>0.0</td>\n",
       "      <td>0.00</td>\n",
       "      <td>40.0</td>\n",
       "      <td>60.00</td>\n",
       "    </tr>\n",
       "  </tbody>\n",
       "</table>\n",
       "<p>5 rows × 21 columns</p>\n",
       "</div>"
      ],
      "text/plain": [
       "   user_id plan_name                             city  month  n_calls  \\\n",
       "0     1001      surf  Seattle-Tacoma-Bellevue, WA MSA      8     27.0   \n",
       "1     1001      surf  Seattle-Tacoma-Bellevue, WA MSA      9     49.0   \n",
       "2     1001      surf  Seattle-Tacoma-Bellevue, WA MSA     10     65.0   \n",
       "3     1001      surf  Seattle-Tacoma-Bellevue, WA MSA     11     64.0   \n",
       "4     1001      surf  Seattle-Tacoma-Bellevue, WA MSA     12     56.0   \n",
       "\n",
       "   duration_round  n_sms   mb_used  gb_round  messages_included  ...  \\\n",
       "0           182.0   30.0   6919.15       7.0                 50  ...   \n",
       "1           315.0   44.0  13314.82      14.0                 50  ...   \n",
       "2           393.0   53.0  22330.49      22.0                 50  ...   \n",
       "3           426.0   36.0  18504.30      19.0                 50  ...   \n",
       "4           412.0   44.0  19369.18      19.0                 50  ...   \n",
       "\n",
       "   minutes_included  usd_monthly_pay  usd_per_gb  usd_per_message  \\\n",
       "0               500               20          10             0.03   \n",
       "1               500               20          10             0.03   \n",
       "2               500               20          10             0.03   \n",
       "3               500               20          10             0.03   \n",
       "4               500               20          10             0.03   \n",
       "\n",
       "   usd_per_minute  gb_per_month_included  cargo_calls  cargo_sms  \\\n",
       "0            0.03                   15.0          0.0       0.00   \n",
       "1            0.03                   15.0          0.0       0.00   \n",
       "2            0.03                   15.0          0.0       0.09   \n",
       "3            0.03                   15.0          0.0       0.00   \n",
       "4            0.03                   15.0          0.0       0.00   \n",
       "\n",
       "   cargo_internet  total_ingreso  \n",
       "0             0.0          20.00  \n",
       "1             0.0          20.00  \n",
       "2            70.0          90.09  \n",
       "3            40.0          60.00  \n",
       "4            40.0          60.00  \n",
       "\n",
       "[5 rows x 21 columns]"
      ]
     },
     "execution_count": 28,
     "metadata": {},
     "output_type": "execute_result"
    }
   ],
   "source": [
    "resumen.query(\"user_id == 1001\")"
   ]
  },
  {
   "cell_type": "code",
   "execution_count": 29,
   "metadata": {
    "id": "A332cedB0q1G",
    "scrolled": true
   },
   "outputs": [
    {
     "data": {
      "text/html": [
       "<div>\n",
       "<style scoped>\n",
       "    .dataframe tbody tr th:only-of-type {\n",
       "        vertical-align: middle;\n",
       "    }\n",
       "\n",
       "    .dataframe tbody tr th {\n",
       "        vertical-align: top;\n",
       "    }\n",
       "\n",
       "    .dataframe thead th {\n",
       "        text-align: right;\n",
       "    }\n",
       "</style>\n",
       "<table border=\"1\" class=\"dataframe\">\n",
       "  <thead>\n",
       "    <tr style=\"text-align: right;\">\n",
       "      <th></th>\n",
       "      <th>user_id</th>\n",
       "      <th>month</th>\n",
       "      <th>total_calls</th>\n",
       "    </tr>\n",
       "  </thead>\n",
       "  <tbody>\n",
       "    <tr>\n",
       "      <th>0</th>\n",
       "      <td>1000</td>\n",
       "      <td>12</td>\n",
       "      <td>16</td>\n",
       "    </tr>\n",
       "    <tr>\n",
       "      <th>1</th>\n",
       "      <td>1001</td>\n",
       "      <td>8</td>\n",
       "      <td>27</td>\n",
       "    </tr>\n",
       "    <tr>\n",
       "      <th>2</th>\n",
       "      <td>1001</td>\n",
       "      <td>9</td>\n",
       "      <td>49</td>\n",
       "    </tr>\n",
       "    <tr>\n",
       "      <th>3</th>\n",
       "      <td>1001</td>\n",
       "      <td>10</td>\n",
       "      <td>65</td>\n",
       "    </tr>\n",
       "    <tr>\n",
       "      <th>4</th>\n",
       "      <td>1001</td>\n",
       "      <td>11</td>\n",
       "      <td>64</td>\n",
       "    </tr>\n",
       "  </tbody>\n",
       "</table>\n",
       "</div>"
      ],
      "text/plain": [
       "   user_id  month  total_calls\n",
       "0     1000     12           16\n",
       "1     1001      8           27\n",
       "2     1001      9           49\n",
       "3     1001     10           65\n",
       "4     1001     11           64"
      ]
     },
     "metadata": {},
     "output_type": "display_data"
    }
   ],
   "source": [
    "# Calcula el número de llamadas hechas por cada usuario al mes. Guarda el resultado.\n",
    "calls_per_used_per_month = calls_data.groupby(['user_id', 'month'])['id'].count().reset_index(name='total_calls')\n",
    "display(calls_per_used_per_month.head())"
   ]
  },
  {
   "cell_type": "code",
   "execution_count": 30,
   "metadata": {
    "id": "aw2cmuql0q1G"
   },
   "outputs": [
    {
     "data": {
      "text/html": [
       "<div>\n",
       "<style scoped>\n",
       "    .dataframe tbody tr th:only-of-type {\n",
       "        vertical-align: middle;\n",
       "    }\n",
       "\n",
       "    .dataframe tbody tr th {\n",
       "        vertical-align: top;\n",
       "    }\n",
       "\n",
       "    .dataframe thead th {\n",
       "        text-align: right;\n",
       "    }\n",
       "</style>\n",
       "<table border=\"1\" class=\"dataframe\">\n",
       "  <thead>\n",
       "    <tr style=\"text-align: right;\">\n",
       "      <th></th>\n",
       "      <th>user_id</th>\n",
       "      <th>month</th>\n",
       "      <th>total_duration</th>\n",
       "    </tr>\n",
       "  </thead>\n",
       "  <tbody>\n",
       "    <tr>\n",
       "      <th>0</th>\n",
       "      <td>1000</td>\n",
       "      <td>12</td>\n",
       "      <td>116.83</td>\n",
       "    </tr>\n",
       "    <tr>\n",
       "      <th>1</th>\n",
       "      <td>1001</td>\n",
       "      <td>8</td>\n",
       "      <td>171.14</td>\n",
       "    </tr>\n",
       "    <tr>\n",
       "      <th>2</th>\n",
       "      <td>1001</td>\n",
       "      <td>9</td>\n",
       "      <td>297.69</td>\n",
       "    </tr>\n",
       "    <tr>\n",
       "      <th>3</th>\n",
       "      <td>1001</td>\n",
       "      <td>10</td>\n",
       "      <td>374.11</td>\n",
       "    </tr>\n",
       "    <tr>\n",
       "      <th>4</th>\n",
       "      <td>1001</td>\n",
       "      <td>11</td>\n",
       "      <td>404.59</td>\n",
       "    </tr>\n",
       "  </tbody>\n",
       "</table>\n",
       "</div>"
      ],
      "text/plain": [
       "   user_id  month  total_duration\n",
       "0     1000     12          116.83\n",
       "1     1001      8          171.14\n",
       "2     1001      9          297.69\n",
       "3     1001     10          374.11\n",
       "4     1001     11          404.59"
      ]
     },
     "metadata": {},
     "output_type": "display_data"
    }
   ],
   "source": [
    "# Calcula la cantidad de minutos usados por cada usuario al mes. Guarda el resultado.\n",
    "minutes_used_per_month = calls_data.groupby(['user_id', 'month'])['duration'].sum().reset_index(name= 'total_duration')\n",
    "display(minutes_used_per_month.head())\n"
   ]
  },
  {
   "cell_type": "code",
   "execution_count": 31,
   "metadata": {
    "id": "CcQvNHn60q1G"
   },
   "outputs": [
    {
     "data": {
      "text/html": [
       "<div>\n",
       "<style scoped>\n",
       "    .dataframe tbody tr th:only-of-type {\n",
       "        vertical-align: middle;\n",
       "    }\n",
       "\n",
       "    .dataframe tbody tr th {\n",
       "        vertical-align: top;\n",
       "    }\n",
       "\n",
       "    .dataframe thead th {\n",
       "        text-align: right;\n",
       "    }\n",
       "</style>\n",
       "<table border=\"1\" class=\"dataframe\">\n",
       "  <thead>\n",
       "    <tr style=\"text-align: right;\">\n",
       "      <th></th>\n",
       "      <th>user_id</th>\n",
       "      <th>month</th>\n",
       "      <th>id</th>\n",
       "      <th>total_messages</th>\n",
       "    </tr>\n",
       "  </thead>\n",
       "  <tbody>\n",
       "    <tr>\n",
       "      <th>0</th>\n",
       "      <td>1000</td>\n",
       "      <td>12</td>\n",
       "      <td>11</td>\n",
       "      <td>11</td>\n",
       "    </tr>\n",
       "    <tr>\n",
       "      <th>1</th>\n",
       "      <td>1001</td>\n",
       "      <td>8</td>\n",
       "      <td>30</td>\n",
       "      <td>30</td>\n",
       "    </tr>\n",
       "    <tr>\n",
       "      <th>2</th>\n",
       "      <td>1001</td>\n",
       "      <td>9</td>\n",
       "      <td>44</td>\n",
       "      <td>44</td>\n",
       "    </tr>\n",
       "    <tr>\n",
       "      <th>3</th>\n",
       "      <td>1001</td>\n",
       "      <td>10</td>\n",
       "      <td>53</td>\n",
       "      <td>53</td>\n",
       "    </tr>\n",
       "    <tr>\n",
       "      <th>4</th>\n",
       "      <td>1001</td>\n",
       "      <td>11</td>\n",
       "      <td>36</td>\n",
       "      <td>36</td>\n",
       "    </tr>\n",
       "  </tbody>\n",
       "</table>\n",
       "</div>"
      ],
      "text/plain": [
       "   user_id  month  id  total_messages\n",
       "0     1000     12  11              11\n",
       "1     1001      8  30              30\n",
       "2     1001      9  44              44\n",
       "3     1001     10  53              53\n",
       "4     1001     11  36              36"
      ]
     },
     "metadata": {},
     "output_type": "display_data"
    }
   ],
   "source": [
    "# Calcula el número de mensajes enviados por cada usuario al mes. Guarda el resultado.\n",
    "sms_per_user_per_month = messages_data.groupby(['user_id', 'month']).count()\n",
    "sms_per_user_per_month = sms_per_user_per_month.reset_index().rename(columns={'message_date': 'total_messages'})\n",
    "display(sms_per_user_per_month.head())\n",
    "\n",
    "\n"
   ]
  },
  {
   "cell_type": "code",
   "execution_count": 32,
   "metadata": {
    "id": "H1AqN2eG0q1H"
   },
   "outputs": [
    {
     "data": {
      "text/html": [
       "<div>\n",
       "<style scoped>\n",
       "    .dataframe tbody tr th:only-of-type {\n",
       "        vertical-align: middle;\n",
       "    }\n",
       "\n",
       "    .dataframe tbody tr th {\n",
       "        vertical-align: top;\n",
       "    }\n",
       "\n",
       "    .dataframe thead th {\n",
       "        text-align: right;\n",
       "    }\n",
       "</style>\n",
       "<table border=\"1\" class=\"dataframe\">\n",
       "  <thead>\n",
       "    <tr style=\"text-align: right;\">\n",
       "      <th></th>\n",
       "      <th>user_id</th>\n",
       "      <th>month</th>\n",
       "      <th>total_mb_used</th>\n",
       "      <th>gb_used</th>\n",
       "    </tr>\n",
       "  </thead>\n",
       "  <tbody>\n",
       "    <tr>\n",
       "      <th>0</th>\n",
       "      <td>1000.0</td>\n",
       "      <td>12.0</td>\n",
       "      <td>1902.0</td>\n",
       "      <td>2.0</td>\n",
       "    </tr>\n",
       "    <tr>\n",
       "      <th>1</th>\n",
       "      <td>1001.0</td>\n",
       "      <td>8.0</td>\n",
       "      <td>6920.0</td>\n",
       "      <td>7.0</td>\n",
       "    </tr>\n",
       "    <tr>\n",
       "      <th>2</th>\n",
       "      <td>1001.0</td>\n",
       "      <td>9.0</td>\n",
       "      <td>13315.0</td>\n",
       "      <td>14.0</td>\n",
       "    </tr>\n",
       "    <tr>\n",
       "      <th>3</th>\n",
       "      <td>1001.0</td>\n",
       "      <td>10.0</td>\n",
       "      <td>22331.0</td>\n",
       "      <td>22.0</td>\n",
       "    </tr>\n",
       "    <tr>\n",
       "      <th>4</th>\n",
       "      <td>1001.0</td>\n",
       "      <td>11.0</td>\n",
       "      <td>18505.0</td>\n",
       "      <td>19.0</td>\n",
       "    </tr>\n",
       "  </tbody>\n",
       "</table>\n",
       "</div>"
      ],
      "text/plain": [
       "   user_id  month  total_mb_used  gb_used\n",
       "0   1000.0   12.0         1902.0      2.0\n",
       "1   1001.0    8.0         6920.0      7.0\n",
       "2   1001.0    9.0        13315.0     14.0\n",
       "3   1001.0   10.0        22331.0     22.0\n",
       "4   1001.0   11.0        18505.0     19.0"
      ]
     },
     "metadata": {},
     "output_type": "display_data"
    }
   ],
   "source": [
    "# Calcula el volumen del tráfico de Internet usado por cada usuario al mes. Guarda el resultado.\n",
    "internet_per_user_per_month = internet_data.groupby(['user_id', 'month']).sum()\n",
    "internet_per_user_per_month = internet_per_user_per_month.reset_index().rename(columns={'mb_used': 'total_mb_used'})\n",
    "internet_per_user_per_month = np.ceil(internet_per_user_per_month)\n",
    "display(internet_per_user_per_month.head())\n",
    "\n",
    "\n"
   ]
  },
  {
   "cell_type": "code",
   "execution_count": 33,
   "metadata": {
    "id": "FW99ykyf0q1H"
   },
   "outputs": [
    {
     "data": {
      "text/html": [
       "<div>\n",
       "<style scoped>\n",
       "    .dataframe tbody tr th:only-of-type {\n",
       "        vertical-align: middle;\n",
       "    }\n",
       "\n",
       "    .dataframe tbody tr th {\n",
       "        vertical-align: top;\n",
       "    }\n",
       "\n",
       "    .dataframe thead th {\n",
       "        text-align: right;\n",
       "    }\n",
       "</style>\n",
       "<table border=\"1\" class=\"dataframe\">\n",
       "  <thead>\n",
       "    <tr style=\"text-align: right;\">\n",
       "      <th></th>\n",
       "      <th>user_id</th>\n",
       "      <th>month</th>\n",
       "      <th>total_calls</th>\n",
       "      <th>total_duration</th>\n",
       "      <th>id</th>\n",
       "      <th>total_messages</th>\n",
       "      <th>total_mb_used</th>\n",
       "      <th>gb_used</th>\n",
       "    </tr>\n",
       "  </thead>\n",
       "  <tbody>\n",
       "    <tr>\n",
       "      <th>0</th>\n",
       "      <td>1000.0</td>\n",
       "      <td>12.0</td>\n",
       "      <td>16.0</td>\n",
       "      <td>116.83</td>\n",
       "      <td>11.0</td>\n",
       "      <td>11.0</td>\n",
       "      <td>1902.0</td>\n",
       "      <td>2.0</td>\n",
       "    </tr>\n",
       "    <tr>\n",
       "      <th>1</th>\n",
       "      <td>1001.0</td>\n",
       "      <td>8.0</td>\n",
       "      <td>27.0</td>\n",
       "      <td>171.14</td>\n",
       "      <td>30.0</td>\n",
       "      <td>30.0</td>\n",
       "      <td>6920.0</td>\n",
       "      <td>7.0</td>\n",
       "    </tr>\n",
       "    <tr>\n",
       "      <th>2</th>\n",
       "      <td>1001.0</td>\n",
       "      <td>9.0</td>\n",
       "      <td>49.0</td>\n",
       "      <td>297.69</td>\n",
       "      <td>44.0</td>\n",
       "      <td>44.0</td>\n",
       "      <td>13315.0</td>\n",
       "      <td>14.0</td>\n",
       "    </tr>\n",
       "    <tr>\n",
       "      <th>3</th>\n",
       "      <td>1001.0</td>\n",
       "      <td>10.0</td>\n",
       "      <td>65.0</td>\n",
       "      <td>374.11</td>\n",
       "      <td>53.0</td>\n",
       "      <td>53.0</td>\n",
       "      <td>22331.0</td>\n",
       "      <td>22.0</td>\n",
       "    </tr>\n",
       "    <tr>\n",
       "      <th>4</th>\n",
       "      <td>1001.0</td>\n",
       "      <td>11.0</td>\n",
       "      <td>64.0</td>\n",
       "      <td>404.59</td>\n",
       "      <td>36.0</td>\n",
       "      <td>36.0</td>\n",
       "      <td>18505.0</td>\n",
       "      <td>19.0</td>\n",
       "    </tr>\n",
       "    <tr>\n",
       "      <th>...</th>\n",
       "      <td>...</td>\n",
       "      <td>...</td>\n",
       "      <td>...</td>\n",
       "      <td>...</td>\n",
       "      <td>...</td>\n",
       "      <td>...</td>\n",
       "      <td>...</td>\n",
       "      <td>...</td>\n",
       "    </tr>\n",
       "    <tr>\n",
       "      <th>2288</th>\n",
       "      <td>1349.0</td>\n",
       "      <td>12.0</td>\n",
       "      <td>0.0</td>\n",
       "      <td>0.00</td>\n",
       "      <td>61.0</td>\n",
       "      <td>61.0</td>\n",
       "      <td>13040.0</td>\n",
       "      <td>13.0</td>\n",
       "    </tr>\n",
       "    <tr>\n",
       "      <th>2289</th>\n",
       "      <td>1361.0</td>\n",
       "      <td>5.0</td>\n",
       "      <td>0.0</td>\n",
       "      <td>0.00</td>\n",
       "      <td>2.0</td>\n",
       "      <td>2.0</td>\n",
       "      <td>1520.0</td>\n",
       "      <td>2.0</td>\n",
       "    </tr>\n",
       "    <tr>\n",
       "      <th>2290</th>\n",
       "      <td>1482.0</td>\n",
       "      <td>10.0</td>\n",
       "      <td>0.0</td>\n",
       "      <td>0.00</td>\n",
       "      <td>2.0</td>\n",
       "      <td>2.0</td>\n",
       "      <td>0.0</td>\n",
       "      <td>0.0</td>\n",
       "    </tr>\n",
       "    <tr>\n",
       "      <th>2291</th>\n",
       "      <td>1108.0</td>\n",
       "      <td>12.0</td>\n",
       "      <td>0.0</td>\n",
       "      <td>0.00</td>\n",
       "      <td>0.0</td>\n",
       "      <td>0.0</td>\n",
       "      <td>234.0</td>\n",
       "      <td>1.0</td>\n",
       "    </tr>\n",
       "    <tr>\n",
       "      <th>2292</th>\n",
       "      <td>1311.0</td>\n",
       "      <td>6.0</td>\n",
       "      <td>0.0</td>\n",
       "      <td>0.00</td>\n",
       "      <td>0.0</td>\n",
       "      <td>0.0</td>\n",
       "      <td>1499.0</td>\n",
       "      <td>2.0</td>\n",
       "    </tr>\n",
       "  </tbody>\n",
       "</table>\n",
       "<p>2293 rows × 8 columns</p>\n",
       "</div>"
      ],
      "text/plain": [
       "      user_id  month  total_calls  total_duration    id  total_messages  \\\n",
       "0      1000.0   12.0         16.0          116.83  11.0            11.0   \n",
       "1      1001.0    8.0         27.0          171.14  30.0            30.0   \n",
       "2      1001.0    9.0         49.0          297.69  44.0            44.0   \n",
       "3      1001.0   10.0         65.0          374.11  53.0            53.0   \n",
       "4      1001.0   11.0         64.0          404.59  36.0            36.0   \n",
       "...       ...    ...          ...             ...   ...             ...   \n",
       "2288   1349.0   12.0          0.0            0.00  61.0            61.0   \n",
       "2289   1361.0    5.0          0.0            0.00   2.0             2.0   \n",
       "2290   1482.0   10.0          0.0            0.00   2.0             2.0   \n",
       "2291   1108.0   12.0          0.0            0.00   0.0             0.0   \n",
       "2292   1311.0    6.0          0.0            0.00   0.0             0.0   \n",
       "\n",
       "      total_mb_used  gb_used  \n",
       "0            1902.0      2.0  \n",
       "1            6920.0      7.0  \n",
       "2           13315.0     14.0  \n",
       "3           22331.0     22.0  \n",
       "4           18505.0     19.0  \n",
       "...             ...      ...  \n",
       "2288        13040.0     13.0  \n",
       "2289         1520.0      2.0  \n",
       "2290            0.0      0.0  \n",
       "2291          234.0      1.0  \n",
       "2292         1499.0      2.0  \n",
       "\n",
       "[2293 rows x 8 columns]"
      ]
     },
     "metadata": {},
     "output_type": "display_data"
    }
   ],
   "source": [
    "# Fusiona los datos de llamadas, minutos, mensajes e Internet con base en user_id y month\n",
    "# Fusion de datos de llamadas y minutos\n",
    "merged_calls_min = pd.merge(calls_per_used_per_month, minutes_used_per_month, on=['user_id', 'month'], how='outer')\n",
    "\n",
    "# Fusion de datos de llamadas, minutos y mensajes\n",
    "merged_calls_min_sms = pd.merge(merged_calls_min, sms_per_user_per_month, on=['user_id', 'month'], how='outer')\n",
    "\n",
    "# Fusion de datos de llamadas, minutos, mensajes e internet\n",
    "fusion_pack = pd.merge(merged_calls_min_sms, internet_per_user_per_month, on=['user_id', 'month'], how='outer')\n",
    "\n",
    "fusion_pack = fusion_pack.fillna(0)\n",
    "\n",
    "display(fusion_pack)\n"
   ]
  },
  {
   "cell_type": "code",
   "execution_count": 34,
   "metadata": {
    "id": "0dNOXHag0q1H"
   },
   "outputs": [
    {
     "data": {
      "text/html": [
       "<div>\n",
       "<style scoped>\n",
       "    .dataframe tbody tr th:only-of-type {\n",
       "        vertical-align: middle;\n",
       "    }\n",
       "\n",
       "    .dataframe tbody tr th {\n",
       "        vertical-align: top;\n",
       "    }\n",
       "\n",
       "    .dataframe thead th {\n",
       "        text-align: right;\n",
       "    }\n",
       "</style>\n",
       "<table border=\"1\" class=\"dataframe\">\n",
       "  <thead>\n",
       "    <tr style=\"text-align: right;\">\n",
       "      <th></th>\n",
       "      <th>user_id</th>\n",
       "      <th>month</th>\n",
       "      <th>total_calls</th>\n",
       "      <th>total_duration</th>\n",
       "      <th>id</th>\n",
       "      <th>total_messages</th>\n",
       "      <th>total_mb_used</th>\n",
       "      <th>gb_used</th>\n",
       "      <th>messages_included</th>\n",
       "      <th>mb_per_month_included</th>\n",
       "      <th>...</th>\n",
       "      <th>usd_per_gb</th>\n",
       "      <th>usd_per_message</th>\n",
       "      <th>usd_per_minute</th>\n",
       "      <th>plan_name</th>\n",
       "      <th>first_name</th>\n",
       "      <th>last_name</th>\n",
       "      <th>age</th>\n",
       "      <th>city</th>\n",
       "      <th>reg_date</th>\n",
       "      <th>churn_date</th>\n",
       "    </tr>\n",
       "  </thead>\n",
       "  <tbody>\n",
       "    <tr>\n",
       "      <th>0</th>\n",
       "      <td>1000.0</td>\n",
       "      <td>12.0</td>\n",
       "      <td>16.0</td>\n",
       "      <td>116.83</td>\n",
       "      <td>11.0</td>\n",
       "      <td>11.0</td>\n",
       "      <td>1902.0</td>\n",
       "      <td>2.0</td>\n",
       "      <td>1000</td>\n",
       "      <td>30720</td>\n",
       "      <td>...</td>\n",
       "      <td>7</td>\n",
       "      <td>0.01</td>\n",
       "      <td>0.01</td>\n",
       "      <td>ultimate</td>\n",
       "      <td>Anamaria</td>\n",
       "      <td>Bauer</td>\n",
       "      <td>45</td>\n",
       "      <td>Atlanta-Sandy Springs-Roswell, GA MSA</td>\n",
       "      <td>2018-12-24</td>\n",
       "      <td>Unknown</td>\n",
       "    </tr>\n",
       "    <tr>\n",
       "      <th>1</th>\n",
       "      <td>1001.0</td>\n",
       "      <td>8.0</td>\n",
       "      <td>27.0</td>\n",
       "      <td>171.14</td>\n",
       "      <td>30.0</td>\n",
       "      <td>30.0</td>\n",
       "      <td>6920.0</td>\n",
       "      <td>7.0</td>\n",
       "      <td>50</td>\n",
       "      <td>15360</td>\n",
       "      <td>...</td>\n",
       "      <td>10</td>\n",
       "      <td>0.03</td>\n",
       "      <td>0.03</td>\n",
       "      <td>surf</td>\n",
       "      <td>Mickey</td>\n",
       "      <td>Wilkerson</td>\n",
       "      <td>28</td>\n",
       "      <td>Seattle-Tacoma-Bellevue, WA MSA</td>\n",
       "      <td>2018-08-13</td>\n",
       "      <td>Unknown</td>\n",
       "    </tr>\n",
       "    <tr>\n",
       "      <th>2</th>\n",
       "      <td>1001.0</td>\n",
       "      <td>9.0</td>\n",
       "      <td>49.0</td>\n",
       "      <td>297.69</td>\n",
       "      <td>44.0</td>\n",
       "      <td>44.0</td>\n",
       "      <td>13315.0</td>\n",
       "      <td>14.0</td>\n",
       "      <td>50</td>\n",
       "      <td>15360</td>\n",
       "      <td>...</td>\n",
       "      <td>10</td>\n",
       "      <td>0.03</td>\n",
       "      <td>0.03</td>\n",
       "      <td>surf</td>\n",
       "      <td>Mickey</td>\n",
       "      <td>Wilkerson</td>\n",
       "      <td>28</td>\n",
       "      <td>Seattle-Tacoma-Bellevue, WA MSA</td>\n",
       "      <td>2018-08-13</td>\n",
       "      <td>Unknown</td>\n",
       "    </tr>\n",
       "    <tr>\n",
       "      <th>3</th>\n",
       "      <td>1001.0</td>\n",
       "      <td>10.0</td>\n",
       "      <td>65.0</td>\n",
       "      <td>374.11</td>\n",
       "      <td>53.0</td>\n",
       "      <td>53.0</td>\n",
       "      <td>22331.0</td>\n",
       "      <td>22.0</td>\n",
       "      <td>50</td>\n",
       "      <td>15360</td>\n",
       "      <td>...</td>\n",
       "      <td>10</td>\n",
       "      <td>0.03</td>\n",
       "      <td>0.03</td>\n",
       "      <td>surf</td>\n",
       "      <td>Mickey</td>\n",
       "      <td>Wilkerson</td>\n",
       "      <td>28</td>\n",
       "      <td>Seattle-Tacoma-Bellevue, WA MSA</td>\n",
       "      <td>2018-08-13</td>\n",
       "      <td>Unknown</td>\n",
       "    </tr>\n",
       "    <tr>\n",
       "      <th>4</th>\n",
       "      <td>1001.0</td>\n",
       "      <td>11.0</td>\n",
       "      <td>64.0</td>\n",
       "      <td>404.59</td>\n",
       "      <td>36.0</td>\n",
       "      <td>36.0</td>\n",
       "      <td>18505.0</td>\n",
       "      <td>19.0</td>\n",
       "      <td>50</td>\n",
       "      <td>15360</td>\n",
       "      <td>...</td>\n",
       "      <td>10</td>\n",
       "      <td>0.03</td>\n",
       "      <td>0.03</td>\n",
       "      <td>surf</td>\n",
       "      <td>Mickey</td>\n",
       "      <td>Wilkerson</td>\n",
       "      <td>28</td>\n",
       "      <td>Seattle-Tacoma-Bellevue, WA MSA</td>\n",
       "      <td>2018-08-13</td>\n",
       "      <td>Unknown</td>\n",
       "    </tr>\n",
       "    <tr>\n",
       "      <th>...</th>\n",
       "      <td>...</td>\n",
       "      <td>...</td>\n",
       "      <td>...</td>\n",
       "      <td>...</td>\n",
       "      <td>...</td>\n",
       "      <td>...</td>\n",
       "      <td>...</td>\n",
       "      <td>...</td>\n",
       "      <td>...</td>\n",
       "      <td>...</td>\n",
       "      <td>...</td>\n",
       "      <td>...</td>\n",
       "      <td>...</td>\n",
       "      <td>...</td>\n",
       "      <td>...</td>\n",
       "      <td>...</td>\n",
       "      <td>...</td>\n",
       "      <td>...</td>\n",
       "      <td>...</td>\n",
       "      <td>...</td>\n",
       "      <td>...</td>\n",
       "    </tr>\n",
       "    <tr>\n",
       "      <th>2288</th>\n",
       "      <td>1349.0</td>\n",
       "      <td>12.0</td>\n",
       "      <td>0.0</td>\n",
       "      <td>0.00</td>\n",
       "      <td>61.0</td>\n",
       "      <td>61.0</td>\n",
       "      <td>13040.0</td>\n",
       "      <td>13.0</td>\n",
       "      <td>50</td>\n",
       "      <td>15360</td>\n",
       "      <td>...</td>\n",
       "      <td>10</td>\n",
       "      <td>0.03</td>\n",
       "      <td>0.03</td>\n",
       "      <td>surf</td>\n",
       "      <td>Florentina</td>\n",
       "      <td>Diaz</td>\n",
       "      <td>69</td>\n",
       "      <td>Boston-Cambridge-Newton, MA-NH MSA</td>\n",
       "      <td>2018-10-01</td>\n",
       "      <td>Unknown</td>\n",
       "    </tr>\n",
       "    <tr>\n",
       "      <th>2289</th>\n",
       "      <td>1361.0</td>\n",
       "      <td>5.0</td>\n",
       "      <td>0.0</td>\n",
       "      <td>0.00</td>\n",
       "      <td>2.0</td>\n",
       "      <td>2.0</td>\n",
       "      <td>1520.0</td>\n",
       "      <td>2.0</td>\n",
       "      <td>50</td>\n",
       "      <td>15360</td>\n",
       "      <td>...</td>\n",
       "      <td>10</td>\n",
       "      <td>0.03</td>\n",
       "      <td>0.03</td>\n",
       "      <td>surf</td>\n",
       "      <td>Jacelyn</td>\n",
       "      <td>Hoffman</td>\n",
       "      <td>45</td>\n",
       "      <td>Birmingham-Hoover, AL MSA</td>\n",
       "      <td>2018-04-14</td>\n",
       "      <td>Unknown</td>\n",
       "    </tr>\n",
       "    <tr>\n",
       "      <th>2290</th>\n",
       "      <td>1482.0</td>\n",
       "      <td>10.0</td>\n",
       "      <td>0.0</td>\n",
       "      <td>0.00</td>\n",
       "      <td>2.0</td>\n",
       "      <td>2.0</td>\n",
       "      <td>0.0</td>\n",
       "      <td>0.0</td>\n",
       "      <td>1000</td>\n",
       "      <td>30720</td>\n",
       "      <td>...</td>\n",
       "      <td>7</td>\n",
       "      <td>0.01</td>\n",
       "      <td>0.01</td>\n",
       "      <td>ultimate</td>\n",
       "      <td>Armand</td>\n",
       "      <td>Glenn</td>\n",
       "      <td>70</td>\n",
       "      <td>New York-Newark-Jersey City, NY-NJ-PA MSA</td>\n",
       "      <td>2018-01-01</td>\n",
       "      <td>Unknown</td>\n",
       "    </tr>\n",
       "    <tr>\n",
       "      <th>2291</th>\n",
       "      <td>1108.0</td>\n",
       "      <td>12.0</td>\n",
       "      <td>0.0</td>\n",
       "      <td>0.00</td>\n",
       "      <td>0.0</td>\n",
       "      <td>0.0</td>\n",
       "      <td>234.0</td>\n",
       "      <td>1.0</td>\n",
       "      <td>1000</td>\n",
       "      <td>30720</td>\n",
       "      <td>...</td>\n",
       "      <td>7</td>\n",
       "      <td>0.01</td>\n",
       "      <td>0.01</td>\n",
       "      <td>ultimate</td>\n",
       "      <td>Porfirio</td>\n",
       "      <td>Kane</td>\n",
       "      <td>45</td>\n",
       "      <td>Salt Lake City, UT MSA</td>\n",
       "      <td>2018-12-30</td>\n",
       "      <td>Unknown</td>\n",
       "    </tr>\n",
       "    <tr>\n",
       "      <th>2292</th>\n",
       "      <td>1311.0</td>\n",
       "      <td>6.0</td>\n",
       "      <td>0.0</td>\n",
       "      <td>0.00</td>\n",
       "      <td>0.0</td>\n",
       "      <td>0.0</td>\n",
       "      <td>1499.0</td>\n",
       "      <td>2.0</td>\n",
       "      <td>1000</td>\n",
       "      <td>30720</td>\n",
       "      <td>...</td>\n",
       "      <td>7</td>\n",
       "      <td>0.01</td>\n",
       "      <td>0.01</td>\n",
       "      <td>ultimate</td>\n",
       "      <td>Cherlyn</td>\n",
       "      <td>Saunders</td>\n",
       "      <td>69</td>\n",
       "      <td>Memphis, TN-MS-AR MSA</td>\n",
       "      <td>2018-06-27</td>\n",
       "      <td>Unknown</td>\n",
       "    </tr>\n",
       "  </tbody>\n",
       "</table>\n",
       "<p>2293 rows × 22 columns</p>\n",
       "</div>"
      ],
      "text/plain": [
       "      user_id  month  total_calls  total_duration    id  total_messages  \\\n",
       "0      1000.0   12.0         16.0          116.83  11.0            11.0   \n",
       "1      1001.0    8.0         27.0          171.14  30.0            30.0   \n",
       "2      1001.0    9.0         49.0          297.69  44.0            44.0   \n",
       "3      1001.0   10.0         65.0          374.11  53.0            53.0   \n",
       "4      1001.0   11.0         64.0          404.59  36.0            36.0   \n",
       "...       ...    ...          ...             ...   ...             ...   \n",
       "2288   1349.0   12.0          0.0            0.00  61.0            61.0   \n",
       "2289   1361.0    5.0          0.0            0.00   2.0             2.0   \n",
       "2290   1482.0   10.0          0.0            0.00   2.0             2.0   \n",
       "2291   1108.0   12.0          0.0            0.00   0.0             0.0   \n",
       "2292   1311.0    6.0          0.0            0.00   0.0             0.0   \n",
       "\n",
       "      total_mb_used  gb_used  messages_included  mb_per_month_included  ...  \\\n",
       "0            1902.0      2.0               1000                  30720  ...   \n",
       "1            6920.0      7.0                 50                  15360  ...   \n",
       "2           13315.0     14.0                 50                  15360  ...   \n",
       "3           22331.0     22.0                 50                  15360  ...   \n",
       "4           18505.0     19.0                 50                  15360  ...   \n",
       "...             ...      ...                ...                    ...  ...   \n",
       "2288        13040.0     13.0                 50                  15360  ...   \n",
       "2289         1520.0      2.0                 50                  15360  ...   \n",
       "2290            0.0      0.0               1000                  30720  ...   \n",
       "2291          234.0      1.0               1000                  30720  ...   \n",
       "2292         1499.0      2.0               1000                  30720  ...   \n",
       "\n",
       "      usd_per_gb  usd_per_message  usd_per_minute  plan_name  first_name  \\\n",
       "0              7             0.01            0.01   ultimate    Anamaria   \n",
       "1             10             0.03            0.03       surf      Mickey   \n",
       "2             10             0.03            0.03       surf      Mickey   \n",
       "3             10             0.03            0.03       surf      Mickey   \n",
       "4             10             0.03            0.03       surf      Mickey   \n",
       "...          ...              ...             ...        ...         ...   \n",
       "2288          10             0.03            0.03       surf  Florentina   \n",
       "2289          10             0.03            0.03       surf     Jacelyn   \n",
       "2290           7             0.01            0.01   ultimate      Armand   \n",
       "2291           7             0.01            0.01   ultimate    Porfirio   \n",
       "2292           7             0.01            0.01   ultimate     Cherlyn   \n",
       "\n",
       "      last_name age                                       city    reg_date  \\\n",
       "0         Bauer  45      Atlanta-Sandy Springs-Roswell, GA MSA  2018-12-24   \n",
       "1     Wilkerson  28            Seattle-Tacoma-Bellevue, WA MSA  2018-08-13   \n",
       "2     Wilkerson  28            Seattle-Tacoma-Bellevue, WA MSA  2018-08-13   \n",
       "3     Wilkerson  28            Seattle-Tacoma-Bellevue, WA MSA  2018-08-13   \n",
       "4     Wilkerson  28            Seattle-Tacoma-Bellevue, WA MSA  2018-08-13   \n",
       "...         ...  ..                                        ...         ...   \n",
       "2288       Diaz  69         Boston-Cambridge-Newton, MA-NH MSA  2018-10-01   \n",
       "2289    Hoffman  45                  Birmingham-Hoover, AL MSA  2018-04-14   \n",
       "2290      Glenn  70  New York-Newark-Jersey City, NY-NJ-PA MSA  2018-01-01   \n",
       "2291       Kane  45                     Salt Lake City, UT MSA  2018-12-30   \n",
       "2292   Saunders  69                      Memphis, TN-MS-AR MSA  2018-06-27   \n",
       "\n",
       "     churn_date  \n",
       "0       Unknown  \n",
       "1       Unknown  \n",
       "2       Unknown  \n",
       "3       Unknown  \n",
       "4       Unknown  \n",
       "...         ...  \n",
       "2288    Unknown  \n",
       "2289    Unknown  \n",
       "2290    Unknown  \n",
       "2291    Unknown  \n",
       "2292    Unknown  \n",
       "\n",
       "[2293 rows x 22 columns]"
      ]
     },
     "metadata": {},
     "output_type": "display_data"
    }
   ],
   "source": [
    "# Añade la información de la tarifa\n",
    "f_plans= pd.merge(plans_data, user_data, how= 'left', on= ['plan_name'])\n",
    "fusion_pack = pd.merge(fusion_pack, f_plans, on= 'user_id', how= 'left')  \n",
    "display(fusion_pack)\n",
    "\n",
    "#convierto estos datos a enteros\n",
    "fusion_pack['total_duration'] = fusion_pack['total_duration'].astype('int64')\n",
    "fusion_pack['total_messages'] = fusion_pack['total_messages'].astype('int64')\n",
    "fusion_pack['total_calls'] = fusion_pack['total_calls'].astype('int64')"
   ]
  },
  {
   "cell_type": "code",
   "execution_count": 35,
   "metadata": {},
   "outputs": [],
   "source": [
    "#Transformo los mb a gb y renombro las columnas para trabajar con estos datos a continuación\n",
    "fusion_pack['total_mb_used'] = fusion_pack['total_mb_used']/1024\n",
    "fusion_pack['mb_per_month_included'] = fusion_pack['mb_per_month_included']/1024\n",
    "fusion_pack = fusion_pack.rename(columns= {'total_mb_used':'total_gb_used', 'mb_per_month_included':'gb_per_month_included'})"
   ]
  },
  {
   "cell_type": "code",
   "execution_count": 36,
   "metadata": {
    "id": "5FGCf_c60q1I",
    "scrolled": true
   },
   "outputs": [
    {
     "data": {
      "text/html": [
       "<div>\n",
       "<style scoped>\n",
       "    .dataframe tbody tr th:only-of-type {\n",
       "        vertical-align: middle;\n",
       "    }\n",
       "\n",
       "    .dataframe tbody tr th {\n",
       "        vertical-align: top;\n",
       "    }\n",
       "\n",
       "    .dataframe thead th {\n",
       "        text-align: right;\n",
       "    }\n",
       "</style>\n",
       "<table border=\"1\" class=\"dataframe\">\n",
       "  <thead>\n",
       "    <tr style=\"text-align: right;\">\n",
       "      <th></th>\n",
       "      <th>user_id</th>\n",
       "      <th>total_ingreso</th>\n",
       "      <th>plan_name</th>\n",
       "    </tr>\n",
       "  </thead>\n",
       "  <tbody>\n",
       "    <tr>\n",
       "      <th>0</th>\n",
       "      <td>1000.0</td>\n",
       "      <td>70.00</td>\n",
       "      <td>ultimate</td>\n",
       "    </tr>\n",
       "    <tr>\n",
       "      <th>1</th>\n",
       "      <td>1001.0</td>\n",
       "      <td>20.00</td>\n",
       "      <td>surf</td>\n",
       "    </tr>\n",
       "    <tr>\n",
       "      <th>2</th>\n",
       "      <td>1001.0</td>\n",
       "      <td>20.00</td>\n",
       "      <td>surf</td>\n",
       "    </tr>\n",
       "    <tr>\n",
       "      <th>3</th>\n",
       "      <td>1001.0</td>\n",
       "      <td>90.09</td>\n",
       "      <td>surf</td>\n",
       "    </tr>\n",
       "    <tr>\n",
       "      <th>4</th>\n",
       "      <td>1001.0</td>\n",
       "      <td>60.00</td>\n",
       "      <td>surf</td>\n",
       "    </tr>\n",
       "    <tr>\n",
       "      <th>...</th>\n",
       "      <td>...</td>\n",
       "      <td>...</td>\n",
       "      <td>...</td>\n",
       "    </tr>\n",
       "    <tr>\n",
       "      <th>2288</th>\n",
       "      <td>1349.0</td>\n",
       "      <td>20.33</td>\n",
       "      <td>surf</td>\n",
       "    </tr>\n",
       "    <tr>\n",
       "      <th>2289</th>\n",
       "      <td>1361.0</td>\n",
       "      <td>20.00</td>\n",
       "      <td>surf</td>\n",
       "    </tr>\n",
       "    <tr>\n",
       "      <th>2290</th>\n",
       "      <td>1482.0</td>\n",
       "      <td>70.00</td>\n",
       "      <td>ultimate</td>\n",
       "    </tr>\n",
       "    <tr>\n",
       "      <th>2291</th>\n",
       "      <td>1108.0</td>\n",
       "      <td>70.00</td>\n",
       "      <td>ultimate</td>\n",
       "    </tr>\n",
       "    <tr>\n",
       "      <th>2292</th>\n",
       "      <td>1311.0</td>\n",
       "      <td>70.00</td>\n",
       "      <td>ultimate</td>\n",
       "    </tr>\n",
       "  </tbody>\n",
       "</table>\n",
       "<p>2293 rows × 3 columns</p>\n",
       "</div>"
      ],
      "text/plain": [
       "      user_id  total_ingreso plan_name\n",
       "0      1000.0          70.00  ultimate\n",
       "1      1001.0          20.00      surf\n",
       "2      1001.0          20.00      surf\n",
       "3      1001.0          90.09      surf\n",
       "4      1001.0          60.00      surf\n",
       "...       ...            ...       ...\n",
       "2288   1349.0          20.33      surf\n",
       "2289   1361.0          20.00      surf\n",
       "2290   1482.0          70.00  ultimate\n",
       "2291   1108.0          70.00  ultimate\n",
       "2292   1311.0          70.00  ultimate\n",
       "\n",
       "[2293 rows x 3 columns]"
      ]
     },
     "metadata": {},
     "output_type": "display_data"
    },
    {
     "data": {
      "text/html": [
       "<div>\n",
       "<style scoped>\n",
       "    .dataframe tbody tr th:only-of-type {\n",
       "        vertical-align: middle;\n",
       "    }\n",
       "\n",
       "    .dataframe tbody tr th {\n",
       "        vertical-align: top;\n",
       "    }\n",
       "\n",
       "    .dataframe thead th {\n",
       "        text-align: right;\n",
       "    }\n",
       "</style>\n",
       "<table border=\"1\" class=\"dataframe\">\n",
       "  <thead>\n",
       "    <tr style=\"text-align: right;\">\n",
       "      <th></th>\n",
       "      <th>user_id</th>\n",
       "      <th>month</th>\n",
       "      <th>total_calls</th>\n",
       "      <th>total_duration</th>\n",
       "      <th>id</th>\n",
       "      <th>total_messages</th>\n",
       "      <th>total_gb_used</th>\n",
       "      <th>gb_used</th>\n",
       "      <th>messages_included</th>\n",
       "      <th>gb_per_month_included</th>\n",
       "      <th>...</th>\n",
       "      <th>city</th>\n",
       "      <th>reg_date</th>\n",
       "      <th>churn_date</th>\n",
       "      <th>call</th>\n",
       "      <th>sms</th>\n",
       "      <th>gb</th>\n",
       "      <th>total_call</th>\n",
       "      <th>total_sms</th>\n",
       "      <th>total_gb</th>\n",
       "      <th>total_ingreso</th>\n",
       "    </tr>\n",
       "  </thead>\n",
       "  <tbody>\n",
       "    <tr>\n",
       "      <th>1</th>\n",
       "      <td>1001.0</td>\n",
       "      <td>8.0</td>\n",
       "      <td>27</td>\n",
       "      <td>171</td>\n",
       "      <td>30.0</td>\n",
       "      <td>30</td>\n",
       "      <td>6.757812</td>\n",
       "      <td>7.0</td>\n",
       "      <td>50</td>\n",
       "      <td>15.0</td>\n",
       "      <td>...</td>\n",
       "      <td>Seattle-Tacoma-Bellevue, WA MSA</td>\n",
       "      <td>2018-08-13</td>\n",
       "      <td>Unknown</td>\n",
       "      <td>0</td>\n",
       "      <td>0</td>\n",
       "      <td>0.0</td>\n",
       "      <td>0.0</td>\n",
       "      <td>0.00</td>\n",
       "      <td>0.0</td>\n",
       "      <td>20.00</td>\n",
       "    </tr>\n",
       "    <tr>\n",
       "      <th>2</th>\n",
       "      <td>1001.0</td>\n",
       "      <td>9.0</td>\n",
       "      <td>49</td>\n",
       "      <td>297</td>\n",
       "      <td>44.0</td>\n",
       "      <td>44</td>\n",
       "      <td>13.002930</td>\n",
       "      <td>14.0</td>\n",
       "      <td>50</td>\n",
       "      <td>15.0</td>\n",
       "      <td>...</td>\n",
       "      <td>Seattle-Tacoma-Bellevue, WA MSA</td>\n",
       "      <td>2018-08-13</td>\n",
       "      <td>Unknown</td>\n",
       "      <td>0</td>\n",
       "      <td>0</td>\n",
       "      <td>0.0</td>\n",
       "      <td>0.0</td>\n",
       "      <td>0.00</td>\n",
       "      <td>0.0</td>\n",
       "      <td>20.00</td>\n",
       "    </tr>\n",
       "    <tr>\n",
       "      <th>3</th>\n",
       "      <td>1001.0</td>\n",
       "      <td>10.0</td>\n",
       "      <td>65</td>\n",
       "      <td>374</td>\n",
       "      <td>53.0</td>\n",
       "      <td>53</td>\n",
       "      <td>21.807617</td>\n",
       "      <td>22.0</td>\n",
       "      <td>50</td>\n",
       "      <td>15.0</td>\n",
       "      <td>...</td>\n",
       "      <td>Seattle-Tacoma-Bellevue, WA MSA</td>\n",
       "      <td>2018-08-13</td>\n",
       "      <td>Unknown</td>\n",
       "      <td>0</td>\n",
       "      <td>3</td>\n",
       "      <td>7.0</td>\n",
       "      <td>0.0</td>\n",
       "      <td>0.09</td>\n",
       "      <td>70.0</td>\n",
       "      <td>90.09</td>\n",
       "    </tr>\n",
       "    <tr>\n",
       "      <th>4</th>\n",
       "      <td>1001.0</td>\n",
       "      <td>11.0</td>\n",
       "      <td>64</td>\n",
       "      <td>404</td>\n",
       "      <td>36.0</td>\n",
       "      <td>36</td>\n",
       "      <td>18.071289</td>\n",
       "      <td>19.0</td>\n",
       "      <td>50</td>\n",
       "      <td>15.0</td>\n",
       "      <td>...</td>\n",
       "      <td>Seattle-Tacoma-Bellevue, WA MSA</td>\n",
       "      <td>2018-08-13</td>\n",
       "      <td>Unknown</td>\n",
       "      <td>0</td>\n",
       "      <td>0</td>\n",
       "      <td>4.0</td>\n",
       "      <td>0.0</td>\n",
       "      <td>0.00</td>\n",
       "      <td>40.0</td>\n",
       "      <td>60.00</td>\n",
       "    </tr>\n",
       "    <tr>\n",
       "      <th>5</th>\n",
       "      <td>1001.0</td>\n",
       "      <td>12.0</td>\n",
       "      <td>56</td>\n",
       "      <td>392</td>\n",
       "      <td>44.0</td>\n",
       "      <td>44</td>\n",
       "      <td>18.916016</td>\n",
       "      <td>19.0</td>\n",
       "      <td>50</td>\n",
       "      <td>15.0</td>\n",
       "      <td>...</td>\n",
       "      <td>Seattle-Tacoma-Bellevue, WA MSA</td>\n",
       "      <td>2018-08-13</td>\n",
       "      <td>Unknown</td>\n",
       "      <td>0</td>\n",
       "      <td>0</td>\n",
       "      <td>4.0</td>\n",
       "      <td>0.0</td>\n",
       "      <td>0.00</td>\n",
       "      <td>40.0</td>\n",
       "      <td>60.00</td>\n",
       "    </tr>\n",
       "  </tbody>\n",
       "</table>\n",
       "<p>5 rows × 29 columns</p>\n",
       "</div>"
      ],
      "text/plain": [
       "   user_id  month  total_calls  total_duration    id  total_messages  \\\n",
       "1   1001.0    8.0           27             171  30.0              30   \n",
       "2   1001.0    9.0           49             297  44.0              44   \n",
       "3   1001.0   10.0           65             374  53.0              53   \n",
       "4   1001.0   11.0           64             404  36.0              36   \n",
       "5   1001.0   12.0           56             392  44.0              44   \n",
       "\n",
       "   total_gb_used  gb_used  messages_included  gb_per_month_included  ...  \\\n",
       "1       6.757812      7.0                 50                   15.0  ...   \n",
       "2      13.002930     14.0                 50                   15.0  ...   \n",
       "3      21.807617     22.0                 50                   15.0  ...   \n",
       "4      18.071289     19.0                 50                   15.0  ...   \n",
       "5      18.916016     19.0                 50                   15.0  ...   \n",
       "\n",
       "                              city    reg_date  churn_date  call  sms   gb  \\\n",
       "1  Seattle-Tacoma-Bellevue, WA MSA  2018-08-13     Unknown     0    0  0.0   \n",
       "2  Seattle-Tacoma-Bellevue, WA MSA  2018-08-13     Unknown     0    0  0.0   \n",
       "3  Seattle-Tacoma-Bellevue, WA MSA  2018-08-13     Unknown     0    3  7.0   \n",
       "4  Seattle-Tacoma-Bellevue, WA MSA  2018-08-13     Unknown     0    0  4.0   \n",
       "5  Seattle-Tacoma-Bellevue, WA MSA  2018-08-13     Unknown     0    0  4.0   \n",
       "\n",
       "  total_call total_sms  total_gb total_ingreso  \n",
       "1        0.0      0.00       0.0         20.00  \n",
       "2        0.0      0.00       0.0         20.00  \n",
       "3        0.0      0.09      70.0         90.09  \n",
       "4        0.0      0.00      40.0         60.00  \n",
       "5        0.0      0.00      40.0         60.00  \n",
       "\n",
       "[5 rows x 29 columns]"
      ]
     },
     "metadata": {},
     "output_type": "display_data"
    },
    {
     "data": {
      "text/plain": [
       "(2293, 29)"
      ]
     },
     "metadata": {},
     "output_type": "display_data"
    }
   ],
   "source": [
    "\n",
    "# Calculo el ingreso mensual para cada usuario\n",
    "fusion_pack['call'] = fusion_pack['total_duration'] - fusion_pack['minutes_included']\n",
    "fusion_pack['sms'] = fusion_pack['total_messages'] - fusion_pack['messages_included']\n",
    "fusion_pack['gb'] =   np.ceil(fusion_pack['total_gb_used']) - fusion_pack['gb_per_month_included']\n",
    "\n",
    "fusion_pack['call'] = np.where(fusion_pack['call'] < 0, 0, fusion_pack['call'])\n",
    "fusion_pack['sms'] = np.where(fusion_pack['sms'] < 0, 0, fusion_pack['sms'])\n",
    "fusion_pack['gb'] = np.where(fusion_pack['gb'] < 0, 0, fusion_pack['gb'])\n",
    "# Calcular los cargos por exceso de los planes  #EL CARGO DEBE DE CALCULARSE EN GB\n",
    "\n",
    "fusion_pack['total_call'] = fusion_pack['call'] * fusion_pack['usd_per_minute']\n",
    "fusion_pack['total_sms'] = fusion_pack['sms'] * fusion_pack['usd_per_message']\n",
    "fusion_pack['total_gb'] = fusion_pack['gb'] * fusion_pack['usd_per_gb']\n",
    "\n",
    "fusion_pack['total_ingreso'] = (fusion_pack['total_call'] + fusion_pack['total_sms'] + fusion_pack['total_gb']) + fusion_pack['usd_monthly_pay']\n",
    "\n",
    "display(fusion_pack[['user_id', 'total_ingreso', 'plan_name']])\n",
    "\n",
    "verification = fusion_pack.query('user_id == 1001')\n",
    "display(verification)\n",
    "\n",
    "dimensiones = fusion_pack.shape\n",
    "display(dimensiones)\n",
    "\n"
   ]
  },
  {
   "cell_type": "markdown",
   "metadata": {
    "id": "-jtyHzJb0q1I"
   },
   "source": [
    "## Estudia el comportamiento de usuario"
   ]
  },
  {
   "cell_type": "markdown",
   "metadata": {
    "id": "vtW4CJEe0q1J"
   },
   "source": [
    "### Llamadas"
   ]
  },
  {
   "cell_type": "code",
   "execution_count": 37,
   "metadata": {
    "id": "Jf5v5--k0q1J"
   },
   "outputs": [
    {
     "data": {
      "image/png": "[encoded data removed]",
      "text/plain": [
       "<Figure size 864x432 with 1 Axes>"
      ]
     },
     "metadata": {
      "needs_background": "light"
     },
     "output_type": "display_data"
    }
   ],
   "source": [
    "# Compara la duración promedio de llamadas por cada plan y por cada mes. Traza un gráfico de barras para visualizarla.\n",
    "\n",
    "prom_calls_per_month = fusion_pack.groupby(['plan_name', 'month'])['total_duration'].mean()\n",
    "prom_calls_per_month.plot(title='Promedio de duración de llamadas por plan y mes',\n",
    "        figsize=[12, 6],\n",
    "        xlabel='Plan y Mes',\n",
    "        ylabel='Duración Promedio de Llamadas',\n",
    "        kind= 'bar',\n",
    "        alpha= 0.5)\n",
    "plt.show()\n"
   ]
  },
  {
   "cell_type": "code",
   "execution_count": 38,
   "metadata": {
    "id": "QoLqW1S_0q1J"
   },
   "outputs": [
    {
     "data": {
      "image/png": "[encoded data removed]",
      "text/plain": [
       "<Figure size 864x432 with 1 Axes>"
      ]
     },
     "metadata": {
      "needs_background": "light"
     },
     "output_type": "display_data"
    }
   ],
   "source": [
    "# Compara el número de minutos mensuales que necesitan los usuarios de cada plan. Traza un histograma.\n",
    "total_minutes_per_user_per_month = fusion_pack.groupby(['user_id', 'plan_name', 'month'])['total_duration'].sum().reset_index()\n",
    "\n",
    "plt.figure(figsize=[12, 6])\n",
    "for plan, data in total_minutes_per_user_per_month.groupby('plan_name'):\n",
    "    plt.hist(data['total_duration'], label=plan)\n",
    "\n",
    "plt.title('Distribución de Minutos Mensuales por Plan')\n",
    "plt.xlabel('Minutos Mensuales')\n",
    "plt.ylabel('Usuarios')\n",
    "plt.legend()\n",
    "plt.show()\n",
    "  "
   ]
  },
  {
   "cell_type": "code",
   "execution_count": 39,
   "metadata": {
    "id": "oSndbAnt0q1K"
   },
   "outputs": [
    {
     "name": "stdout",
     "output_type": "stream",
     "text": [
      "Media de duración de llamadas por plan y mes:\n"
     ]
    },
    {
     "data": {
      "text/plain": [
       "plan_name  month\n",
       "surf       1.0      192.000000\n",
       "           2.0      280.333333\n",
       "           3.0      310.434783\n",
       "           4.0      331.920000\n",
       "           5.0      376.558442\n",
       "           6.0      406.701031\n",
       "           7.0      424.008264\n",
       "           8.0      386.679012\n",
       "           9.0      390.474227\n",
       "           10.0     405.236287\n",
       "           11.0     399.091873\n",
       "           12.0     447.006289\n",
       "ultimate   1.0      182.750000\n",
       "           2.0      379.571429\n",
       "           3.0      285.166667\n",
       "           4.0      316.095238\n",
       "           5.0      383.206897\n",
       "           6.0      349.425532\n",
       "           7.0      403.271186\n",
       "           8.0      396.788732\n",
       "           9.0      412.779070\n",
       "           10.0     424.707547\n",
       "           11.0     419.960630\n",
       "           12.0     432.576159\n",
       "Name: total_duration, dtype: float64"
      ]
     },
     "metadata": {},
     "output_type": "display_data"
    },
    {
     "name": "stdout",
     "output_type": "stream",
     "text": [
      "\n",
      "Varianza de duración de llamadas por plan y mes:\n"
     ]
    },
    {
     "data": {
      "text/plain": [
       "plan_name  month\n",
       "surf       1.0      14792.000000\n",
       "           2.0      47022.500000\n",
       "           3.0      31860.256917\n",
       "           4.0      45611.871020\n",
       "           5.0      53270.618250\n",
       "           6.0      40755.357603\n",
       "           7.0      54408.974931\n",
       "           8.0      48598.616824\n",
       "           9.0      41577.058918\n",
       "           10.0     46722.198169\n",
       "           11.0     46101.374508\n",
       "           12.0     56982.826459\n",
       "ultimate   1.0      15038.250000\n",
       "           2.0      68473.619048\n",
       "           3.0      54232.696970\n",
       "           4.0      31099.590476\n",
       "           5.0      39304.527094\n",
       "           6.0      37915.641073\n",
       "           7.0      64851.994155\n",
       "           8.0      47668.911871\n",
       "           9.0      51017.985910\n",
       "           10.0     48375.827942\n",
       "           11.0     54262.228596\n",
       "           12.0     55775.525828\n",
       "Name: total_duration, dtype: float64"
      ]
     },
     "metadata": {},
     "output_type": "display_data"
    }
   ],
   "source": [
    "# Calcula la media y la varianza de la duración mensual de llamadas.\n",
    "#media mensual de llamadas\n",
    "mean_call_per_month = fusion_pack.groupby(['plan_name', 'month'])['total_duration'].mean()\n",
    "print(\"Media de duración de llamadas por plan y mes:\")\n",
    "display(mean_call_per_month)\n",
    "\n",
    "print()\n",
    "\n",
    "var_call_per_month= fusion_pack.groupby(['plan_name', 'month'])['total_duration'].var()\n",
    "print(\"Varianza de duración de llamadas por plan y mes:\")\n",
    "display(var_call_per_month)"
   ]
  },
  {
   "cell_type": "code",
   "execution_count": 40,
   "metadata": {
    "id": "nZzoRUKc0q1K"
   },
   "outputs": [
    {
     "data": {
      "image/png": "[encoded data removed]",
      "text/plain": [
       "<Figure size 720x432 with 1 Axes>"
      ]
     },
     "metadata": {
      "needs_background": "light"
     },
     "output_type": "display_data"
    }
   ],
   "source": [
    "# Traza un diagrama de caja para visualizar la distribución de la duración mensual de llamadas\n",
    "\n",
    "plt.figure(figsize=(10, 6))\n",
    "plt.boxplot(mean_call_per_month)\n",
    "plt.xlabel('Distribución duración mensual de llamadas')\n",
    "plt.ylabel('Minutos')\n",
    "plt.title('Distribución de la duración mensual de llamadas')\n",
    "plt.show()\n"
   ]
  },
  {
   "cell_type": "markdown",
   "metadata": {
    "id": "r627zBO50q1K"
   },
   "source": [
    "En el gráfico 13.1 se puede observar que la duración de llamadas en ambos planes mes a mes es similar y duran entre 250 y 350 minutos aprox.\n",
    "Al comparar en el gráfico siguiente los minutos que necesitan mensualmente los usuarios por plan, se puede ver que los clientes del plan Ultimate y Surf en promedio requieren en promedio 400-700 minutos al mes la mayoria de los usuarios, se observan datos sesgados a la derecha.\n",
    "Los clientes que más utilizan sus minutos y hablan por telefono son los que tienen contratado el plan Surf. La media entre los usuarios del plan Surf se encuentra entre 250-400 minutos y entre los usuarios del plan Ultimate la media esta entre 400-500 minutos. \n",
    "Los usuarios del plan Ultimate a pesar de tener incluido en el plan 3000 minutos, la mayoria no llega a utilizar 17% aproximadamente de su plan, mientras que los del plan Surf que solo tienen 500 minutos tienen más tendencia a utilizar más minutos.\n",
    "La duración media de llamadas varía y se mantiene en ascenso a lo largo del año en ambos planes.\n",
    "La varianza tiene variaciones de mes a mes, no es un valor constante por lo que puede indicar que dependiendo del mes o época del año los usuarios harán más o menos llamadas.\n",
    "\n",
    "En el gráfico de caja se puede ver que la mediana se encuentra en 390 aprox, Q1 se encuentra en 330 aprox. Q2 en 380 y Q3 en 420. A partir de 200 hacía abajo se observan valores atípicos lo que podria indicar que hay tendencia hacia la izq. y es de asimetría negativa."
   ]
  },
  {
   "cell_type": "markdown",
   "metadata": {
    "id": "8idKy8Wh0q1L"
   },
   "source": [
    "### Mensajes"
   ]
  },
  {
   "cell_type": "code",
   "execution_count": 41,
   "metadata": {
    "id": "NXLxiTit0q1L"
   },
   "outputs": [
    {
     "name": "stdout",
     "output_type": "stream",
     "text": [
      "Usuarios del plan Ultimate:\n"
     ]
    },
    {
     "data": {
      "text/html": [
       "<div>\n",
       "<style scoped>\n",
       "    .dataframe tbody tr th:only-of-type {\n",
       "        vertical-align: middle;\n",
       "    }\n",
       "\n",
       "    .dataframe tbody tr th {\n",
       "        vertical-align: top;\n",
       "    }\n",
       "\n",
       "    .dataframe thead th {\n",
       "        text-align: right;\n",
       "    }\n",
       "</style>\n",
       "<table border=\"1\" class=\"dataframe\">\n",
       "  <thead>\n",
       "    <tr style=\"text-align: right;\">\n",
       "      <th></th>\n",
       "      <th>user_id</th>\n",
       "      <th>month</th>\n",
       "      <th>plan_name</th>\n",
       "      <th>total_calls</th>\n",
       "      <th>total_duration</th>\n",
       "      <th>id</th>\n",
       "      <th>total_messages</th>\n",
       "      <th>total_gb_used</th>\n",
       "      <th>gb_used</th>\n",
       "      <th>messages_included</th>\n",
       "      <th>...</th>\n",
       "      <th>usd_per_message</th>\n",
       "      <th>usd_per_minute</th>\n",
       "      <th>age</th>\n",
       "      <th>call</th>\n",
       "      <th>sms</th>\n",
       "      <th>gb</th>\n",
       "      <th>total_call</th>\n",
       "      <th>total_sms</th>\n",
       "      <th>total_gb</th>\n",
       "      <th>total_ingreso</th>\n",
       "    </tr>\n",
       "  </thead>\n",
       "  <tbody>\n",
       "    <tr>\n",
       "      <th>607</th>\n",
       "      <td>1128.0</td>\n",
       "      <td>9.0</td>\n",
       "      <td>ultimate</td>\n",
       "      <td>6</td>\n",
       "      <td>16</td>\n",
       "      <td>43.0</td>\n",
       "      <td>43</td>\n",
       "      <td>20.708008</td>\n",
       "      <td>21.0</td>\n",
       "      <td>1000</td>\n",
       "      <td>...</td>\n",
       "      <td>0.01</td>\n",
       "      <td>0.01</td>\n",
       "      <td>41</td>\n",
       "      <td>0</td>\n",
       "      <td>0</td>\n",
       "      <td>0.0</td>\n",
       "      <td>0.0</td>\n",
       "      <td>0.0</td>\n",
       "      <td>0.0</td>\n",
       "      <td>70.0</td>\n",
       "    </tr>\n",
       "    <tr>\n",
       "      <th>1017</th>\n",
       "      <td>1213.0</td>\n",
       "      <td>11.0</td>\n",
       "      <td>ultimate</td>\n",
       "      <td>10</td>\n",
       "      <td>40</td>\n",
       "      <td>11.0</td>\n",
       "      <td>11</td>\n",
       "      <td>1.893555</td>\n",
       "      <td>2.0</td>\n",
       "      <td>1000</td>\n",
       "      <td>...</td>\n",
       "      <td>0.01</td>\n",
       "      <td>0.01</td>\n",
       "      <td>47</td>\n",
       "      <td>0</td>\n",
       "      <td>0</td>\n",
       "      <td>0.0</td>\n",
       "      <td>0.0</td>\n",
       "      <td>0.0</td>\n",
       "      <td>0.0</td>\n",
       "      <td>70.0</td>\n",
       "    </tr>\n",
       "    <tr>\n",
       "      <th>2106</th>\n",
       "      <td>1456.0</td>\n",
       "      <td>12.0</td>\n",
       "      <td>ultimate</td>\n",
       "      <td>62</td>\n",
       "      <td>405</td>\n",
       "      <td>43.0</td>\n",
       "      <td>43</td>\n",
       "      <td>12.115234</td>\n",
       "      <td>13.0</td>\n",
       "      <td>1000</td>\n",
       "      <td>...</td>\n",
       "      <td>0.01</td>\n",
       "      <td>0.01</td>\n",
       "      <td>66</td>\n",
       "      <td>0</td>\n",
       "      <td>0</td>\n",
       "      <td>0.0</td>\n",
       "      <td>0.0</td>\n",
       "      <td>0.0</td>\n",
       "      <td>0.0</td>\n",
       "      <td>70.0</td>\n",
       "    </tr>\n",
       "    <tr>\n",
       "      <th>948</th>\n",
       "      <td>1196.0</td>\n",
       "      <td>10.0</td>\n",
       "      <td>ultimate</td>\n",
       "      <td>77</td>\n",
       "      <td>481</td>\n",
       "      <td>36.0</td>\n",
       "      <td>36</td>\n",
       "      <td>24.906250</td>\n",
       "      <td>25.0</td>\n",
       "      <td>1000</td>\n",
       "      <td>...</td>\n",
       "      <td>0.01</td>\n",
       "      <td>0.01</td>\n",
       "      <td>46</td>\n",
       "      <td>0</td>\n",
       "      <td>0</td>\n",
       "      <td>0.0</td>\n",
       "      <td>0.0</td>\n",
       "      <td>0.0</td>\n",
       "      <td>0.0</td>\n",
       "      <td>70.0</td>\n",
       "    </tr>\n",
       "    <tr>\n",
       "      <th>1813</th>\n",
       "      <td>1390.0</td>\n",
       "      <td>9.0</td>\n",
       "      <td>ultimate</td>\n",
       "      <td>91</td>\n",
       "      <td>653</td>\n",
       "      <td>0.0</td>\n",
       "      <td>0</td>\n",
       "      <td>10.998047</td>\n",
       "      <td>11.0</td>\n",
       "      <td>1000</td>\n",
       "      <td>...</td>\n",
       "      <td>0.01</td>\n",
       "      <td>0.01</td>\n",
       "      <td>61</td>\n",
       "      <td>0</td>\n",
       "      <td>0</td>\n",
       "      <td>0.0</td>\n",
       "      <td>0.0</td>\n",
       "      <td>0.0</td>\n",
       "      <td>0.0</td>\n",
       "      <td>70.0</td>\n",
       "    </tr>\n",
       "    <tr>\n",
       "      <th>586</th>\n",
       "      <td>1124.0</td>\n",
       "      <td>10.0</td>\n",
       "      <td>ultimate</td>\n",
       "      <td>34</td>\n",
       "      <td>220</td>\n",
       "      <td>30.0</td>\n",
       "      <td>30</td>\n",
       "      <td>3.600586</td>\n",
       "      <td>4.0</td>\n",
       "      <td>1000</td>\n",
       "      <td>...</td>\n",
       "      <td>0.01</td>\n",
       "      <td>0.01</td>\n",
       "      <td>48</td>\n",
       "      <td>0</td>\n",
       "      <td>0</td>\n",
       "      <td>0.0</td>\n",
       "      <td>0.0</td>\n",
       "      <td>0.0</td>\n",
       "      <td>0.0</td>\n",
       "      <td>70.0</td>\n",
       "    </tr>\n",
       "    <tr>\n",
       "      <th>287</th>\n",
       "      <td>1063.0</td>\n",
       "      <td>12.0</td>\n",
       "      <td>ultimate</td>\n",
       "      <td>13</td>\n",
       "      <td>94</td>\n",
       "      <td>0.0</td>\n",
       "      <td>0</td>\n",
       "      <td>9.760742</td>\n",
       "      <td>10.0</td>\n",
       "      <td>1000</td>\n",
       "      <td>...</td>\n",
       "      <td>0.01</td>\n",
       "      <td>0.01</td>\n",
       "      <td>60</td>\n",
       "      <td>0</td>\n",
       "      <td>0</td>\n",
       "      <td>0.0</td>\n",
       "      <td>0.0</td>\n",
       "      <td>0.0</td>\n",
       "      <td>0.0</td>\n",
       "      <td>70.0</td>\n",
       "    </tr>\n",
       "    <tr>\n",
       "      <th>137</th>\n",
       "      <td>1038.0</td>\n",
       "      <td>12.0</td>\n",
       "      <td>ultimate</td>\n",
       "      <td>78</td>\n",
       "      <td>444</td>\n",
       "      <td>113.0</td>\n",
       "      <td>113</td>\n",
       "      <td>43.965820</td>\n",
       "      <td>44.0</td>\n",
       "      <td>1000</td>\n",
       "      <td>...</td>\n",
       "      <td>0.01</td>\n",
       "      <td>0.01</td>\n",
       "      <td>32</td>\n",
       "      <td>0</td>\n",
       "      <td>0</td>\n",
       "      <td>14.0</td>\n",
       "      <td>0.0</td>\n",
       "      <td>0.0</td>\n",
       "      <td>98.0</td>\n",
       "      <td>168.0</td>\n",
       "    </tr>\n",
       "  </tbody>\n",
       "</table>\n",
       "<p>8 rows × 24 columns</p>\n",
       "</div>"
      ],
      "text/plain": [
       "      user_id  month plan_name  total_calls  total_duration     id  \\\n",
       "607    1128.0    9.0  ultimate            6              16   43.0   \n",
       "1017   1213.0   11.0  ultimate           10              40   11.0   \n",
       "2106   1456.0   12.0  ultimate           62             405   43.0   \n",
       "948    1196.0   10.0  ultimate           77             481   36.0   \n",
       "1813   1390.0    9.0  ultimate           91             653    0.0   \n",
       "586    1124.0   10.0  ultimate           34             220   30.0   \n",
       "287    1063.0   12.0  ultimate           13              94    0.0   \n",
       "137    1038.0   12.0  ultimate           78             444  113.0   \n",
       "\n",
       "      total_messages  total_gb_used  gb_used  messages_included  ...  \\\n",
       "607               43      20.708008     21.0               1000  ...   \n",
       "1017              11       1.893555      2.0               1000  ...   \n",
       "2106              43      12.115234     13.0               1000  ...   \n",
       "948               36      24.906250     25.0               1000  ...   \n",
       "1813               0      10.998047     11.0               1000  ...   \n",
       "586               30       3.600586      4.0               1000  ...   \n",
       "287                0       9.760742     10.0               1000  ...   \n",
       "137              113      43.965820     44.0               1000  ...   \n",
       "\n",
       "      usd_per_message  usd_per_minute  age  call  sms    gb  total_call  \\\n",
       "607              0.01            0.01   41     0    0   0.0         0.0   \n",
       "1017             0.01            0.01   47     0    0   0.0         0.0   \n",
       "2106             0.01            0.01   66     0    0   0.0         0.0   \n",
       "948              0.01            0.01   46     0    0   0.0         0.0   \n",
       "1813             0.01            0.01   61     0    0   0.0         0.0   \n",
       "586              0.01            0.01   48     0    0   0.0         0.0   \n",
       "287              0.01            0.01   60     0    0   0.0         0.0   \n",
       "137              0.01            0.01   32     0    0  14.0         0.0   \n",
       "\n",
       "      total_sms  total_gb  total_ingreso  \n",
       "607         0.0       0.0           70.0  \n",
       "1017        0.0       0.0           70.0  \n",
       "2106        0.0       0.0           70.0  \n",
       "948         0.0       0.0           70.0  \n",
       "1813        0.0       0.0           70.0  \n",
       "586         0.0       0.0           70.0  \n",
       "287         0.0       0.0           70.0  \n",
       "137         0.0      98.0          168.0  \n",
       "\n",
       "[8 rows x 24 columns]"
      ]
     },
     "metadata": {},
     "output_type": "display_data"
    },
    {
     "name": "stdout",
     "output_type": "stream",
     "text": [
      "\n",
      "Usuarios del plan Surf:\n"
     ]
    },
    {
     "data": {
      "text/html": [
       "<div>\n",
       "<style scoped>\n",
       "    .dataframe tbody tr th:only-of-type {\n",
       "        vertical-align: middle;\n",
       "    }\n",
       "\n",
       "    .dataframe tbody tr th {\n",
       "        vertical-align: top;\n",
       "    }\n",
       "\n",
       "    .dataframe thead th {\n",
       "        text-align: right;\n",
       "    }\n",
       "</style>\n",
       "<table border=\"1\" class=\"dataframe\">\n",
       "  <thead>\n",
       "    <tr style=\"text-align: right;\">\n",
       "      <th></th>\n",
       "      <th>user_id</th>\n",
       "      <th>month</th>\n",
       "      <th>plan_name</th>\n",
       "      <th>total_calls</th>\n",
       "      <th>total_duration</th>\n",
       "      <th>id</th>\n",
       "      <th>total_messages</th>\n",
       "      <th>total_gb_used</th>\n",
       "      <th>gb_used</th>\n",
       "      <th>messages_included</th>\n",
       "      <th>...</th>\n",
       "      <th>usd_per_message</th>\n",
       "      <th>usd_per_minute</th>\n",
       "      <th>age</th>\n",
       "      <th>call</th>\n",
       "      <th>sms</th>\n",
       "      <th>gb</th>\n",
       "      <th>total_call</th>\n",
       "      <th>total_sms</th>\n",
       "      <th>total_gb</th>\n",
       "      <th>total_ingreso</th>\n",
       "    </tr>\n",
       "  </thead>\n",
       "  <tbody>\n",
       "    <tr>\n",
       "      <th>1440</th>\n",
       "      <td>1313.0</td>\n",
       "      <td>11.0</td>\n",
       "      <td>surf</td>\n",
       "      <td>89</td>\n",
       "      <td>652</td>\n",
       "      <td>39.0</td>\n",
       "      <td>39</td>\n",
       "      <td>19.229492</td>\n",
       "      <td>20.0</td>\n",
       "      <td>50</td>\n",
       "      <td>...</td>\n",
       "      <td>0.03</td>\n",
       "      <td>0.03</td>\n",
       "      <td>49</td>\n",
       "      <td>152</td>\n",
       "      <td>0</td>\n",
       "      <td>5.0</td>\n",
       "      <td>4.56</td>\n",
       "      <td>0.0</td>\n",
       "      <td>50.0</td>\n",
       "      <td>74.56</td>\n",
       "    </tr>\n",
       "    <tr>\n",
       "      <th>338</th>\n",
       "      <td>1072.0</td>\n",
       "      <td>11.0</td>\n",
       "      <td>surf</td>\n",
       "      <td>76</td>\n",
       "      <td>441</td>\n",
       "      <td>17.0</td>\n",
       "      <td>17</td>\n",
       "      <td>32.215820</td>\n",
       "      <td>33.0</td>\n",
       "      <td>50</td>\n",
       "      <td>...</td>\n",
       "      <td>0.03</td>\n",
       "      <td>0.03</td>\n",
       "      <td>66</td>\n",
       "      <td>0</td>\n",
       "      <td>0</td>\n",
       "      <td>18.0</td>\n",
       "      <td>0.00</td>\n",
       "      <td>0.0</td>\n",
       "      <td>180.0</td>\n",
       "      <td>200.00</td>\n",
       "    </tr>\n",
       "    <tr>\n",
       "      <th>1432</th>\n",
       "      <td>1312.0</td>\n",
       "      <td>9.0</td>\n",
       "      <td>surf</td>\n",
       "      <td>68</td>\n",
       "      <td>401</td>\n",
       "      <td>37.0</td>\n",
       "      <td>37</td>\n",
       "      <td>18.115234</td>\n",
       "      <td>19.0</td>\n",
       "      <td>50</td>\n",
       "      <td>...</td>\n",
       "      <td>0.03</td>\n",
       "      <td>0.03</td>\n",
       "      <td>42</td>\n",
       "      <td>0</td>\n",
       "      <td>0</td>\n",
       "      <td>4.0</td>\n",
       "      <td>0.00</td>\n",
       "      <td>0.0</td>\n",
       "      <td>40.0</td>\n",
       "      <td>60.00</td>\n",
       "    </tr>\n",
       "    <tr>\n",
       "      <th>1578</th>\n",
       "      <td>1341.0</td>\n",
       "      <td>10.0</td>\n",
       "      <td>surf</td>\n",
       "      <td>65</td>\n",
       "      <td>463</td>\n",
       "      <td>44.0</td>\n",
       "      <td>44</td>\n",
       "      <td>10.442383</td>\n",
       "      <td>11.0</td>\n",
       "      <td>50</td>\n",
       "      <td>...</td>\n",
       "      <td>0.03</td>\n",
       "      <td>0.03</td>\n",
       "      <td>28</td>\n",
       "      <td>0</td>\n",
       "      <td>0</td>\n",
       "      <td>0.0</td>\n",
       "      <td>0.00</td>\n",
       "      <td>0.0</td>\n",
       "      <td>0.0</td>\n",
       "      <td>20.00</td>\n",
       "    </tr>\n",
       "    <tr>\n",
       "      <th>1038</th>\n",
       "      <td>1216.0</td>\n",
       "      <td>12.0</td>\n",
       "      <td>surf</td>\n",
       "      <td>49</td>\n",
       "      <td>355</td>\n",
       "      <td>0.0</td>\n",
       "      <td>0</td>\n",
       "      <td>15.320312</td>\n",
       "      <td>16.0</td>\n",
       "      <td>50</td>\n",
       "      <td>...</td>\n",
       "      <td>0.03</td>\n",
       "      <td>0.03</td>\n",
       "      <td>29</td>\n",
       "      <td>0</td>\n",
       "      <td>0</td>\n",
       "      <td>1.0</td>\n",
       "      <td>0.00</td>\n",
       "      <td>0.0</td>\n",
       "      <td>10.0</td>\n",
       "      <td>30.00</td>\n",
       "    </tr>\n",
       "    <tr>\n",
       "      <th>1854</th>\n",
       "      <td>1399.0</td>\n",
       "      <td>11.0</td>\n",
       "      <td>surf</td>\n",
       "      <td>39</td>\n",
       "      <td>277</td>\n",
       "      <td>29.0</td>\n",
       "      <td>29</td>\n",
       "      <td>18.250000</td>\n",
       "      <td>19.0</td>\n",
       "      <td>50</td>\n",
       "      <td>...</td>\n",
       "      <td>0.03</td>\n",
       "      <td>0.03</td>\n",
       "      <td>24</td>\n",
       "      <td>0</td>\n",
       "      <td>0</td>\n",
       "      <td>4.0</td>\n",
       "      <td>0.00</td>\n",
       "      <td>0.0</td>\n",
       "      <td>40.0</td>\n",
       "      <td>60.00</td>\n",
       "    </tr>\n",
       "    <tr>\n",
       "      <th>427</th>\n",
       "      <td>1090.0</td>\n",
       "      <td>5.0</td>\n",
       "      <td>surf</td>\n",
       "      <td>32</td>\n",
       "      <td>174</td>\n",
       "      <td>19.0</td>\n",
       "      <td>19</td>\n",
       "      <td>9.368164</td>\n",
       "      <td>10.0</td>\n",
       "      <td>50</td>\n",
       "      <td>...</td>\n",
       "      <td>0.03</td>\n",
       "      <td>0.03</td>\n",
       "      <td>30</td>\n",
       "      <td>0</td>\n",
       "      <td>0</td>\n",
       "      <td>0.0</td>\n",
       "      <td>0.00</td>\n",
       "      <td>0.0</td>\n",
       "      <td>0.0</td>\n",
       "      <td>20.00</td>\n",
       "    </tr>\n",
       "    <tr>\n",
       "      <th>1485</th>\n",
       "      <td>1324.0</td>\n",
       "      <td>7.0</td>\n",
       "      <td>surf</td>\n",
       "      <td>134</td>\n",
       "      <td>919</td>\n",
       "      <td>120.0</td>\n",
       "      <td>120</td>\n",
       "      <td>19.320312</td>\n",
       "      <td>20.0</td>\n",
       "      <td>50</td>\n",
       "      <td>...</td>\n",
       "      <td>0.03</td>\n",
       "      <td>0.03</td>\n",
       "      <td>18</td>\n",
       "      <td>419</td>\n",
       "      <td>70</td>\n",
       "      <td>5.0</td>\n",
       "      <td>12.57</td>\n",
       "      <td>2.1</td>\n",
       "      <td>50.0</td>\n",
       "      <td>84.67</td>\n",
       "    </tr>\n",
       "  </tbody>\n",
       "</table>\n",
       "<p>8 rows × 24 columns</p>\n",
       "</div>"
      ],
      "text/plain": [
       "      user_id  month plan_name  total_calls  total_duration     id  \\\n",
       "1440   1313.0   11.0      surf           89             652   39.0   \n",
       "338    1072.0   11.0      surf           76             441   17.0   \n",
       "1432   1312.0    9.0      surf           68             401   37.0   \n",
       "1578   1341.0   10.0      surf           65             463   44.0   \n",
       "1038   1216.0   12.0      surf           49             355    0.0   \n",
       "1854   1399.0   11.0      surf           39             277   29.0   \n",
       "427    1090.0    5.0      surf           32             174   19.0   \n",
       "1485   1324.0    7.0      surf          134             919  120.0   \n",
       "\n",
       "      total_messages  total_gb_used  gb_used  messages_included  ...  \\\n",
       "1440              39      19.229492     20.0                 50  ...   \n",
       "338               17      32.215820     33.0                 50  ...   \n",
       "1432              37      18.115234     19.0                 50  ...   \n",
       "1578              44      10.442383     11.0                 50  ...   \n",
       "1038               0      15.320312     16.0                 50  ...   \n",
       "1854              29      18.250000     19.0                 50  ...   \n",
       "427               19       9.368164     10.0                 50  ...   \n",
       "1485             120      19.320312     20.0                 50  ...   \n",
       "\n",
       "      usd_per_message  usd_per_minute  age  call  sms    gb  total_call  \\\n",
       "1440             0.03            0.03   49   152    0   5.0        4.56   \n",
       "338              0.03            0.03   66     0    0  18.0        0.00   \n",
       "1432             0.03            0.03   42     0    0   4.0        0.00   \n",
       "1578             0.03            0.03   28     0    0   0.0        0.00   \n",
       "1038             0.03            0.03   29     0    0   1.0        0.00   \n",
       "1854             0.03            0.03   24     0    0   4.0        0.00   \n",
       "427              0.03            0.03   30     0    0   0.0        0.00   \n",
       "1485             0.03            0.03   18   419   70   5.0       12.57   \n",
       "\n",
       "      total_sms  total_gb  total_ingreso  \n",
       "1440        0.0      50.0          74.56  \n",
       "338         0.0     180.0         200.00  \n",
       "1432        0.0      40.0          60.00  \n",
       "1578        0.0       0.0          20.00  \n",
       "1038        0.0      10.0          30.00  \n",
       "1854        0.0      40.0          60.00  \n",
       "427         0.0       0.0          20.00  \n",
       "1485        2.1      50.0          84.67  \n",
       "\n",
       "[8 rows x 24 columns]"
      ]
     },
     "metadata": {},
     "output_type": "display_data"
    }
   ],
   "source": [
    "# Comprara el número de mensajes que tienden a enviar cada mes los usuarios de cada plan\n",
    "sms_per_month= fusion_pack.groupby(['user_id', 'month', 'plan_name']).sum().reset_index()\n",
    "\n",
    "ultimate_users = sms_per_month[sms_per_month['plan_name'] == 'ultimate']\n",
    "surf_users = sms_per_month[sms_per_month['plan_name'] == 'surf']\n",
    "\n",
    "print(\"Usuarios del plan Ultimate:\")\n",
    "display(ultimate_users.sample(8, random_state= 720))\n",
    "print(\"\\nUsuarios del plan Surf:\")\n",
    "display(surf_users.sample(8, random_state= 1573))"
   ]
  },
  {
   "cell_type": "code",
   "execution_count": 42,
   "metadata": {
    "id": "GRI_R7xF0q1L"
   },
   "outputs": [
    {
     "data": {
      "image/png": "[encoded data removed]",
      "text/plain": [
       "<Figure size 864x432 with 1 Axes>"
      ]
     },
     "metadata": {
      "needs_background": "light"
     },
     "output_type": "display_data"
    }
   ],
   "source": [
    "plt.figure(figsize=[12, 6])\n",
    "for plan, data in sms_per_month.groupby('plan_name'):\n",
    "    plt.hist(data['total_messages'], label=plan)\n",
    "\n",
    "plt.title('Número de SMS por mes para cada plan')\n",
    "plt.xlabel('Número de mensajes')\n",
    "plt.ylabel('Usuarios')\n",
    "plt.legend(title='Plan', labels=['Ultimate', 'Surf'])\n",
    "plt.show()"
   ]
  },
  {
   "cell_type": "markdown",
   "metadata": {
    "id": "390SSL480q1M"
   },
   "source": [
    "En el plan Ultimate mandan más sms que los usuarios del plan surf, la mayoría de sms que envían los clientes de ultimate se encuentra entre 0-25.\n",
    "En el plan Surf los clientes envían menos mensajes pero hay varios clientes que pasan el limite de mensajes mensual.\n",
    "En el gráfico se observa una diferencia en la cantidad de sms enviados por clientes de cada plan al mes."
   ]
  },
  {
   "cell_type": "markdown",
   "metadata": {
    "id": "42YSypXz0q1M"
   },
   "source": [
    "### Internet"
   ]
  },
  {
   "cell_type": "code",
   "execution_count": 43,
   "metadata": {
    "id": "lSuKPtjh0q1M"
   },
   "outputs": [],
   "source": [
    "# Compara la cantidad de tráfico de Internet consumido por usuarios por plan"
   ]
  },
  {
   "cell_type": "code",
   "execution_count": 44,
   "metadata": {
    "id": "wnh8jYXi0q1N"
   },
   "outputs": [
    {
     "name": "stdout",
     "output_type": "stream",
     "text": [
      "Tráfico de Internet por mes: Ultimate\n"
     ]
    },
    {
     "data": {
      "text/plain": [
       "month\n",
       "1.0       27.025391\n",
       "2.0      117.093750\n",
       "3.0      214.711914\n",
       "4.0      330.630859\n",
       "5.0      470.824219\n",
       "6.0      704.009766\n",
       "7.0      941.769531\n",
       "8.0     1235.235352\n",
       "9.0     1425.245117\n",
       "10.0    1823.227539\n",
       "11.0    2112.638672\n",
       "12.0    2702.027344\n",
       "Name: total_gb_used, dtype: float64"
      ]
     },
     "metadata": {},
     "output_type": "display_data"
    },
    {
     "name": "stdout",
     "output_type": "stream",
     "text": [
      "\n",
      "Tráfico de Internet por mes: Surf\n"
     ]
    },
    {
     "data": {
      "text/plain": [
       "month\n",
       "1.0        9.521484\n",
       "2.0      107.045898\n",
       "3.0      299.762695\n",
       "4.0      585.188477\n",
       "5.0     1047.986328\n",
       "6.0     1449.505859\n",
       "7.0     1983.276367\n",
       "8.0     2657.151367\n",
       "9.0     3143.390625\n",
       "10.0    4006.742188\n",
       "11.0    4515.770508\n",
       "12.0    5631.138672\n",
       "Name: total_gb_used, dtype: float64"
      ]
     },
     "metadata": {},
     "output_type": "display_data"
    }
   ],
   "source": [
    "gb_per_month= fusion_pack.groupby(['user_id', 'month', 'plan_name']).sum().reset_index()\n",
    "\n",
    "ultimate_net_users = gb_per_month[gb_per_month['plan_name'] == 'ultimate']\n",
    "surf_net_users = gb_per_month[gb_per_month['plan_name'] == 'surf']\n",
    "\n",
    "gb_per_user_ultimate= ultimate_net_users.groupby('month')['total_gb_used'].sum()\n",
    "gb_per_user_surf= surf_net_users.groupby('month')['total_gb_used'].sum()\n",
    "\n",
    "print('Tráfico de Internet por mes: Ultimate')\n",
    "display(gb_per_user_ultimate)\n",
    "print()\n",
    "print('Tráfico de Internet por mes: Surf')\n",
    "display(gb_per_user_surf)"
   ]
  },
  {
   "cell_type": "code",
   "execution_count": 45,
   "metadata": {
    "id": "5VlyJ9ry0q1N"
   },
   "outputs": [
    {
     "data": {
      "image/png": "[encoded data removed]",
      "text/plain": [
       "<Figure size 864x432 with 1 Axes>"
      ]
     },
     "metadata": {
      "needs_background": "light"
     },
     "output_type": "display_data"
    }
   ],
   "source": [
    "plt.figure(figsize=[12, 6])\n",
    "plt.bar(gb_per_user_ultimate.index, gb_per_user_ultimate.values, color='purple', alpha=1, label= 'Ultimate')\n",
    "plt.bar(gb_per_user_surf.index, gb_per_user_surf.values, color='green', alpha=0.7, label= 'Surf')\n",
    "plt.title('Tráfico de Internet por mes para cada plan')\n",
    "plt.xlabel('Mes')\n",
    "plt.ylabel('Tráfico de Internet (GB)')\n",
    "plt.legend(title='Plan', labels=['Ultimate', 'Surf'])\n",
    "plt.show()"
   ]
  },
  {
   "cell_type": "markdown",
   "metadata": {
    "id": "UN9zwuMP0q1N"
   },
   "source": [
    "En ambos planes a medida que avanza el año los clientes utilizan mayor cantidad de tráfico de internet, los clientes del plan Surf utilizan más gb en comparación a los del plan Ultimate.\n",
    "Los usuarios del plan Surf los últimos meses del año utilizan el doble de gb."
   ]
  },
  {
   "cell_type": "markdown",
   "metadata": {
    "id": "tCijq3260q1N"
   },
   "source": [
    "## Ingreso"
   ]
  },
  {
   "cell_type": "code",
   "execution_count": 46,
   "metadata": {
    "id": "tz-dq_V00q1O"
   },
   "outputs": [
    {
     "data": {
      "text/html": [
       "<div>\n",
       "<style scoped>\n",
       "    .dataframe tbody tr th:only-of-type {\n",
       "        vertical-align: middle;\n",
       "    }\n",
       "\n",
       "    .dataframe tbody tr th {\n",
       "        vertical-align: top;\n",
       "    }\n",
       "\n",
       "    .dataframe thead th {\n",
       "        text-align: right;\n",
       "    }\n",
       "</style>\n",
       "<table border=\"1\" class=\"dataframe\">\n",
       "  <thead>\n",
       "    <tr style=\"text-align: right;\">\n",
       "      <th></th>\n",
       "      <th></th>\n",
       "      <th>count</th>\n",
       "      <th>mean</th>\n",
       "      <th>std</th>\n",
       "      <th>min</th>\n",
       "      <th>25%</th>\n",
       "      <th>50%</th>\n",
       "      <th>75%</th>\n",
       "      <th>max</th>\n",
       "    </tr>\n",
       "    <tr>\n",
       "      <th>plan_name</th>\n",
       "      <th>month</th>\n",
       "      <th></th>\n",
       "      <th></th>\n",
       "      <th></th>\n",
       "      <th></th>\n",
       "      <th></th>\n",
       "      <th></th>\n",
       "      <th></th>\n",
       "      <th></th>\n",
       "    </tr>\n",
       "  </thead>\n",
       "  <tbody>\n",
       "    <tr>\n",
       "      <th rowspan=\"12\" valign=\"top\">surf</th>\n",
       "      <th>1.0</th>\n",
       "      <td>2.0</td>\n",
       "      <td>20.000000</td>\n",
       "      <td>0.000000</td>\n",
       "      <td>20.0</td>\n",
       "      <td>20.000</td>\n",
       "      <td>20.000</td>\n",
       "      <td>20.0000</td>\n",
       "      <td>20.00</td>\n",
       "    </tr>\n",
       "    <tr>\n",
       "      <th>2.0</th>\n",
       "      <td>9.0</td>\n",
       "      <td>34.256667</td>\n",
       "      <td>20.735788</td>\n",
       "      <td>20.0</td>\n",
       "      <td>20.000</td>\n",
       "      <td>28.310</td>\n",
       "      <td>30.0000</td>\n",
       "      <td>70.00</td>\n",
       "    </tr>\n",
       "    <tr>\n",
       "      <th>3.0</th>\n",
       "      <td>23.0</td>\n",
       "      <td>45.790000</td>\n",
       "      <td>38.827700</td>\n",
       "      <td>20.0</td>\n",
       "      <td>20.000</td>\n",
       "      <td>20.000</td>\n",
       "      <td>60.0600</td>\n",
       "      <td>170.00</td>\n",
       "    </tr>\n",
       "    <tr>\n",
       "      <th>4.0</th>\n",
       "      <td>50.0</td>\n",
       "      <td>40.452000</td>\n",
       "      <td>34.595712</td>\n",
       "      <td>20.0</td>\n",
       "      <td>20.000</td>\n",
       "      <td>20.000</td>\n",
       "      <td>48.6025</td>\n",
       "      <td>150.00</td>\n",
       "    </tr>\n",
       "    <tr>\n",
       "      <th>5.0</th>\n",
       "      <td>77.0</td>\n",
       "      <td>47.230390</td>\n",
       "      <td>44.154801</td>\n",
       "      <td>20.0</td>\n",
       "      <td>20.000</td>\n",
       "      <td>20.840</td>\n",
       "      <td>70.0000</td>\n",
       "      <td>230.84</td>\n",
       "    </tr>\n",
       "    <tr>\n",
       "      <th>6.0</th>\n",
       "      <td>97.0</td>\n",
       "      <td>48.926495</td>\n",
       "      <td>44.470845</td>\n",
       "      <td>20.0</td>\n",
       "      <td>20.000</td>\n",
       "      <td>30.000</td>\n",
       "      <td>60.0000</td>\n",
       "      <td>240.00</td>\n",
       "    </tr>\n",
       "    <tr>\n",
       "      <th>7.0</th>\n",
       "      <td>121.0</td>\n",
       "      <td>62.216116</td>\n",
       "      <td>54.046552</td>\n",
       "      <td>20.0</td>\n",
       "      <td>20.030</td>\n",
       "      <td>40.330</td>\n",
       "      <td>84.6700</td>\n",
       "      <td>260.00</td>\n",
       "    </tr>\n",
       "    <tr>\n",
       "      <th>8.0</th>\n",
       "      <td>162.0</td>\n",
       "      <td>63.568025</td>\n",
       "      <td>59.769252</td>\n",
       "      <td>20.0</td>\n",
       "      <td>20.000</td>\n",
       "      <td>41.500</td>\n",
       "      <td>86.2550</td>\n",
       "      <td>380.00</td>\n",
       "    </tr>\n",
       "    <tr>\n",
       "      <th>9.0</th>\n",
       "      <td>194.0</td>\n",
       "      <td>57.944278</td>\n",
       "      <td>47.456665</td>\n",
       "      <td>20.0</td>\n",
       "      <td>20.000</td>\n",
       "      <td>40.045</td>\n",
       "      <td>80.5550</td>\n",
       "      <td>240.78</td>\n",
       "    </tr>\n",
       "    <tr>\n",
       "      <th>10.0</th>\n",
       "      <td>237.0</td>\n",
       "      <td>65.042236</td>\n",
       "      <td>56.383129</td>\n",
       "      <td>20.0</td>\n",
       "      <td>20.000</td>\n",
       "      <td>50.000</td>\n",
       "      <td>83.2700</td>\n",
       "      <td>330.00</td>\n",
       "    </tr>\n",
       "    <tr>\n",
       "      <th>11.0</th>\n",
       "      <td>283.0</td>\n",
       "      <td>57.624028</td>\n",
       "      <td>49.851480</td>\n",
       "      <td>20.0</td>\n",
       "      <td>20.000</td>\n",
       "      <td>40.000</td>\n",
       "      <td>80.0000</td>\n",
       "      <td>290.36</td>\n",
       "    </tr>\n",
       "    <tr>\n",
       "      <th>12.0</th>\n",
       "      <td>318.0</td>\n",
       "      <td>70.097516</td>\n",
       "      <td>67.753167</td>\n",
       "      <td>20.0</td>\n",
       "      <td>22.565</td>\n",
       "      <td>50.000</td>\n",
       "      <td>90.2025</td>\n",
       "      <td>588.63</td>\n",
       "    </tr>\n",
       "    <tr>\n",
       "      <th rowspan=\"12\" valign=\"top\">ultimate</th>\n",
       "      <th>1.0</th>\n",
       "      <td>4.0</td>\n",
       "      <td>70.000000</td>\n",
       "      <td>0.000000</td>\n",
       "      <td>70.0</td>\n",
       "      <td>70.000</td>\n",
       "      <td>70.000</td>\n",
       "      <td>70.0000</td>\n",
       "      <td>70.00</td>\n",
       "    </tr>\n",
       "    <tr>\n",
       "      <th>2.0</th>\n",
       "      <td>7.0</td>\n",
       "      <td>70.000000</td>\n",
       "      <td>0.000000</td>\n",
       "      <td>70.0</td>\n",
       "      <td>70.000</td>\n",
       "      <td>70.000</td>\n",
       "      <td>70.0000</td>\n",
       "      <td>70.00</td>\n",
       "    </tr>\n",
       "    <tr>\n",
       "      <th>3.0</th>\n",
       "      <td>12.0</td>\n",
       "      <td>74.666667</td>\n",
       "      <td>12.062966</td>\n",
       "      <td>70.0</td>\n",
       "      <td>70.000</td>\n",
       "      <td>70.000</td>\n",
       "      <td>71.7500</td>\n",
       "      <td>112.00</td>\n",
       "    </tr>\n",
       "    <tr>\n",
       "      <th>4.0</th>\n",
       "      <td>21.0</td>\n",
       "      <td>73.000000</td>\n",
       "      <td>10.972693</td>\n",
       "      <td>70.0</td>\n",
       "      <td>70.000</td>\n",
       "      <td>70.000</td>\n",
       "      <td>70.0000</td>\n",
       "      <td>119.00</td>\n",
       "    </tr>\n",
       "    <tr>\n",
       "      <th>5.0</th>\n",
       "      <td>29.0</td>\n",
       "      <td>70.724138</td>\n",
       "      <td>3.899602</td>\n",
       "      <td>70.0</td>\n",
       "      <td>70.000</td>\n",
       "      <td>70.000</td>\n",
       "      <td>70.0000</td>\n",
       "      <td>91.00</td>\n",
       "    </tr>\n",
       "    <tr>\n",
       "      <th>6.0</th>\n",
       "      <td>47.0</td>\n",
       "      <td>71.638298</td>\n",
       "      <td>8.661322</td>\n",
       "      <td>70.0</td>\n",
       "      <td>70.000</td>\n",
       "      <td>70.000</td>\n",
       "      <td>70.0000</td>\n",
       "      <td>126.00</td>\n",
       "    </tr>\n",
       "    <tr>\n",
       "      <th>7.0</th>\n",
       "      <td>59.0</td>\n",
       "      <td>71.898305</td>\n",
       "      <td>10.221166</td>\n",
       "      <td>70.0</td>\n",
       "      <td>70.000</td>\n",
       "      <td>70.000</td>\n",
       "      <td>70.0000</td>\n",
       "      <td>126.00</td>\n",
       "    </tr>\n",
       "    <tr>\n",
       "      <th>8.0</th>\n",
       "      <td>71.0</td>\n",
       "      <td>72.859155</td>\n",
       "      <td>12.442204</td>\n",
       "      <td>70.0</td>\n",
       "      <td>70.000</td>\n",
       "      <td>70.000</td>\n",
       "      <td>70.0000</td>\n",
       "      <td>140.00</td>\n",
       "    </tr>\n",
       "    <tr>\n",
       "      <th>9.0</th>\n",
       "      <td>86.0</td>\n",
       "      <td>72.034884</td>\n",
       "      <td>8.714353</td>\n",
       "      <td>70.0</td>\n",
       "      <td>70.000</td>\n",
       "      <td>70.000</td>\n",
       "      <td>70.0000</td>\n",
       "      <td>119.00</td>\n",
       "    </tr>\n",
       "    <tr>\n",
       "      <th>10.0</th>\n",
       "      <td>106.0</td>\n",
       "      <td>72.311321</td>\n",
       "      <td>13.023322</td>\n",
       "      <td>70.0</td>\n",
       "      <td>70.000</td>\n",
       "      <td>70.000</td>\n",
       "      <td>70.0000</td>\n",
       "      <td>182.00</td>\n",
       "    </tr>\n",
       "    <tr>\n",
       "      <th>11.0</th>\n",
       "      <td>127.0</td>\n",
       "      <td>71.708661</td>\n",
       "      <td>9.729770</td>\n",
       "      <td>70.0</td>\n",
       "      <td>70.000</td>\n",
       "      <td>70.000</td>\n",
       "      <td>70.0000</td>\n",
       "      <td>154.00</td>\n",
       "    </tr>\n",
       "    <tr>\n",
       "      <th>12.0</th>\n",
       "      <td>151.0</td>\n",
       "      <td>73.291391</td>\n",
       "      <td>14.589763</td>\n",
       "      <td>70.0</td>\n",
       "      <td>70.000</td>\n",
       "      <td>70.000</td>\n",
       "      <td>70.0000</td>\n",
       "      <td>182.00</td>\n",
       "    </tr>\n",
       "  </tbody>\n",
       "</table>\n",
       "</div>"
      ],
      "text/plain": [
       "                 count       mean        std   min     25%     50%      75%  \\\n",
       "plan_name month                                                               \n",
       "surf      1.0      2.0  20.000000   0.000000  20.0  20.000  20.000  20.0000   \n",
       "          2.0      9.0  34.256667  20.735788  20.0  20.000  28.310  30.0000   \n",
       "          3.0     23.0  45.790000  38.827700  20.0  20.000  20.000  60.0600   \n",
       "          4.0     50.0  40.452000  34.595712  20.0  20.000  20.000  48.6025   \n",
       "          5.0     77.0  47.230390  44.154801  20.0  20.000  20.840  70.0000   \n",
       "          6.0     97.0  48.926495  44.470845  20.0  20.000  30.000  60.0000   \n",
       "          7.0    121.0  62.216116  54.046552  20.0  20.030  40.330  84.6700   \n",
       "          8.0    162.0  63.568025  59.769252  20.0  20.000  41.500  86.2550   \n",
       "          9.0    194.0  57.944278  47.456665  20.0  20.000  40.045  80.5550   \n",
       "          10.0   237.0  65.042236  56.383129  20.0  20.000  50.000  83.2700   \n",
       "          11.0   283.0  57.624028  49.851480  20.0  20.000  40.000  80.0000   \n",
       "          12.0   318.0  70.097516  67.753167  20.0  22.565  50.000  90.2025   \n",
       "ultimate  1.0      4.0  70.000000   0.000000  70.0  70.000  70.000  70.0000   \n",
       "          2.0      7.0  70.000000   0.000000  70.0  70.000  70.000  70.0000   \n",
       "          3.0     12.0  74.666667  12.062966  70.0  70.000  70.000  71.7500   \n",
       "          4.0     21.0  73.000000  10.972693  70.0  70.000  70.000  70.0000   \n",
       "          5.0     29.0  70.724138   3.899602  70.0  70.000  70.000  70.0000   \n",
       "          6.0     47.0  71.638298   8.661322  70.0  70.000  70.000  70.0000   \n",
       "          7.0     59.0  71.898305  10.221166  70.0  70.000  70.000  70.0000   \n",
       "          8.0     71.0  72.859155  12.442204  70.0  70.000  70.000  70.0000   \n",
       "          9.0     86.0  72.034884   8.714353  70.0  70.000  70.000  70.0000   \n",
       "          10.0   106.0  72.311321  13.023322  70.0  70.000  70.000  70.0000   \n",
       "          11.0   127.0  71.708661   9.729770  70.0  70.000  70.000  70.0000   \n",
       "          12.0   151.0  73.291391  14.589763  70.0  70.000  70.000  70.0000   \n",
       "\n",
       "                    max  \n",
       "plan_name month          \n",
       "surf      1.0     20.00  \n",
       "          2.0     70.00  \n",
       "          3.0    170.00  \n",
       "          4.0    150.00  \n",
       "          5.0    230.84  \n",
       "          6.0    240.00  \n",
       "          7.0    260.00  \n",
       "          8.0    380.00  \n",
       "          9.0    240.78  \n",
       "          10.0   330.00  \n",
       "          11.0   290.36  \n",
       "          12.0   588.63  \n",
       "ultimate  1.0     70.00  \n",
       "          2.0     70.00  \n",
       "          3.0    112.00  \n",
       "          4.0    119.00  \n",
       "          5.0     91.00  \n",
       "          6.0    126.00  \n",
       "          7.0    126.00  \n",
       "          8.0    140.00  \n",
       "          9.0    119.00  \n",
       "          10.0   182.00  \n",
       "          11.0   154.00  \n",
       "          12.0   182.00  "
      ]
     },
     "metadata": {},
     "output_type": "display_data"
    }
   ],
   "source": [
    "#agrupo por plan y mes el total de ingresos para compararlos\n",
    "ingresos_per_plan = fusion_pack.groupby(['plan_name', 'month'])['total_ingreso'].describe()\n",
    "display(ingresos_per_plan)"
   ]
  },
  {
   "cell_type": "code",
   "execution_count": 47,
   "metadata": {
    "id": "0Y1v8ZUz0q1P"
   },
   "outputs": [
    {
     "data": {
      "image/png": "[encoded data removed]",
      "text/plain": [
       "<Figure size 864x432 with 1 Axes>"
      ]
     },
     "metadata": {
      "needs_background": "light"
     },
     "output_type": "display_data"
    }
   ],
   "source": [
    "graph= fusion_pack.groupby(['plan_name', 'month'])['total_ingreso'].sum().reset_index()\n",
    "plt.figure(figsize=[12, 6])\n",
    "plt.bar(graph['plan_name'], graph['total_ingreso'], color='purple', alpha=0.5)\n",
    "plt.title('Distribución de ingresos por plan')\n",
    "plt.xlabel('Plan')\n",
    "plt.ylabel('Ingresos')\n",
    "plt.legend(title='Plan', labels=['Ultimate', 'Surf'])\n",
    "plt.show()"
   ]
  },
  {
   "cell_type": "markdown",
   "metadata": {
    "id": "bYmwxyVh0q1P"
   },
   "source": [
    "Se puede observar que los clientes del plan Surf tienden a pasarse del limite establecido del plan y pagar extras durante los meses, siendo de septiembre a octubre los meses que más ocurre esto.\n",
    "\n",
    "En el gráfico se puede observar que los ingresos del plan Surf son mayores a los del plan Ultimate, teniendo en cuenta que el plan Surf posee mayor cantidad de clientes y van dependiendo del consumo de sus clientes mes a mes, en cambio, los ingresos del plan Ultimate son fijos y posee menor cantidad de clientes."
   ]
  },
  {
   "cell_type": "markdown",
   "metadata": {
    "id": "ajJ7VKeI0q1Q"
   },
   "source": [
    "## Prueba las hipótesis estadísticas"
   ]
  },
  {
   "cell_type": "code",
   "execution_count": 48,
   "metadata": {
    "id": "nFoPNlPq0q1R"
   },
   "outputs": [
    {
     "name": "stdout",
     "output_type": "stream",
     "text": [
      "valor p:  3.438526967606285e-16\n",
      "Rechazamos la hipótesis nula\n"
     ]
    }
   ],
   "source": [
    "# Prueba las hipótesis\n",
    "#H0: Los ingresos mensuales de los usuarios de los planes Surf y Ultimate son iguales.\n",
    "#Ha: Los ingresos mensuales de los usuarios de los planes Surf y Ultimate son diferentes.\n",
    "ingresos_ultimate = fusion_pack[fusion_pack['plan_name'] == 'ultimate']['total_ingreso']\n",
    "ingresos_surf = fusion_pack[fusion_pack['plan_name'] == 'surf']['total_ingreso']\n",
    "\n",
    "alpha= 0.05\n",
    "results = st.ttest_ind(ingresos_ultimate,ingresos_surf, equal_var= False)\n",
    "\n",
    "print('valor p: ', results.pvalue)\n",
    "\n",
    "if (results.pvalue < alpha):\n",
    "    print('Rechazamos la hipótesis nula')\n",
    "else:\n",
    "    print(\"No podemos rechazar la hipótesis nula\")\n"
   ]
  },
  {
   "cell_type": "code",
   "execution_count": 49,
   "metadata": {
    "id": "Cqcj7wrZ0q1S"
   },
   "outputs": [
    {
     "name": "stdout",
     "output_type": "stream",
     "text": [
      "valor p:  nan\n",
      "No podemos rechazar la hipótesis nula\n"
     ]
    }
   ],
   "source": [
    "# Prueba las hipótesis\n",
    "#H0: el ingreso promedio de los usuarios del área NY-NJ es igual al de los usuarios de otras regiones\n",
    "#Ha: el ingreso promedio de los usuarios del área NY-NJ es diferente al de los usuarios de otras regiones\n",
    "\n",
    "ingresos_nynj= fusion_pack[fusion_pack['city'] == 'NY-NJ']['total_ingreso']\n",
    "ingresos_other_rg= fusion_pack[fusion_pack['city'] != 'NY-NJ']['total_ingreso']\n",
    "\n",
    "alpha= 0.05\n",
    "result_region = st.ttest_ind(ingresos_nynj,ingresos_other_rg, equal_var= False)\n",
    "\n",
    "print('valor p: ', result_region.pvalue)\n",
    "\n",
    "if (result_region.pvalue < alpha):\n",
    "    print('Rechazamos la hipótesis nula')\n",
    "else:\n",
    "    print(\"No podemos rechazar la hipótesis nula\")\n"
   ]
  },
  {
   "cell_type": "markdown",
   "metadata": {
    "id": "bbTR8UQO0q1T"
   },
   "source": [
    "## Conclusión general\n",
    "\n",
    "\n",
    "En este trabajo se trabajaron datos de clientes de los planes Surf y Ultimate.\n",
    "1) A lo largo del análisis de datos que se realizó se observó que el plan Surf posee mayor cantidad de clientes quienes cancelan mes a mes 20 dolares + cobros extras en caso de utilizar más de lo que incluye el plan, los costos individuales de sus productos son más caros que los del plan Ultimate, se pudo ver que a fin de año los clientes del plan Surf terminan pagando más del doble de lo que pagan los clientes del plan Ultimate (588 dolares).\n",
    "\n",
    "Con respecto al plan Ultimate posee menos clientes en comparación al otro plan, a pesar de que este plan incluye mayor cantidad de minutos, sms y gb. La cuota mensual es de 70, la media de lo que deben cancelar los clientes ronda entre los 70-73 dolares, sin embargo el máximo que han llegado a pagar los clientes ha sido 182 dolares. \n",
    "Debido a esto es posible concluir que los clientes optan por la opción más barata a pesar de que es un plan más básico, sin considerar en el costo de los cobros extras y de cuánto realmente utilizan comunmente estos servicios.\n",
    "\n",
    "2) Se pudo ver que dependiendo de la época del año aumentan y disminuyen la cantidad de minutos, sms y gb gastados por los clientes y es similiar la tendencia de aumento en ambos planes.\n",
    "\n",
    "3) Los meses que más utilizan gb y minutos los clientes de ambos planes son de octubre a diciembre.\n"
   ]
  }
 ],
 "metadata": {
  "ExecuteTimeLog": [
   {
    "duration": 828,
    "start_time": "2021-11-16T09:21:11.304Z"
   },
   {
    "duration": 893,
    "start_time": "2021-11-16T09:21:17.728Z"
   },
   {
    "duration": 1150,
    "start_time": "2021-11-16T09:21:29.568Z"
   },
   {
    "duration": 3,
    "start_time": "2021-11-16T09:24:14.495Z"
   },
   {
    "duration": 120,
    "start_time": "2021-11-16T09:24:46.630Z"
   },
   {
    "duration": 3,
    "start_time": "2021-11-16T09:28:27.882Z"
   },
   {
    "duration": 4,
    "start_time": "2021-11-16T09:29:54.281Z"
   },
   {
    "duration": 3,
    "start_time": "2021-11-16T09:30:45.936Z"
   },
   {
    "duration": 4,
    "start_time": "2021-11-16T09:31:06.300Z"
   },
   {
    "duration": 113,
    "start_time": "2021-11-16T09:31:37.208Z"
   },
   {
    "duration": 143,
    "start_time": "2021-11-16T09:31:48.656Z"
   },
   {
    "duration": 98,
    "start_time": "2021-11-16T09:31:55.678Z"
   },
   {
    "duration": 3,
    "start_time": "2021-11-16T09:32:08.535Z"
   },
   {
    "duration": 111,
    "start_time": "2021-11-16T09:32:10.120Z"
   },
   {
    "duration": 3,
    "start_time": "2021-11-16T09:32:15.732Z"
   },
   {
    "duration": 4,
    "start_time": "2021-11-16T09:32:29.423Z"
   },
   {
    "duration": 3,
    "start_time": "2021-11-16T10:03:03.074Z"
   },
   {
    "duration": 3,
    "start_time": "2021-11-16T10:10:01.288Z"
   },
   {
    "duration": 3,
    "start_time": "2021-11-16T10:10:46.923Z"
   },
   {
    "duration": 121,
    "start_time": "2021-11-16T10:37:46.494Z"
   },
   {
    "duration": 125,
    "start_time": "2021-11-16T10:38:20.632Z"
   },
   {
    "duration": 112,
    "start_time": "2021-11-16T10:46:53.001Z"
   },
   {
    "duration": 110,
    "start_time": "2021-11-16T10:48:25.775Z"
   },
   {
    "duration": 3,
    "start_time": "2021-11-16T10:50:18.720Z"
   },
   {
    "duration": 4,
    "start_time": "2021-11-16T10:50:37.649Z"
   },
   {
    "duration": 2,
    "start_time": "2021-11-16T10:50:51.884Z"
   },
   {
    "duration": 3,
    "start_time": "2021-11-16T10:51:56.237Z"
   },
   {
    "duration": 101,
    "start_time": "2021-11-16T10:53:13.791Z"
   },
   {
    "duration": 3,
    "start_time": "2021-11-16T10:55:59.186Z"
   },
   {
    "duration": 3,
    "start_time": "2021-11-16T10:56:10.751Z"
   },
   {
    "duration": 3,
    "start_time": "2021-11-16T10:56:49.038Z"
   },
   {
    "duration": 3,
    "start_time": "2021-11-16T10:56:49.174Z"
   },
   {
    "duration": 4,
    "start_time": "2021-11-16T10:56:49.414Z"
   },
   {
    "duration": 3,
    "start_time": "2021-11-16T10:56:49.680Z"
   },
   {
    "duration": 3,
    "start_time": "2021-11-16T10:56:50.370Z"
   },
   {
    "duration": 114,
    "start_time": "2021-11-16T10:59:34.518Z"
   },
   {
    "duration": 3,
    "start_time": "2021-11-16T11:01:41.201Z"
   },
   {
    "duration": 116,
    "start_time": "2021-11-16T11:01:48.754Z"
   },
   {
    "duration": 3,
    "start_time": "2021-11-16T11:02:16.685Z"
   },
   {
    "duration": 3,
    "start_time": "2021-11-16T11:02:19.479Z"
   },
   {
    "duration": 3,
    "start_time": "2021-11-16T11:02:47.067Z"
   },
   {
    "duration": 3,
    "start_time": "2021-11-16T11:02:49.353Z"
   },
   {
    "duration": 3,
    "start_time": "2021-11-16T11:03:07.835Z"
   },
   {
    "duration": 3,
    "start_time": "2021-11-16T11:03:07.953Z"
   },
   {
    "duration": 112,
    "start_time": "2021-11-16T11:07:52.072Z"
   },
   {
    "duration": 187,
    "start_time": "2021-11-16T11:09:23.468Z"
   },
   {
    "duration": 4,
    "start_time": "2021-11-16T11:10:01.455Z"
   },
   {
    "duration": 3,
    "start_time": "2021-11-16T11:10:05.069Z"
   },
   {
    "duration": 4,
    "start_time": "2021-11-16T11:10:13.376Z"
   },
   {
    "duration": 3,
    "start_time": "2021-11-16T11:10:14.434Z"
   },
   {
    "duration": 3,
    "start_time": "2021-11-16T11:10:22.853Z"
   },
   {
    "duration": 4,
    "start_time": "2021-11-16T11:27:29.279Z"
   },
   {
    "duration": 4,
    "start_time": "2021-11-16T11:29:08.919Z"
   },
   {
    "duration": 118,
    "start_time": "2021-11-16T11:29:46.703Z"
   },
   {
    "duration": 437,
    "start_time": "2021-11-16T11:36:02.181Z"
   },
   {
    "duration": 157,
    "start_time": "2021-11-16T11:36:14.388Z"
   },
   {
    "duration": 207,
    "start_time": "2021-11-16T11:47:15.898Z"
   },
   {
    "duration": 3,
    "start_time": "2021-11-16T11:53:52.092Z"
   },
   {
    "duration": 3,
    "start_time": "2021-11-16T11:53:52.236Z"
   },
   {
    "duration": 3,
    "start_time": "2021-11-16T11:59:12.005Z"
   },
   {
    "duration": 112,
    "start_time": "2021-11-16T12:00:33.446Z"
   },
   {
    "duration": 3,
    "start_time": "2021-11-16T12:02:14.453Z"
   },
   {
    "duration": 3,
    "start_time": "2021-11-16T12:02:39.512Z"
   },
   {
    "duration": 106,
    "start_time": "2021-11-16T12:03:03.460Z"
   },
   {
    "duration": 3,
    "start_time": "2021-11-17T20:37:21.139Z"
   },
   {
    "duration": 3,
    "start_time": "2021-11-17T20:37:22.229Z"
   },
   {
    "duration": 3,
    "start_time": "2021-11-17T20:38:38.806Z"
   },
   {
    "duration": 3,
    "start_time": "2021-11-17T20:38:41.958Z"
   },
   {
    "duration": 3,
    "start_time": "2021-11-17T20:43:46.551Z"
   },
   {
    "duration": 4,
    "start_time": "2021-11-17T20:58:21.835Z"
   },
   {
    "duration": 3,
    "start_time": "2021-11-17T20:59:21.872Z"
   },
   {
    "duration": 4,
    "start_time": "2021-11-17T20:59:45.352Z"
   },
   {
    "duration": 4,
    "start_time": "2021-11-17T20:59:49.646Z"
   },
   {
    "duration": 159,
    "start_time": "2021-11-17T21:02:26.949Z"
   },
   {
    "duration": 3,
    "start_time": "2021-11-17T21:03:53.461Z"
   },
   {
    "duration": 3,
    "start_time": "2021-11-17T21:03:53.694Z"
   },
   {
    "duration": 3,
    "start_time": "2021-11-17T21:05:28.145Z"
   },
   {
    "duration": 116,
    "start_time": "2021-11-17T21:05:57.787Z"
   },
   {
    "duration": 3,
    "start_time": "2021-11-17T21:06:37.993Z"
   },
   {
    "duration": 3,
    "start_time": "2021-11-17T21:06:38.261Z"
   },
   {
    "duration": 3,
    "start_time": "2021-11-17T21:11:54.358Z"
   },
   {
    "duration": 3,
    "start_time": "2021-11-17T21:12:43.846Z"
   },
   {
    "duration": 4,
    "start_time": "2021-11-17T21:13:08.773Z"
   },
   {
    "duration": 3,
    "start_time": "2021-11-17T21:14:44.441Z"
   },
   {
    "duration": 3,
    "start_time": "2021-11-17T21:15:42.059Z"
   },
   {
    "duration": 4,
    "start_time": "2021-11-17T21:15:51.995Z"
   },
   {
    "duration": 3,
    "start_time": "2021-11-17T21:15:53.923Z"
   },
   {
    "duration": 3,
    "start_time": "2021-11-17T21:15:55.282Z"
   },
   {
    "duration": 3,
    "start_time": "2021-11-17T21:16:28.492Z"
   },
   {
    "duration": 3,
    "start_time": "2021-11-17T21:16:32.603Z"
   },
   {
    "duration": 3,
    "start_time": "2021-11-17T21:17:06.941Z"
   },
   {
    "duration": 98,
    "start_time": "2021-11-17T21:18:05.733Z"
   },
   {
    "duration": 4,
    "start_time": "2021-11-17T21:21:35.255Z"
   },
   {
    "duration": 3,
    "start_time": "2021-11-17T21:21:37.804Z"
   },
   {
    "duration": 4,
    "start_time": "2021-11-17T21:23:06.071Z"
   },
   {
    "duration": 3,
    "start_time": "2021-11-17T21:23:24.799Z"
   },
   {
    "duration": 3,
    "start_time": "2021-11-17T21:23:32.591Z"
   },
   {
    "duration": 98,
    "start_time": "2021-11-17T21:28:31.559Z"
   },
   {
    "duration": 3,
    "start_time": "2021-11-17T21:28:45.448Z"
   },
   {
    "duration": 3,
    "start_time": "2021-11-17T21:29:17.303Z"
   },
   {
    "duration": 3,
    "start_time": "2021-11-17T21:29:29.617Z"
   },
   {
    "duration": 3,
    "start_time": "2021-11-17T21:29:32.681Z"
   },
   {
    "duration": 3,
    "start_time": "2021-11-17T21:36:11.474Z"
   },
   {
    "duration": 3,
    "start_time": "2021-11-17T21:36:14.791Z"
   },
   {
    "duration": 3,
    "start_time": "2021-11-17T21:36:53.943Z"
   },
   {
    "duration": 3,
    "start_time": "2021-11-17T21:36:56.165Z"
   },
   {
    "duration": 4,
    "start_time": "2021-11-17T21:37:16.590Z"
   },
   {
    "duration": 3,
    "start_time": "2021-11-17T21:37:22.702Z"
   },
   {
    "duration": 4,
    "start_time": "2021-11-17T21:38:03.479Z"
   },
   {
    "duration": 3,
    "start_time": "2021-11-17T21:38:08.601Z"
   },
   {
    "duration": 3,
    "start_time": "2021-11-17T21:38:12.928Z"
   },
   {
    "duration": 3,
    "start_time": "2021-11-17T21:38:48.896Z"
   },
   {
    "duration": 2,
    "start_time": "2021-11-17T21:38:49.171Z"
   },
   {
    "duration": 4,
    "start_time": "2021-11-17T21:39:57.889Z"
   },
   {
    "duration": 3,
    "start_time": "2021-11-17T21:39:58.057Z"
   },
   {
    "duration": 3,
    "start_time": "2021-11-17T21:41:20.108Z"
   },
   {
    "duration": 3,
    "start_time": "2021-11-17T21:41:20.629Z"
   },
   {
    "duration": 3,
    "start_time": "2021-11-17T21:42:49.136Z"
   },
   {
    "duration": 3,
    "start_time": "2021-11-17T21:43:15.137Z"
   },
   {
    "duration": 4,
    "start_time": "2021-11-17T21:43:16.766Z"
   },
   {
    "duration": 4,
    "start_time": "2021-11-17T21:43:31.711Z"
   },
   {
    "duration": 3,
    "start_time": "2021-11-17T21:43:36.312Z"
   },
   {
    "duration": 4,
    "start_time": "2021-11-17T21:45:08.825Z"
   },
   {
    "duration": 4,
    "start_time": "2021-11-17T21:45:10.119Z"
   },
   {
    "duration": 4,
    "start_time": "2021-11-17T21:45:13.748Z"
   },
   {
    "duration": 3,
    "start_time": "2021-11-17T21:45:22.219Z"
   },
   {
    "duration": 3,
    "start_time": "2021-11-17T21:45:33.412Z"
   },
   {
    "duration": 2,
    "start_time": "2021-11-17T21:46:01.885Z"
   },
   {
    "duration": 3,
    "start_time": "2021-11-17T21:46:03.628Z"
   },
   {
    "duration": 107,
    "start_time": "2021-11-17T21:47:32.512Z"
   },
   {
    "duration": 103,
    "start_time": "2021-11-17T21:50:36.243Z"
   },
   {
    "duration": 3,
    "start_time": "2021-11-18T06:28:31.440Z"
   },
   {
    "duration": 3,
    "start_time": "2021-11-18T06:29:00.168Z"
   },
   {
    "duration": 3,
    "start_time": "2021-11-18T06:31:27.008Z"
   },
   {
    "duration": 2,
    "start_time": "2021-11-18T06:35:34.288Z"
   },
   {
    "duration": 2,
    "start_time": "2021-11-18T06:38:04.527Z"
   }
  ],
  "colab": {
   "provenance": []
  },
  "kernelspec": {
   "display_name": "Python 3 (ipykernel)",
   "language": "python",
   "name": "python3"
  },
  "language_info": {
   "codemirror_mode": {
    "name": "ipython",
    "version": 3
   },
   "file_extension": ".py",
   "mimetype": "text/x-python",
   "name": "python",
   "nbconvert_exporter": "python",
   "pygments_lexer": "ipython3",
   "version": "3.9.19"
  },
  "toc": {
   "base_numbering": 1,
   "nav_menu": {},
   "number_sections": true,
   "sideBar": true,
   "skip_h1_title": false,
   "title_cell": "Table of Contents",
   "title_sidebar": "Contents",
   "toc_cell": false,
   "toc_position": {
    "height": "calc(100% - 180px)",
    "left": "10px",
    "top": "150px",
    "width": "165px"
   },
   "toc_section_display": true,
   "toc_window_display": true
  }
 },
 "nbformat": 4,
 "nbformat_minor": 1
}
