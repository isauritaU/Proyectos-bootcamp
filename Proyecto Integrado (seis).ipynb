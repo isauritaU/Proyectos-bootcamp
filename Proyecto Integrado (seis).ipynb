{
 "cells": [
  {
   "cell_type": "markdown",
   "metadata": {},
   "source": [
    "# proyecto integrado 1"
   ]
  },
  {
   "cell_type": "markdown",
   "metadata": {},
   "source": [
    "**Información del archivo**\n",
    "\n",
    "En este proyecto se trabajarán datos de plataformas de videojuegos, se modificarán y se realizarán análisis basandose en los datos obtenidos."
   ]
  },
  {
   "cell_type": "markdown",
   "metadata": {},
   "source": [
    "**Paso 1. Abrir el archivo de datos y estudiar la información general**"
   ]
  },
  {
   "cell_type": "code",
   "execution_count": null,
   "metadata": {},
   "outputs": [],
   "source": [
    "import pandas as pd #Importo las librerías\n",
    "import numpy as np\n",
    "import scipy.stats as st\n",
    "from matplotlib import pyplot as plt\n",
    "import seaborn as sns"
   ]
  },
  {
   "cell_type": "code",
   "execution_count": null,
   "metadata": {},
   "outputs": [],
   "source": [
    "games = pd.read_csv('/datasets/games.csv') #Cargo el dataframe\n",
    "games.info() "
   ]
  },
  {
   "cell_type": "code",
   "execution_count": null,
   "metadata": {},
   "outputs": [],
   "source": [
    "games.sample(5, random_state = 1000)"
   ]
  },
  {
   "cell_type": "code",
   "execution_count": null,
   "metadata": {},
   "outputs": [],
   "source": [
    "games.describe()"
   ]
  },
  {
   "cell_type": "markdown",
   "metadata": {},
   "source": [
    "Puedo ver que es un archivo de plataformas de videojuegos, cuenta con 11 columnas, donde aparecen las ventas por los continentes de asia, europa y norteamérica, año de lanzamiento y nombre de los juegos, entre otros, tipo de datos de las columnas, veo que valores ausentes."
   ]
  },
  {
   "cell_type": "markdown",
   "metadata": {},
   "source": [
    "**Paso 2: Preparado de datos**"
   ]
  },
  {
   "cell_type": "code",
   "execution_count": null,
   "metadata": {},
   "outputs": [],
   "source": [
    "games.columns = games.columns.str.lower() #convetir a minúscula los nombres de las columnas\n",
    "print(games.columns)"
   ]
  },
  {
   "cell_type": "code",
   "execution_count": null,
   "metadata": {},
   "outputs": [],
   "source": [
    "100*games.isna().sum()/games.shape[0] #verificar si hay valores nulos "
   ]
  },
  {
   "cell_type": "code",
   "execution_count": null,
   "metadata": {},
   "outputs": [],
   "source": [
    "games['name'] = games['name'].fillna('unknown') #Reemplazar valores ausentes por 'unknown' en la columna name, genre y rating\n",
    "games['genre'] = games['genre'].fillna('unknown')\n",
    "games['rating'] = games['rating'].fillna('unknown')\n",
    "\n",
    "games.isna().sum()"
   ]
  },
  {
   "cell_type": "code",
   "execution_count": null,
   "metadata": {},
   "outputs": [],
   "source": [
    "games.user_score.unique() #La columna user_score contiene valores tbd lo que dificulta modificarla"
   ]
  },
  {
   "cell_type": "code",
   "execution_count": null,
   "metadata": {},
   "outputs": [],
   "source": [
    "games['user_score'] = games['user_score'].replace('tbd', np.nan) #reemplazo tbd por nan\n",
    "games['user_score'] = games['user_score'].astype(float) #Ahora si puedo trabajar con esta columna\n",
    "games.user_score.unique()"
   ]
  },
  {
   "cell_type": "code",
   "execution_count": null,
   "metadata": {},
   "outputs": [],
   "source": [
    "games.duplicated().sum() #verifico duplicados"
   ]
  },
  {
   "cell_type": "markdown",
   "metadata": {},
   "source": [
    "**Describe las columnas en las que los tipos de datos han sido cambiados y explica por qué.**\n",
    "\n",
    "Al empezar a revisar el dataframe (df), se ve que la columna user_score se encuentra como object siendo una columna float, también se ven que poseen las columnas valores ausentes.\n",
    "\n",
    "Comienzo pasando a minusculas los nombres de las columnas, verifico el porcentaje de valores nulos que hay por columna. Convierto los valores ausentes por 'unknown' en las columnas object ya que no corro riesgo de que ocurra sesgo de datos, sin embargo las columnas con dígitos las mantengo ya que los valores nan no impiden que pueda trabajar con los datos. Al tratar de convertir la columna user_score a float no se podía ya que la columna poseía valores 'tbd' (por determinar) asi que para manejar esto, los valores tbd los converti a nan, luego, a float.\n"
   ]
  },
  {
   "cell_type": "code",
   "execution_count": null,
   "metadata": {},
   "outputs": [],
   "source": [
    "games['venta_total'] = games['na_sales'] + games['eu_sales'] + games['jp_sales'] #Calculo de ventas totales\n",
    "\n",
    "games.head()"
   ]
  },
  {
   "cell_type": "markdown",
   "metadata": {},
   "source": [
    "**Paso 3: Analisis de datos**"
   ]
  },
  {
   "cell_type": "markdown",
   "metadata": {},
   "source": [
    "**3.1 Mira cuántos juegos fueron lanzados en diferentes años. ¿Son significativos los datos de cada período?**"
   ]
  },
  {
   "cell_type": "code",
   "execution_count": null,
   "metadata": {},
   "outputs": [],
   "source": [
    "count_games = games.groupby('year_of_release')['name'].count().reset_index()\n",
    "display(count_games) # Mira cuántos juegos fueron lanzados en diferentes años."
   ]
  },
  {
   "cell_type": "code",
   "execution_count": null,
   "metadata": {},
   "outputs": [],
   "source": [
    "a = 'Juegos vendidos por año'  \n",
    "\n",
    "count_games = games.groupby('year_of_release')['name'].count().reset_index()\n",
    "\n",
    "# gráfico de línea\n",
    "plt.figure(figsize=(12, 8))\n",
    "count_games.plot(x = 'year_of_release', y = 'name')\n",
    "plt.title(a)\n",
    "plt.xlabel('Año de Lanzamiento')\n",
    "plt.ylabel('Número de Juegos Vendidos')\n",
    "plt.show()\n"
   ]
  },
  {
   "cell_type": "markdown",
   "metadata": {},
   "source": [
    "Segun los datos del df, ha habido un incremento con los años en la venta de videojuegos, siendo su pick entre 2002 y 2011, a partir de esos años ha ido disminuyendo la venta pero continúa siendo mayor a lo que se vendía en los años 80's y 90's."
   ]
  },
  {
   "cell_type": "markdown",
   "metadata": {},
   "source": [
    "**Paso 3.2** Venta por plataforma\n",
    "\n",
    "**Observa cómo varían las ventas de una plataforma a otra. Elige las plataformas con las mayores ventas totales y construye una distribución basada en los datos de cada año.**"
   ]
  },
  {
   "cell_type": "code",
   "execution_count": null,
   "metadata": {},
   "outputs": [],
   "source": [
    "sales_by_console = games.pivot_table(index = 'platform', values = 'venta_total', aggfunc = 'sum')\n",
    "sales_by_console.sort_values(by = 'venta_total', ascending = False).head(5)"
   ]
  },
  {
   "cell_type": "code",
   "execution_count": null,
   "metadata": {},
   "outputs": [],
   "source": [
    "platform_list = ('PS2', 'X360', 'Wii', 'PS3', 'DS') #creo una lista con las plataformas que más venden\n",
    "games_2 = games[games['platform'].isin(platform_list)] #creo un df_2 con la lista que creé"
   ]
  },
  {
   "cell_type": "code",
   "execution_count": null,
   "metadata": {},
   "outputs": [],
   "source": [
    "platform_distribution = games_2.groupby(['year_of_release', 'platform'])['venta_total'].sum().reset_index()\n",
    "platform_distribution"
   ]
  },
  {
   "cell_type": "markdown",
   "metadata": {},
   "source": [
    "Observando por separado estas plataformas:\n",
    "se puede ver comenzando por 'DS' que hay un periodo entre los años 1985 y 2004 que no tiene ventas. Desde 2004 comienza a tener ventas >100, hasta 2010 que empiezan a decaer, el 2013 es el último registro que hay de 1.42.\n",
    "\n",
    "La plataforma 'PS2' inicia el año 2000 con venta de 35.59, continúa con ventas >100 del 2001-2005, del 2006 comienzan a disminuir las ventas, llegando a lo minimo de ventas 2010-2011 (4.44-0.35)\n",
    "\n",
    "La plataforma X360 inició en 2005 con bajas ventas, a partir del 2006-2013 tienen ventas que empienzan a decaer nuevamente en 2014 hasta ahora (2016).\n",
    "Con Wii inicia con grandes ventas (2006), y empiezan a decaer fuertemente en 2011.\n",
    "\n",
    "\n",
    "\n"
   ]
  },
  {
   "cell_type": "code",
   "execution_count": null,
   "metadata": {},
   "outputs": [],
   "source": [
    "sns.lineplot(data = platform_distribution, hue = 'platform', x = 'year_of_release', y = 'venta_total' )"
   ]
  },
  {
   "cell_type": "markdown",
   "metadata": {},
   "source": [
    "3.3 **Busca las plataformas que solían ser populares pero que ahora no tienen ventas.**\n"
   ]
  },
  {
   "cell_type": "code",
   "execution_count": null,
   "metadata": {},
   "outputs": [],
   "source": [
    "games.columns"
   ]
  },
  {
   "cell_type": "code",
   "execution_count": null,
   "metadata": {},
   "outputs": [],
   "source": [
    "plat_by_year_min = games.groupby('platform').agg({'year_of_release': 'min', 'venta_total': 'sum'}).reset_index()\n",
    "plat_by_year_min = plat_by_year_min.sort_values(by= 'year_of_release')\n",
    "print('plataformas que solian ser populares:')\n",
    "display(plat_by_year_min) #agrupo por el año menor que es el año que se lanzó la plataforma"
   ]
  },
  {
   "cell_type": "code",
   "execution_count": null,
   "metadata": {},
   "outputs": [],
   "source": [
    "plat_by_year_max = games.groupby('platform').agg({'year_of_release': 'max', 'venta_total': 'sum'}).reset_index()\n",
    "plat_by_year_max = plat_by_year_max.sort_values(by = 'year_of_release')\n",
    "print('plataformas actualmente populares')\n",
    "display(plat_by_year_max)  #agrupo por el año máximo que correspondería al último año que hay registros de esa plataforma"
   ]
  },
  {
   "cell_type": "code",
   "execution_count": null,
   "metadata": {},
   "outputs": [],
   "source": [
    "# Calculo la diferencia entre los años de lanzamiento y las ventas totales\n",
    "difference_df = plat_by_year_max[['platform', 'year_of_release', 'venta_total']].copy()\n",
    "difference_df['year_of_release_diff'] = plat_by_year_max['year_of_release'] - plat_by_year_min['year_of_release']\n",
    "\n",
    "# Mostrar el DataFrame con las diferencias\n",
    "print('Diferencias entre plataformas que solían ser populares:')\n",
    "display(difference_df)\n",
    "\n",
    "\n",
    "mean_difference = difference_df['year_of_release_diff'].mean()\n",
    "print('Media que duran las compañias:')\n",
    "print(mean_difference)"
   ]
  },
  {
   "cell_type": "code",
   "execution_count": null,
   "metadata": {},
   "outputs": [],
   "source": [
    "juegos_lanzados = games.groupby('platform')['name'].count()\n",
    "display(juegos_lanzados.sort_values(ascending = False))\n",
    "\n"
   ]
  },
  {
   "cell_type": "markdown",
   "metadata": {},
   "source": [
    "**¿Cuánto tardan generalmente las nuevas plataformas en aparecer y las antiguas en desaparecer?**\n",
    "\n",
    "Aparecen nuevas plataformas cada 2-3 años pero plataformas que tengan realmente exito aparecen cada 4-5 años aprox revisando los datos, por otro lado en promedio las plataformas antiguas tardan en desaparecer 7-8 años aprox, se pudo ver que hay compañias que continuan existiendo como DS, PC, PS2 entre otras y puede deberse a que han ido renovándose y actualizando sus juegos y sus productos."
   ]
  },
  {
   "cell_type": "markdown",
   "metadata": {},
   "source": [
    "3.4 **Determina para qué período debes tomar datos. Para hacerlo mira tus respuestas a las preguntas anteriores. Los datos deberían permitirte construir un modelo para 2017**\n",
    "\n",
    "\n",
    "El periodo que es mejor tomar datos es del 2000-2013, ya que a partir del 2000's hubo un aumento en la venta de estos juegos y luego del 2013 se puede ver una disminución en la venta de estos.\n",
    "\n",
    "3.5 **Trabaja solo con los datos que consideras relevantes. Ignora los datos de años anteriores.** \n",
    "**¿Qué plataformas son líderes en ventas? ¿Cuáles crecen y cuáles se reducen? Elige varias plataformas potencialmente rentables.**\n",
    "\n",
    "\n",
    "Las plataformas lideres en ventas actualmente (2016) son: Wii, PS3, X360, creo que estas plataformas continuarán teniendo ventas rentables los próximos años, todo depende si continúan innovando en sus juegos y tecnología.\n",
    "Las plataformas que podrian estarse reduciendo: PSV, DS, WiiU, DC debido a que han bajado sus ventas, algunas no han sacado juegos del 2008-2013\n"
   ]
  },
  {
   "cell_type": "markdown",
   "metadata": {},
   "source": [
    "6. **Crea un diagrama de caja para las ventas globales de todos los juegos, desglosados por plataforma. ¿Son significativas las diferencias en las ventas? ¿Qué sucede con las ventas promedio en varias plataformas? Describe tus hallazgos.**"
   ]
  },
  {
   "cell_type": "code",
   "execution_count": null,
   "metadata": {},
   "outputs": [],
   "source": [
    "plt.figure(figsize=(12, 8))\n",
    "sns.boxplot(data=games, x='venta_total', y='platform', showfliers=False)\n",
    "plt.xticks(rotation=45, ha='right')\n",
    "plt.show()"
   ]
  },
  {
   "cell_type": "markdown",
   "metadata": {},
   "source": [
    "En el gráfico de caja puedo ver que hay datos sesgados, las ventas promedio de todas las plataformas varian, son signifícativas las diferencias ya que demuestran que a pesar de durar pocos años o lanzar menos juegos fueron teniendo significativas ventas en el periodo que estuvieron activas, ejemplo: GEN que lanzó 29 juegos y estuvo activa 1990-1994 o GB que estuvo 1988-2001 y lanzó 98 juegos."
   ]
  },
  {
   "cell_type": "code",
   "execution_count": null,
   "metadata": {},
   "outputs": [],
   "source": [
    "games.columns"
   ]
  },
  {
   "cell_type": "markdown",
   "metadata": {},
   "source": [
    "**3.7 Mira cómo las reseñas de usuarios y profesionales afectan las ventas de una plataforma popular (tu elección).**"
   ]
  },
  {
   "cell_type": "code",
   "execution_count": null,
   "metadata": {},
   "outputs": [],
   "source": [
    "wii_data = games[games['platform'] == 'Wii']\n",
    "critic_game = wii_data.groupby('critic_score')['venta_total'].sum().reset_index()\n",
    "display(critic_game.sample(10, random_state= 1000))"
   ]
  },
  {
   "cell_type": "code",
   "execution_count": null,
   "metadata": {},
   "outputs": [],
   "source": [
    "#Crea un gráfico de dispersión y calcula la correlación entre las reseñas y las ventas.\n",
    "plt.figure(figsize=(10, 6))\n",
    "plt.scatter(wii_data['critic_score'], wii_data['venta_total'])\n",
    "plt.title('Correlación entre Reseñas y Ventas en la plataforma Wii')\n",
    "plt.xlabel('Puntuación del Crítico')\n",
    "plt.ylabel('Ventas Totales')\n",
    "plt.show()\n",
    "\n",
    "corr_wii = wii_data['critic_score'].corr(wii_data['venta_total'])\n",
    "print(f'Correlación entre Reseñas y Ventas en la plataforma Wii: {corr_wii}')"
   ]
  },
  {
   "cell_type": "markdown",
   "metadata": {},
   "source": [
    "Se puede ver que hay una correlación positiva pero debil en cuanto a las ventas-críticas, éstas afectan pero no fuertemente a las ventas por lo que deben haber otros factores que también influyen en las ventas de los juegos de esta plataforma."
   ]
  },
  {
   "cell_type": "markdown",
   "metadata": {},
   "source": [
    "**3.9 Teniendo en cuenta tus conclusiones compara las ventas de los mismos juegos en otras plataformas.**"
   ]
  },
  {
   "cell_type": "code",
   "execution_count": null,
   "metadata": {},
   "outputs": [],
   "source": [
    "platforms_of_interest = ['Wii', 'DS', 'X360']\n",
    "\n",
    "platforms_data = games[games['platform'].isin(platforms_of_interest)]\n",
    "\n",
    "# Agrupo los datos por plataforma y cuento los juegos\n",
    "games_per_platform = platforms_data.groupby('platform')['name'].nunique().reset_index().rename(columns={'name': 'num_games'})\n",
    "\n",
    "# Agrupo los datos por plataforma y sumo las ventas totales\n",
    "sales_per_platform = platforms_data.groupby('platform')['venta_total'].sum().reset_index()\n",
    "\n",
    "# Combino los datos en función de la plataforma\n",
    "platform_info = pd.merge(games_per_platform, sales_per_platform, on='platform')\n",
    "\n",
    "# Realizo un gráfico\n",
    "plt.figure(figsize=(12, 6))\n",
    "sns.barplot(x='platform', y='num_games', data=platform_info, color='skyblue', label='Número de Juegos')\n",
    "plt.title('Relación entre Juegos Lanzados y Ventas por Plataforma')\n",
    "plt.xlabel('Plataforma')\n",
    "plt.ylabel('Cantidad / Ventas Totales')\n",
    "plt.legend()\n",
    "plt.xticks()\n",
    "plt.show()\n",
    "\n"
   ]
  },
  {
   "cell_type": "markdown",
   "metadata": {},
   "source": [
    "Echa un vistazo a la distribución general de los juegos por género. ¿Qué se puede decir de los géneros más rentables? ¿Puedes generalizar acerca de los géneros con ventas altas y bajas?"
   ]
  },
  {
   "cell_type": "code",
   "execution_count": null,
   "metadata": {},
   "outputs": [],
   "source": [
    "#Agrupo los juegos por género y ventas\n",
    "distribution_by_genre = games.groupby('genre')['venta_total'].sum().sort_values(ascending = False)\n",
    "display(distribution_by_genre)\n",
    "\n",
    "#Agrupo los juegos por genero y ventas por continente\n",
    "distribution_by_genre = games.groupby('genre')[['na_sales', 'eu_sales', 'jp_sales']].sum()\n",
    "display(distribution_by_genre)\n"
   ]
  },
  {
   "cell_type": "markdown",
   "metadata": {},
   "source": [
    "**El top 5 de géneros de videojuegos a nivel mundial son:** acción, deportes, shooters, role-playing, platform.\n",
    "\n",
    "\n",
    "**A nivel de continente top3:**\n",
    "\n",
    "*America :* acción, deportes, shooters; *menos populares:* estrategia, aventura, puzzle.\n",
    "\n",
    "*Europa:* accion, deportes,shooters; *menos populares:* estrategia, aventura, puzzle.\n",
    "\n",
    "*Asia:* Role-playing, accion, deportes; *menos populares:* shooter, estrategia, aventura.\n",
    "\n",
    "Los tipos de juegos más vendidos son juegos que las personas encuentran más entretenidos de jugar, que usan para recrearse y entretenerse. Los juegos de acción, deportes y de tirador(shooters) son los más populares actuamente."
   ]
  },
  {
   "cell_type": "markdown",
   "metadata": {},
   "source": [
    "**Paso 4: Crea un perfil de usuario para cada región para cada región (NA, UE, JP) determina:**\n",
    "\n",
    "a) Las cinco plataformas principales. Describe las variaciones en sus cuotas de mercado de una región a otra.\n",
    "\n",
    "b) Los cinco géneros principales. Explica la diferencia.\n",
    "\n",
    "Si las clasificaciones de ESRB afectan a las ventas en regiones individuales.\n"
   ]
  },
  {
   "cell_type": "code",
   "execution_count": null,
   "metadata": {
    "scrolled": true
   },
   "outputs": [],
   "source": [
    "games.columns"
   ]
  },
  {
   "cell_type": "code",
   "execution_count": null,
   "metadata": {},
   "outputs": [],
   "source": [
    "na_data = games[['platform', 'na_sales']].groupby('platform')['na_sales'].sum().reset_index()\n",
    "\n",
    "# Ordeno las plataformas por ventas en América del Norte\n",
    "top_platforms_na = na_data.sort_values(by='na_sales', ascending=False).head(5)\n",
    "\n",
    "# Gráfico de barras para las cinco plataformas principales en América del Norte\n",
    "plt.figure(figsize=(12, 6))\n",
    "sns.barplot(x='platform', y='na_sales', data=top_platforms_na, palette='viridis')\n",
    "plt.title('Top 5 Plataformas en América del Norte')\n",
    "plt.xlabel('Plataforma')\n",
    "plt.ylabel('Ventas en América del Norte (en millones)')\n",
    "plt.show()\n",
    "\n",
    "na_genre_data = games[['genre', 'na_sales']].groupby('genre')['na_sales'].sum().reset_index()\n",
    "\n",
    "# Ordena los géneros por ventas en América del Norte\n",
    "top_genres_na = na_genre_data.sort_values(by='na_sales', ascending=False).head(5)\n",
    "\n",
    "# Gráfico de barras para los cinco géneros principales en América del Norte\n",
    "plt.figure(figsize=(12, 6))\n",
    "sns.barplot(x='genre', y='na_sales', data=top_genres_na, palette='magma')\n",
    "plt.title('Top 5 Géneros en América del Norte')\n",
    "plt.xlabel('Género')\n",
    "plt.ylabel('Ventas en América del Norte (en millones)')\n",
    "plt.show()\n",
    "\n",
    "na_esrb_data = games[['rating', 'na_sales']].groupby('rating')['na_sales'].sum().reset_index()\n",
    "\n",
    "# Gráfico de barras para las ventas por clasificación de ESRB en América del Norte\n",
    "plt.figure(figsize=(12, 6))\n",
    "sns.barplot(x='rating', y='na_sales', data=na_esrb_data, order=na_esrb_data.sort_values(by='na_sales', ascending=False)['rating'], palette='plasma')\n",
    "plt.title('Impacto de las Clasificaciones de ESRB en Ventas en América del Norte')\n",
    "plt.xlabel('Clasificación de ESRB')\n",
    "plt.ylabel('Ventas en América del Norte (en millones)')\n",
    "plt.show()\n",
    "\n",
    "\n"
   ]
  },
  {
   "cell_type": "code",
   "execution_count": null,
   "metadata": {},
   "outputs": [],
   "source": [
    "na_concat = pd.concat([na_data, na_genre_data, na_esrb_data], axis=1)\n",
    "\n",
    "# Mostrar el resultado\n",
    "display(na_concat.head(10))\n"
   ]
  },
  {
   "cell_type": "code",
   "execution_count": null,
   "metadata": {},
   "outputs": [],
   "source": [
    "eu_data = games[['platform', 'eu_sales']].groupby('platform')['eu_sales'].sum().reset_index()\n",
    "# Ordeno las plataformas por ventas en Europa\n",
    "top_platforms_eu = eu_data.sort_values(by = 'eu_sales', ascending = False).head(5)\n",
    "# Gráfico de barras para las cinco plataformas principales en Europa\n",
    "plt.figure(figsize=(12, 6))\n",
    "sns.barplot(x= 'platform', y='eu_sales', data = top_platforms_eu, palette= 'viridis')\n",
    "plt.title('Top 5 plataformas en Europa')\n",
    "plt.xlabel('Plataforma')\n",
    "plt.ylabel('Ventas en Europa (en millones)')\n",
    "plt.show()\n",
    "\n",
    "eu_genre_data = games[['genre', 'eu_sales']].groupby('genre')['eu_sales'].sum().reset_index()\n",
    "# Ordeno los géneros por ventas en Europa\n",
    "top_genres_eu = eu_genre_data.sort_values(by='eu_sales', ascending=False).head(5)\n",
    "# Gráfico de barras para los cinco géneros principales en Europa\n",
    "plt.figure(figsize=(12, 6))\n",
    "sns.barplot(x='genre', y='eu_sales', data=top_genres_eu, palette='magma')\n",
    "plt.title('Top 5 Géneros en Europa')\n",
    "plt.xlabel('Género')\n",
    "plt.ylabel('Ventas en Europa (en millones)')\n",
    "plt.show()\n",
    "\n",
    "\n",
    "eu_esrb_data = games[['rating', 'eu_sales']].groupby('rating')['eu_sales'].sum().reset_index()\n",
    "# Gráfico de barras para las ventas por clasificación de ESRB en América del Norte\n",
    "plt.figure(figsize=(12, 6))\n",
    "sns.barplot(x='rating', y='eu_sales', data=eu_esrb_data, order=eu_esrb_data.sort_values(by='eu_sales', ascending=False)['rating'], palette='plasma')\n",
    "plt.title('Impacto de las Clasificaciones de ESRB en Ventas en Europa')\n",
    "plt.xlabel('Clasificación de ESRB')\n",
    "plt.ylabel('Ventas en Europa (en millones)')\n",
    "plt.show()"
   ]
  },
  {
   "cell_type": "code",
   "execution_count": null,
   "metadata": {},
   "outputs": [],
   "source": [
    "eu_concat = pd.concat([eu_data, eu_genre_data, eu_esrb_data], axis=1)\n",
    "\n",
    "# Mostrar el resultado\n",
    "display(eu_concat.head(10))\n"
   ]
  },
  {
   "cell_type": "code",
   "execution_count": null,
   "metadata": {
    "scrolled": true
   },
   "outputs": [],
   "source": [
    "\n",
    "jp_data = games[['platform', 'jp_sales']].groupby('platform')['jp_sales'].sum().reset_index()\n",
    "# Ordeno las plataformas por ventas en Japón\n",
    "top_platforms_jp = jp_data.sort_values(by = 'jp_sales', ascending = False).head(5)\n",
    "# Gráfico de barras para las cinco plataformas principales en Japon\n",
    "plt.figure(figsize=(12, 6))\n",
    "sns.barplot(x= 'platform', y='jp_sales', data = top_platforms_jp, palette= 'viridis')\n",
    "plt.title('Top 5 plataformas en Japón')\n",
    "plt.xlabel('Plataforma')\n",
    "plt.ylabel('Ventas en Japón (en millones)')\n",
    "plt.show()\n",
    "\n",
    "jp_genre_data = games[['genre', 'jp_sales']].groupby('genre')['jp_sales'].sum().reset_index()\n",
    "# Ordeno los géneros por ventas en Japón\n",
    "top_genres_jp = jp_genre_data.sort_values(by='jp_sales', ascending=False).head(5)\n",
    "# Gráfico de barras para los cinco géneros principales en Japón\n",
    "plt.figure(figsize=(12, 6))\n",
    "sns.barplot(x='genre', y='jp_sales', data=top_genres_jp, palette='magma')\n",
    "plt.title('Top 5 Géneros en Japón')\n",
    "plt.xlabel('Género')\n",
    "plt.ylabel('Ventas en Japón (en millones)')\n",
    "plt.show()\n",
    "\n",
    "\n",
    "jp_esrb_data = games[['rating', 'jp_sales']].groupby('rating')['jp_sales'].sum().reset_index()\n",
    "# Gráfico de barras para las ventas por clasificación de ESRB en América del Norte\n",
    "plt.figure(figsize=(12, 6))\n",
    "sns.barplot(x='rating', y='jp_sales', data=jp_esrb_data, order=jp_esrb_data.sort_values(by='jp_sales', ascending=False)['rating'], palette='plasma')\n",
    "plt.title('Impacto de las Clasificaciones de ESRB en Ventas en Japón')\n",
    "plt.xlabel('Clasificación de ESRB')\n",
    "plt.ylabel('Ventas en Japón (en millones)')\n",
    "plt.show()"
   ]
  },
  {
   "cell_type": "code",
   "execution_count": null,
   "metadata": {},
   "outputs": [],
   "source": [
    "# Concatenar las Series horizontalmente\n",
    "jp_concat = pd.concat([jp_data, jp_genre_data, jp_esrb_data], axis=1)\n",
    "\n",
    "# Mostrar el resultado ordenado por ventas en Japón de manera descendente\n",
    "display(jp_concat.head(10))\n"
   ]
  },
  {
   "cell_type": "code",
   "execution_count": null,
   "metadata": {},
   "outputs": [],
   "source": [
    "all_concat = pd.concat([na_concat, eu_concat, jp_concat], axis= 1)\n",
    "display(all_concat.head())"
   ]
  },
  {
   "cell_type": "markdown",
   "metadata": {},
   "source": [
    "a) Las cinco plataformas principales. Describe las variaciones en sus cuotas de mercado de una región a otra.\n",
    "En norteamerica las 5 principales x360, PS2, Wii, PS3, DS; en Europa PS2, PS3,X360, Wii, PS; Japón DS, PS, PS2, Snes, 3DS. Hay visibles variaciones en sus cuotas de mercado de una región a otra, puede estar la variación en lo popular que es la plataforma en ese continente, o el género del juego qué tan jugado es en ese lugar.\n",
    "\n",
    "\n",
    "b) Los cinco géneros principales. Explica la diferencia.\n",
    "Los generos principales son acción, deportes y shooter en norteamerica (na) y europa (eu) con diferencia en un género, la preferencia entre sus jugadores son más similares a diferencia de japón, que su género principal es role-playing, seguido de los generos que tambien son populares en na y eu (accion y deportes), puede deberse a diferencias culturales, diferencia en las edades etarias de los jugadores y preferencias.\n",
    "\n",
    "*Si las clasificaciones de ESRB afectan a las ventas en regiones individuales.*\n",
    "\n",
    "Si afectan, las clasificación más vendida es E (todos), y la manos vendida es A (adultos), \n",
    "dependiendo de la región se venden más juegos categoria E-T como en na o E-M como en eu."
   ]
  },
  {
   "cell_type": "markdown",
   "metadata": {},
   "source": [
    "**Paso 5: Prueba las siguientes hipótesis:**\n",
    "\n",
    "— Las calificaciones promedio de los usuarios para las plataformas Xbox One y PC son las mismas.\n",
    "\n",
    "— Las calificaciones promedio de los usuarios para los géneros de Acción y Deportes son diferentes.\n",
    "\n",
    "Establece tu mismo el valor de umbral alfa.\n",
    "Explica:\n",
    "— Cómo formulaste las hipótesis nula y alternativa.\n",
    "— Qué criterio utilizaste para probar las hipótesis y por qué.\n"
   ]
  },
  {
   "cell_type": "markdown",
   "metadata": {},
   "source": [
    "— Las calificaciones promedio de los usuarios para las plataformas Xbox One y PC son las mismas."
   ]
  },
  {
   "cell_type": "code",
   "execution_count": null,
   "metadata": {},
   "outputs": [],
   "source": [
    "# Prueba las hipótesis\n",
    "#H0: Las calificaciones promedio de los usuarios para las plataformas Xbox One y PC son las mismas.\n",
    "#Ha: Las calificaciones promedio de los usuarios para las plataformas Xbox One y PC son diferentes.\n",
    "\n",
    "\n",
    "# Calificaciones promedio para las plataformas Xbox One y PC\n",
    "cal_xone = games[games['platform'] == 'XOne']['user_score']\n",
    "cal_pc = games[games['platform'] == 'PC']['user_score']\n",
    "\n",
    "alpha = 0.04\n",
    "results = st.ttest_ind(cal_xone, cal_pc, equal_var = False, nan_policy = 'omit')\n",
    "\n",
    "print('Valor p:', results.pvalue)\n",
    "\n",
    "if results.pvalue < alpha:\n",
    "    print('Rechazamos la hipótesis nula')\n",
    "else:\n",
    "    print('No podemos rechazar la hipótesis nula')\n"
   ]
  },
  {
   "cell_type": "markdown",
   "metadata": {},
   "source": [
    "Primero establecí mi hipótesis nula basándome en lo estudiado (\"H0 suele expresar la idea de que no hay diferencias entre los grupos\"), luego, creé nuevas variables filtrando el DataFrame 'games' por plataforma (XOne y PC) y por el puntaje que le han dado los usuarios. Luego, utilizando la función st.ttest_ind para probar las hipótesis. Establecí un alpha de 0.04 porque quería ser un poco más rigurosa en ves de dejarlo en 0.05."
   ]
  },
  {
   "cell_type": "markdown",
   "metadata": {},
   "source": [
    "— Las calificaciones promedio de los usuarios para los géneros de Acción y Deportes son diferentes."
   ]
  },
  {
   "cell_type": "code",
   "execution_count": null,
   "metadata": {},
   "outputs": [],
   "source": [
    "# Prueba las hipótesis 2\n",
    "#H0: Las calificaciones promedio de los usuarios para los géneros de acción y deporte son iguales.\n",
    "#Ha: Las calificaciones promedio de los usuarios para los géneros de acción y deporte son diferentes.\n",
    "\n",
    "# Calificaciones promedio para las plataformas Xbox One y PC\n",
    "cal_action = games[games['genre'] == 'Action']['user_score']\n",
    "cal_sports = games[games['genre'] == 'Sports']['user_score']\n",
    "\n",
    "alpha = 0.04\n",
    "results = st.ttest_ind(cal_action, cal_sports, equal_var=False, nan_policy = 'omit')\n",
    "\n",
    "print('Valor p:', results.pvalue)\n",
    "\n",
    "if results.pvalue < alpha:\n",
    "    print('Rechazamos la hipótesis nula')\n",
    "else:\n",
    "    print('No podemos rechazar la hipótesis nula')"
   ]
  },
  {
   "cell_type": "markdown",
   "metadata": {},
   "source": [
    "Para empezar establecí mi hipótesis nula, creé nuevas variables filtrando el DataFrame 'games' por género (action y sports) y por la calificación que le han dado los usuarios. Luego, utilicé la función st.ttest_ind para probar las hipótesis. "
   ]
  },
  {
   "cell_type": "markdown",
   "metadata": {},
   "source": [
    "**Conclusión general**\n",
    "En este trabajo se buscó potenciar un trabajo más individualizado y la utilización de herramientas vistas durante el curso.\n",
    "Se trabajó con datos de plataformas de videojuegos, ventas de los mismos clasificados por continente, género, clasificación por edad, entre otros. \n",
    "Llegué a la conclusión de que por continente hay grandes diferencias en los géneros que prefieren los usuarios a la hora de jugar, diferencias en ventas y exito en las distintas plaformas y que, año tras año van lanzandose nuevas plataformas y hay otras que dejan de trabajar."
   ]
  }
 ],
 "metadata": {
  "kernelspec": {
   "display_name": "Python 3 (ipykernel)",
   "language": "python",
   "name": "python3"
  },
  "language_info": {
   "codemirror_mode": {
    "name": "ipython",
    "version": 3
   },
   "file_extension": ".py",
   "mimetype": "text/x-python",
   "name": "python",
   "nbconvert_exporter": "python",
   "pygments_lexer": "ipython3",
   "version": "3.9.19"
  },
  "toc": {
   "base_numbering": 1,
   "nav_menu": {},
   "number_sections": true,
   "sideBar": true,
   "skip_h1_title": true,
   "title_cell": "Table of Contents",
   "title_sidebar": "Contents",
   "toc_cell": false,
   "toc_position": {},
   "toc_section_display": true,
   "toc_window_display": false
  }
 },
 "nbformat": 4,
 "nbformat_minor": 2
}
