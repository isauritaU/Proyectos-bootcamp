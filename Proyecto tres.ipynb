{
 "cells": [
  {
   "cell_type": "markdown",
   "id": "3Xg_RQfnafXz",
   "metadata": {
    "id": "3Xg_RQfnafXz"
   },
   "source": [
    "# ¡Llena ese carrito!"
   ]
  },
  {
   "cell_type": "markdown",
   "id": "mhIvmmkW414q",
   "metadata": {
    "id": "mhIvmmkW414q"
   },
   "source": [
    "# Introducción\n",
    "\n",
    "Instacart es una plataforma de entregas de comestibles donde la clientela puede registrar un pedido y hacer que se lo entreguen, similar a Uber Eats y Door Dash.\n",
    "El conjunto de datos que te hemos proporcionado tiene modificaciones del original. Redujimos el tamaño del conjunto para que tus cálculos se hicieran más rápido e introdujimos valores ausentes y duplicados. Tuvimos cuidado de conservar las distribuciones de los datos originales cuando hicimos los cambios.\n",
    "\n",
    "Debes completar tres pasos. Para cada uno de ellos, escribe una breve introducción que refleje con claridad cómo pretendes resolver cada paso, y escribe párrafos explicatorios que justifiquen tus decisiones al tiempo que avanzas en tu solución.  También escribe una conclusión que resuma tus hallazgos y elecciones.\n"
   ]
  },
  {
   "cell_type": "markdown",
   "id": "3MbyzpOQZ5Or",
   "metadata": {
    "id": "3MbyzpOQZ5Or"
   },
   "source": [
    "## Diccionario de datos\n",
    "\n",
    "Hay cinco tablas en el conjunto de datos, y tendrás que usarlas todas para hacer el preprocesamiento de datos y el análisis exploratorio de datos. A continuación se muestra un diccionario de datos que enumera las columnas de cada tabla y describe los datos que contienen.\n",
    "\n",
    "- `instacart_orders.csv`: cada fila corresponde a un pedido en la aplicación Instacart.\n",
    "    - `'order_id'`: número de ID que identifica de manera única cada pedido.\n",
    "    - `'user_id'`: número de ID que identifica de manera única la cuenta de cada cliente.\n",
    "    - `'order_number'`: el número de veces que este cliente ha hecho un pedido.\n",
    "    - `'order_dow'`: día de la semana en que se hizo el pedido (0 si es domingo).\n",
    "    - `'order_hour_of_day'`: hora del día en que se hizo el pedido.\n",
    "    - `'days_since_prior_order'`: número de días transcurridos desde que este cliente hizo su pedido anterior.\n",
    "- `products.csv`: cada fila corresponde a un producto único que pueden comprar los clientes.\n",
    "    - `'product_id'`: número ID que identifica de manera única cada producto.\n",
    "    - `'product_name'`: nombre del producto.\n",
    "    - `'aisle_id'`: número ID que identifica de manera única cada categoría de pasillo de víveres.\n",
    "    - `'department_id'`: número ID que identifica de manera única cada departamento de víveres.\n",
    "- `order_products.csv`: cada fila corresponde a un artículo pedido en un pedido.\n",
    "    - `'order_id'`: número de ID que identifica de manera única cada pedido.\n",
    "    - `'product_id'`: número ID que identifica de manera única cada producto.\n",
    "    - `'add_to_cart_order'`: el orden secuencial en el que se añadió cada artículo en el carrito.\n",
    "    - `'reordered'`: 0 si el cliente nunca ha pedido este producto antes, 1 si lo ha pedido.\n",
    "- `aisles.csv`\n",
    "    - `'aisle_id'`: número ID que identifica de manera única cada categoría de pasillo de víveres.\n",
    "    - `'aisle'`: nombre del pasillo.\n",
    "- `departments.csv`\n",
    "    - `'department_id'`: número ID que identifica de manera única cada departamento de víveres.\n",
    "    - `'department'`: nombre del departamento."
   ]
  },
  {
   "cell_type": "markdown",
   "id": "n3Ha_cNSZ8lK",
   "metadata": {
    "id": "n3Ha_cNSZ8lK"
   },
   "source": [
    "# Paso 1. Descripción de los datos\n",
    "\n",
    "Lee los archivos de datos (`/datasets/instacart_orders.csv`, `/datasets/products.csv`, `/datasets/aisles.csv`, `/datasets/departments.csv` y `/datasets/order_products.csv`) con `pd.read_csv()` usando los parámetros adecuados para leer los datos correctamente. Verifica la información para cada DataFrame creado.\n"
   ]
  },
  {
   "cell_type": "markdown",
   "id": "OmlQPLlyaAfR",
   "metadata": {
    "id": "OmlQPLlyaAfR"
   },
   "source": [
    "## Plan de solución\n",
    "\n",
    "Escribe aquí tu plan de solución para el Paso 1. Descripción de los datos."
   ]
  },
  {
   "cell_type": "code",
   "execution_count": 1,
   "id": "fbf1adab",
   "metadata": {
    "id": "fbf1adab"
   },
   "outputs": [],
   "source": [
    "import pandas as pd\n",
    "import numpy as np # importar librerías\n",
    "from matplotlib import pyplot as plt"
   ]
  },
  {
   "cell_type": "code",
   "execution_count": 2,
   "id": "ad36396d",
   "metadata": {
    "id": "ad36396d"
   },
   "outputs": [],
   "source": [
    "instacart_order= pd.read_csv('/datasets/instacart_orders.csv', sep= ';') # leer conjuntos de datos en los DataFrames\n",
    "products= pd.read_csv('/datasets/products.csv', sep= ';')\n",
    "aisles= pd.read_csv('/datasets/aisles.csv', sep= ';')\n",
    "departments= pd.read_csv('/datasets/departments.csv', sep= ';')\n",
    "order_products= pd.read_csv('/datasets/order_products.csv', sep= ';')"
   ]
  },
  {
   "cell_type": "code",
   "execution_count": 3,
   "id": "ad6a1efa",
   "metadata": {
    "id": "ad6a1efa"
   },
   "outputs": [
    {
     "name": "stdout",
     "output_type": "stream",
     "text": [
      "<class 'pandas.core.frame.DataFrame'>\n",
      "RangeIndex: 478967 entries, 0 to 478966\n",
      "Data columns (total 6 columns):\n",
      " #   Column                  Non-Null Count   Dtype  \n",
      "---  ------                  --------------   -----  \n",
      " 0   order_id                478967 non-null  int64  \n",
      " 1   user_id                 478967 non-null  int64  \n",
      " 2   order_number            478967 non-null  int64  \n",
      " 3   order_dow               478967 non-null  int64  \n",
      " 4   order_hour_of_day       478967 non-null  int64  \n",
      " 5   days_since_prior_order  450148 non-null  float64\n",
      "dtypes: float64(1), int64(5)\n",
      "memory usage: 21.9 MB\n"
     ]
    },
    {
     "data": {
      "text/html": [
       "<div>\n",
       "<style scoped>\n",
       "    .dataframe tbody tr th:only-of-type {\n",
       "        vertical-align: middle;\n",
       "    }\n",
       "\n",
       "    .dataframe tbody tr th {\n",
       "        vertical-align: top;\n",
       "    }\n",
       "\n",
       "    .dataframe thead th {\n",
       "        text-align: right;\n",
       "    }\n",
       "</style>\n",
       "<table border=\"1\" class=\"dataframe\">\n",
       "  <thead>\n",
       "    <tr style=\"text-align: right;\">\n",
       "      <th></th>\n",
       "      <th>order_id</th>\n",
       "      <th>user_id</th>\n",
       "      <th>order_number</th>\n",
       "      <th>order_dow</th>\n",
       "      <th>order_hour_of_day</th>\n",
       "      <th>days_since_prior_order</th>\n",
       "    </tr>\n",
       "  </thead>\n",
       "  <tbody>\n",
       "    <tr>\n",
       "      <th>446415</th>\n",
       "      <td>1289301</td>\n",
       "      <td>142434</td>\n",
       "      <td>46</td>\n",
       "      <td>6</td>\n",
       "      <td>14</td>\n",
       "      <td>6.0</td>\n",
       "    </tr>\n",
       "    <tr>\n",
       "      <th>352089</th>\n",
       "      <td>2328827</td>\n",
       "      <td>52198</td>\n",
       "      <td>4</td>\n",
       "      <td>5</td>\n",
       "      <td>11</td>\n",
       "      <td>7.0</td>\n",
       "    </tr>\n",
       "    <tr>\n",
       "      <th>467968</th>\n",
       "      <td>3221592</td>\n",
       "      <td>53142</td>\n",
       "      <td>2</td>\n",
       "      <td>3</td>\n",
       "      <td>18</td>\n",
       "      <td>22.0</td>\n",
       "    </tr>\n",
       "    <tr>\n",
       "      <th>319487</th>\n",
       "      <td>2012419</td>\n",
       "      <td>183144</td>\n",
       "      <td>6</td>\n",
       "      <td>6</td>\n",
       "      <td>12</td>\n",
       "      <td>3.0</td>\n",
       "    </tr>\n",
       "    <tr>\n",
       "      <th>215623</th>\n",
       "      <td>115927</td>\n",
       "      <td>177368</td>\n",
       "      <td>3</td>\n",
       "      <td>4</td>\n",
       "      <td>9</td>\n",
       "      <td>4.0</td>\n",
       "    </tr>\n",
       "  </tbody>\n",
       "</table>\n",
       "</div>"
      ],
      "text/plain": [
       "        order_id  user_id  order_number  order_dow  order_hour_of_day  \\\n",
       "446415   1289301   142434            46          6                 14   \n",
       "352089   2328827    52198             4          5                 11   \n",
       "467968   3221592    53142             2          3                 18   \n",
       "319487   2012419   183144             6          6                 12   \n",
       "215623    115927   177368             3          4                  9   \n",
       "\n",
       "        days_since_prior_order  \n",
       "446415                     6.0  \n",
       "352089                     7.0  \n",
       "467968                    22.0  \n",
       "319487                     3.0  \n",
       "215623                     4.0  "
      ]
     },
     "metadata": {},
     "output_type": "display_data"
    }
   ],
   "source": [
    "instacart_order.info() # mostrar información del DataFrame\n",
    "display(instacart_order.sample(5, random_state= 478967))"
   ]
  },
  {
   "cell_type": "code",
   "execution_count": 4,
   "id": "5130e05e",
   "metadata": {
    "id": "5130e05e"
   },
   "outputs": [
    {
     "name": "stdout",
     "output_type": "stream",
     "text": [
      "<class 'pandas.core.frame.DataFrame'>\n",
      "RangeIndex: 49694 entries, 0 to 49693\n",
      "Data columns (total 4 columns):\n",
      " #   Column         Non-Null Count  Dtype \n",
      "---  ------         --------------  ----- \n",
      " 0   product_id     49694 non-null  int64 \n",
      " 1   product_name   48436 non-null  object\n",
      " 2   aisle_id       49694 non-null  int64 \n",
      " 3   department_id  49694 non-null  int64 \n",
      "dtypes: int64(3), object(1)\n",
      "memory usage: 1.5+ MB\n"
     ]
    },
    {
     "data": {
      "text/html": [
       "<div>\n",
       "<style scoped>\n",
       "    .dataframe tbody tr th:only-of-type {\n",
       "        vertical-align: middle;\n",
       "    }\n",
       "\n",
       "    .dataframe tbody tr th {\n",
       "        vertical-align: top;\n",
       "    }\n",
       "\n",
       "    .dataframe thead th {\n",
       "        text-align: right;\n",
       "    }\n",
       "</style>\n",
       "<table border=\"1\" class=\"dataframe\">\n",
       "  <thead>\n",
       "    <tr style=\"text-align: right;\">\n",
       "      <th></th>\n",
       "      <th>product_id</th>\n",
       "      <th>product_name</th>\n",
       "      <th>aisle_id</th>\n",
       "      <th>department_id</th>\n",
       "    </tr>\n",
       "  </thead>\n",
       "  <tbody>\n",
       "    <tr>\n",
       "      <th>37969</th>\n",
       "      <td>37970</td>\n",
       "      <td>Bartlett in Heavy Syrup Pear Halves</td>\n",
       "      <td>99</td>\n",
       "      <td>15</td>\n",
       "    </tr>\n",
       "    <tr>\n",
       "      <th>47796</th>\n",
       "      <td>47797</td>\n",
       "      <td>Chianti Wine</td>\n",
       "      <td>28</td>\n",
       "      <td>5</td>\n",
       "    </tr>\n",
       "    <tr>\n",
       "      <th>17115</th>\n",
       "      <td>17116</td>\n",
       "      <td>100% Juice Pineapple Juice</td>\n",
       "      <td>98</td>\n",
       "      <td>7</td>\n",
       "    </tr>\n",
       "    <tr>\n",
       "      <th>12950</th>\n",
       "      <td>12951</td>\n",
       "      <td>Fruit and Nut Granola</td>\n",
       "      <td>57</td>\n",
       "      <td>14</td>\n",
       "    </tr>\n",
       "    <tr>\n",
       "      <th>43964</th>\n",
       "      <td>43965</td>\n",
       "      <td>Glazed Buttermilk Doughnuts</td>\n",
       "      <td>8</td>\n",
       "      <td>3</td>\n",
       "    </tr>\n",
       "  </tbody>\n",
       "</table>\n",
       "</div>"
      ],
      "text/plain": [
       "       product_id                         product_name  aisle_id  \\\n",
       "37969       37970  Bartlett in Heavy Syrup Pear Halves        99   \n",
       "47796       47797                         Chianti Wine        28   \n",
       "17115       17116           100% Juice Pineapple Juice        98   \n",
       "12950       12951                Fruit and Nut Granola        57   \n",
       "43964       43965          Glazed Buttermilk Doughnuts         8   \n",
       "\n",
       "       department_id  \n",
       "37969             15  \n",
       "47796              5  \n",
       "17115              7  \n",
       "12950             14  \n",
       "43964              3  "
      ]
     },
     "metadata": {},
     "output_type": "display_data"
    }
   ],
   "source": [
    "products.info() # mostrar información del DataFrame\n",
    "display(products.sample(5, random_state= 49694))"
   ]
  },
  {
   "cell_type": "code",
   "execution_count": 5,
   "id": "d8370c05",
   "metadata": {
    "id": "d8370c05"
   },
   "outputs": [
    {
     "name": "stdout",
     "output_type": "stream",
     "text": [
      "<class 'pandas.core.frame.DataFrame'>\n",
      "RangeIndex: 134 entries, 0 to 133\n",
      "Data columns (total 2 columns):\n",
      " #   Column    Non-Null Count  Dtype \n",
      "---  ------    --------------  ----- \n",
      " 0   aisle_id  134 non-null    int64 \n",
      " 1   aisle     134 non-null    object\n",
      "dtypes: int64(1), object(1)\n",
      "memory usage: 2.2+ KB\n"
     ]
    },
    {
     "data": {
      "text/html": [
       "<div>\n",
       "<style scoped>\n",
       "    .dataframe tbody tr th:only-of-type {\n",
       "        vertical-align: middle;\n",
       "    }\n",
       "\n",
       "    .dataframe tbody tr th {\n",
       "        vertical-align: top;\n",
       "    }\n",
       "\n",
       "    .dataframe thead th {\n",
       "        text-align: right;\n",
       "    }\n",
       "</style>\n",
       "<table border=\"1\" class=\"dataframe\">\n",
       "  <thead>\n",
       "    <tr style=\"text-align: right;\">\n",
       "      <th></th>\n",
       "      <th>aisle_id</th>\n",
       "      <th>aisle</th>\n",
       "    </tr>\n",
       "  </thead>\n",
       "  <tbody>\n",
       "    <tr>\n",
       "      <th>96</th>\n",
       "      <td>97</td>\n",
       "      <td>baking supplies decor</td>\n",
       "    </tr>\n",
       "    <tr>\n",
       "      <th>2</th>\n",
       "      <td>3</td>\n",
       "      <td>energy granola bars</td>\n",
       "    </tr>\n",
       "    <tr>\n",
       "      <th>76</th>\n",
       "      <td>77</td>\n",
       "      <td>soft drinks</td>\n",
       "    </tr>\n",
       "    <tr>\n",
       "      <th>69</th>\n",
       "      <td>70</td>\n",
       "      <td>digestion</td>\n",
       "    </tr>\n",
       "    <tr>\n",
       "      <th>85</th>\n",
       "      <td>86</td>\n",
       "      <td>eggs</td>\n",
       "    </tr>\n",
       "  </tbody>\n",
       "</table>\n",
       "</div>"
      ],
      "text/plain": [
       "    aisle_id                  aisle\n",
       "96        97  baking supplies decor\n",
       "2          3    energy granola bars\n",
       "76        77            soft drinks\n",
       "69        70              digestion\n",
       "85        86                   eggs"
      ]
     },
     "metadata": {},
     "output_type": "display_data"
    }
   ],
   "source": [
    "aisles.info() # mostrar información del DataFrame\n",
    "display(aisles.sample(5, random_state= 134))"
   ]
  },
  {
   "cell_type": "code",
   "execution_count": 6,
   "id": "59e2090f",
   "metadata": {
    "id": "59e2090f"
   },
   "outputs": [
    {
     "name": "stdout",
     "output_type": "stream",
     "text": [
      "<class 'pandas.core.frame.DataFrame'>\n",
      "RangeIndex: 21 entries, 0 to 20\n",
      "Data columns (total 2 columns):\n",
      " #   Column         Non-Null Count  Dtype \n",
      "---  ------         --------------  ----- \n",
      " 0   department_id  21 non-null     int64 \n",
      " 1   department     21 non-null     object\n",
      "dtypes: int64(1), object(1)\n",
      "memory usage: 464.0+ bytes\n"
     ]
    },
    {
     "data": {
      "text/html": [
       "<div>\n",
       "<style scoped>\n",
       "    .dataframe tbody tr th:only-of-type {\n",
       "        vertical-align: middle;\n",
       "    }\n",
       "\n",
       "    .dataframe tbody tr th {\n",
       "        vertical-align: top;\n",
       "    }\n",
       "\n",
       "    .dataframe thead th {\n",
       "        text-align: right;\n",
       "    }\n",
       "</style>\n",
       "<table border=\"1\" class=\"dataframe\">\n",
       "  <thead>\n",
       "    <tr style=\"text-align: right;\">\n",
       "      <th></th>\n",
       "      <th>aisle_id</th>\n",
       "      <th>aisle</th>\n",
       "    </tr>\n",
       "  </thead>\n",
       "  <tbody>\n",
       "    <tr>\n",
       "      <th>111</th>\n",
       "      <td>112</td>\n",
       "      <td>bread</td>\n",
       "    </tr>\n",
       "    <tr>\n",
       "      <th>7</th>\n",
       "      <td>8</td>\n",
       "      <td>bakery desserts</td>\n",
       "    </tr>\n",
       "    <tr>\n",
       "      <th>38</th>\n",
       "      <td>39</td>\n",
       "      <td>seafood counter</td>\n",
       "    </tr>\n",
       "    <tr>\n",
       "      <th>81</th>\n",
       "      <td>82</td>\n",
       "      <td>baby accessories</td>\n",
       "    </tr>\n",
       "    <tr>\n",
       "      <th>46</th>\n",
       "      <td>47</td>\n",
       "      <td>vitamins supplements</td>\n",
       "    </tr>\n",
       "  </tbody>\n",
       "</table>\n",
       "</div>"
      ],
      "text/plain": [
       "     aisle_id                 aisle\n",
       "111       112                 bread\n",
       "7           8       bakery desserts\n",
       "38         39       seafood counter\n",
       "81         82      baby accessories\n",
       "46         47  vitamins supplements"
      ]
     },
     "metadata": {},
     "output_type": "display_data"
    }
   ],
   "source": [
    "departments.info()  # mostrar información del DataFrame\n",
    "display(aisles.sample(5, random_state= 21))"
   ]
  },
  {
   "cell_type": "code",
   "execution_count": 7,
   "id": "6fc81694",
   "metadata": {
    "id": "6fc81694"
   },
   "outputs": [
    {
     "name": "stdout",
     "output_type": "stream",
     "text": [
      "<class 'pandas.core.frame.DataFrame'>\n",
      "RangeIndex: 4545007 entries, 0 to 4545006\n",
      "Data columns (total 4 columns):\n",
      " #   Column             Non-Null Count    Dtype  \n",
      "---  ------             --------------    -----  \n",
      " 0   order_id           4545007 non-null  int64  \n",
      " 1   product_id         4545007 non-null  int64  \n",
      " 2   add_to_cart_order  4544171 non-null  float64\n",
      " 3   reordered          4545007 non-null  int64  \n",
      "dtypes: float64(1), int64(3)\n",
      "memory usage: 138.7 MB\n"
     ]
    },
    {
     "data": {
      "text/html": [
       "<div>\n",
       "<style scoped>\n",
       "    .dataframe tbody tr th:only-of-type {\n",
       "        vertical-align: middle;\n",
       "    }\n",
       "\n",
       "    .dataframe tbody tr th {\n",
       "        vertical-align: top;\n",
       "    }\n",
       "\n",
       "    .dataframe thead th {\n",
       "        text-align: right;\n",
       "    }\n",
       "</style>\n",
       "<table border=\"1\" class=\"dataframe\">\n",
       "  <thead>\n",
       "    <tr style=\"text-align: right;\">\n",
       "      <th></th>\n",
       "      <th>order_id</th>\n",
       "      <th>product_id</th>\n",
       "      <th>add_to_cart_order</th>\n",
       "      <th>reordered</th>\n",
       "    </tr>\n",
       "  </thead>\n",
       "  <tbody>\n",
       "    <tr>\n",
       "      <th>276443</th>\n",
       "      <td>2918139</td>\n",
       "      <td>26104</td>\n",
       "      <td>9.0</td>\n",
       "      <td>1</td>\n",
       "    </tr>\n",
       "    <tr>\n",
       "      <th>4511493</th>\n",
       "      <td>2446958</td>\n",
       "      <td>19660</td>\n",
       "      <td>7.0</td>\n",
       "      <td>1</td>\n",
       "    </tr>\n",
       "    <tr>\n",
       "      <th>275844</th>\n",
       "      <td>2062981</td>\n",
       "      <td>13176</td>\n",
       "      <td>3.0</td>\n",
       "      <td>1</td>\n",
       "    </tr>\n",
       "    <tr>\n",
       "      <th>1466055</th>\n",
       "      <td>391777</td>\n",
       "      <td>19316</td>\n",
       "      <td>1.0</td>\n",
       "      <td>1</td>\n",
       "    </tr>\n",
       "    <tr>\n",
       "      <th>4325199</th>\n",
       "      <td>553303</td>\n",
       "      <td>26924</td>\n",
       "      <td>8.0</td>\n",
       "      <td>0</td>\n",
       "    </tr>\n",
       "  </tbody>\n",
       "</table>\n",
       "</div>"
      ],
      "text/plain": [
       "         order_id  product_id  add_to_cart_order  reordered\n",
       "276443    2918139       26104                9.0          1\n",
       "4511493   2446958       19660                7.0          1\n",
       "275844    2062981       13176                3.0          1\n",
       "1466055    391777       19316                1.0          1\n",
       "4325199    553303       26924                8.0          0"
      ]
     },
     "metadata": {},
     "output_type": "display_data"
    }
   ],
   "source": [
    "order_products.info(show_counts=True)  # mostrar información del DataFrame\n",
    "display(order_products.sample(5, random_state= 4545007))"
   ]
  },
  {
   "cell_type": "markdown",
   "id": "t75BD19oaR5f",
   "metadata": {
    "id": "t75BD19oaR5f"
   },
   "source": [
    "## Conclusiones\n",
    "\n",
    "Escribe aquí tus conclusiones intermedias sobre el Paso 1. Descripción de los datos.\n",
    "\n",
    "Al leer los datos extraidos con .info() se pueden observar datos de cada df como: los índices totales, los nombres de las columnas, los valores no nulos, la memoria usada en cada dataFrame (df), también se puede ver el tipo de datos de las columnas. Hay 3 df que tienen columnas con valores nulos; específicamente: la columna days_since_prior_order del df instacart_orders, la columna product_name del df products y la columna add_to_cart_order del df order_products.\n"
   ]
  },
  {
   "cell_type": "markdown",
   "id": "8RJHqxVmaVsF",
   "metadata": {
    "id": "8RJHqxVmaVsF"
   },
   "source": [
    "# Paso 2. Preprocesamiento de los datos\n",
    "\n",
    "Preprocesa los datos de la siguiente manera:\n",
    "\n",
    "- Verifica y corrige los tipos de datos (por ejemplo, asegúrate de que las columnas de ID sean números enteros).\n",
    "- Identifica y completa los valores ausentes.\n",
    "- Identifica y elimina los valores duplicados.\n",
    "\n",
    "Asegúrate de explicar qué tipos de valores ausentes y duplicados encontraste, cómo los completaste o eliminaste y por qué usaste esos métodos. ¿Por qué crees que estos valores ausentes y duplicados pueden haber estado presentes en el conjunto de datos?"
   ]
  },
  {
   "cell_type": "markdown",
   "id": "p6poABZQaZYb",
   "metadata": {
    "id": "p6poABZQaZYb"
   },
   "source": [
    "## Plan de solución\n",
    "\n",
    "Escribe aquí tu plan para el Paso 2. Preprocesamiento de los datos."
   ]
  },
  {
   "cell_type": "markdown",
   "id": "07357848-dc64-4156-9cc3-01ff4365226d",
   "metadata": {
    "id": "07357848-dc64-4156-9cc3-01ff4365226d"
   },
   "source": [
    "## Encuentra y elimina los valores duplicados (y describe cómo tomaste tus decisiones)."
   ]
  },
  {
   "cell_type": "markdown",
   "id": "f179f0a9",
   "metadata": {
    "id": "f179f0a9"
   },
   "source": [
    "### `orders` data frame"
   ]
  },
  {
   "cell_type": "code",
   "execution_count": 8,
   "id": "b99297a5-405a-463d-8535-9adc3da4ad74",
   "metadata": {
    "id": "b99297a5-405a-463d-8535-9adc3da4ad74"
   },
   "outputs": [
    {
     "name": "stdout",
     "output_type": "stream",
     "text": [
      "0         False\n",
      "1         False\n",
      "2         False\n",
      "3         False\n",
      "4         False\n",
      "          ...  \n",
      "478962    False\n",
      "478963    False\n",
      "478964    False\n",
      "478965    False\n",
      "478966    False\n",
      "Length: 478967, dtype: bool\n",
      "\n",
      "Número de duplicados:\n",
      "15\n",
      "\n"
     ]
    }
   ],
   "source": [
    "print(instacart_order.duplicated()) # Revisa si hay pedidos duplicados\n",
    "print()\n",
    "print(\"Número de duplicados:\")\n",
    "print(instacart_order.duplicated().sum())\n",
    "print()"
   ]
  },
  {
   "cell_type": "markdown",
   "id": "PEkwUX_gvt5A",
   "metadata": {
    "id": "PEkwUX_gvt5A"
   },
   "source": [
    "No se observan valores duplicados al ejecutar duplicated() pero al aplicar el método y sumarlo aparece que hay 15, lo que puede significar que hay valores parcialmente duplicados o repetidos, al aplicar isna() aparecen valores nulos en la columna days_since_prior_order."
   ]
  },
  {
   "cell_type": "code",
   "execution_count": 9,
   "id": "0d44de5d",
   "metadata": {
    "id": "0d44de5d"
   },
   "outputs": [
    {
     "name": "stdout",
     "output_type": "stream",
     "text": [
      "        order_id  user_id  order_number  order_dow  order_hour_of_day  \\\n",
      "1295     1474941   115569             5          2                  2   \n",
      "2391     1640269   173965            15          2                  2   \n",
      "2550     1223696    55276            11          2                  2   \n",
      "5965      579194    85018            14          2                  2   \n",
      "17680    2004230   203121             4          2                  2   \n",
      "...          ...      ...           ...        ...                ...   \n",
      "457660   1562381    19378             5          2                  2   \n",
      "460316   1986084   117453            81          2                  2   \n",
      "462676   1362113    19654            20          2                  2   \n",
      "472800   1746383    88484            19          2                  2   \n",
      "472923   1519815   149345             1          2                  2   \n",
      "\n",
      "        days_since_prior_order  \n",
      "1295                      28.0  \n",
      "2391                       2.0  \n",
      "2550                      30.0  \n",
      "5965                      11.0  \n",
      "17680                      8.0  \n",
      "...                        ...  \n",
      "457660                     6.0  \n",
      "460316                     8.0  \n",
      "462676                    21.0  \n",
      "472800                     5.0  \n",
      "472923                     NaN  \n",
      "\n",
      "[136 rows x 6 columns]\n"
     ]
    }
   ],
   "source": [
    "instacart_order['order_dow'] = instacart_order['order_dow'].astype(int)# Basándote en tus hallazgos,\n",
    "# Verifica todos los pedidos que se hicieron el miércoles a las 2:00 a.m.\n",
    "wednesday_2am= instacart_order[(instacart_order['order_dow']== 2) & (instacart_order['order_hour_of_day'] == 2)]\n",
    "print(wednesday_2am)"
   ]
  },
  {
   "cell_type": "markdown",
   "id": "d3ddd69e",
   "metadata": {
    "id": "vu2OWyoqwOx5"
   },
   "source": [
    "¿Qué sugiere este resultado?\\t\n",
    "Sugiere que para este filtrado existen 136 filas y 6 columnas, las cuales serían los pedidos que se hicieron el miércoles 2 a las 2A.M. También se puede ver que aparece un valor nulo NaN."
   ]
  },
  {
   "cell_type": "code",
   "execution_count": 10,
   "id": "480563c7",
   "metadata": {
    "id": "480563c7"
   },
   "outputs": [
    {
     "name": "stdout",
     "output_type": "stream",
     "text": [
      "        order_id  user_id  order_number  order_dow  order_hour_of_day  \\\n",
      "0        1515936   183418            11          6                 13   \n",
      "1        1690866   163593             5          5                 12   \n",
      "2        1454967    39980             4          5                 19   \n",
      "3        1768857    82516            56          0                 20   \n",
      "4        3007858   196724             2          4                 12   \n",
      "...          ...      ...           ...        ...                ...   \n",
      "478962   3210681     5617             5          1                 14   \n",
      "478963   3270802   112087             2          3                 13   \n",
      "478964    885349    82944            16          2                 11   \n",
      "478965    216274     4391             3          3                  8   \n",
      "478966   2071924     1730            18          1                 14   \n",
      "\n",
      "        days_since_prior_order  \n",
      "0                         30.0  \n",
      "1                          9.0  \n",
      "2                          2.0  \n",
      "3                         10.0  \n",
      "4                         17.0  \n",
      "...                        ...  \n",
      "478962                     7.0  \n",
      "478963                     6.0  \n",
      "478964                     6.0  \n",
      "478965                     8.0  \n",
      "478966                    15.0  \n",
      "\n",
      "[478952 rows x 6 columns]\n"
     ]
    }
   ],
   "source": [
    "# Elimina los pedidos duplicados\n",
    "instacart_order= instacart_order.drop_duplicates()\n",
    "print(instacart_order)"
   ]
  },
  {
   "cell_type": "code",
   "execution_count": 11,
   "id": "0b2396a2",
   "metadata": {
    "id": "0b2396a2"
   },
   "outputs": [
    {
     "name": "stdout",
     "output_type": "stream",
     "text": [
      "0\n",
      "\n",
      "0         False\n",
      "1         False\n",
      "2         False\n",
      "3         False\n",
      "4         False\n",
      "          ...  \n",
      "478962    False\n",
      "478963    False\n",
      "478964    False\n",
      "478965    False\n",
      "478966    False\n",
      "Length: 478952, dtype: bool\n"
     ]
    }
   ],
   "source": [
    "print(instacart_order.duplicated().sum()) # Vuelve a verificar si hay filas duplicadas\n",
    "print()\n",
    "print(instacart_order.duplicated())"
   ]
  },
  {
   "cell_type": "code",
   "execution_count": 12,
   "id": "f6113ef1",
   "metadata": {
    "id": "f6113ef1"
   },
   "outputs": [
    {
     "name": "stdout",
     "output_type": "stream",
     "text": [
      "0\n",
      "\n"
     ]
    }
   ],
   "source": [
    "# Vuelve a verificar únicamente si hay IDs duplicados de pedidos\n",
    "print(instacart_order['order_id'].duplicated().sum())\n",
    "print()"
   ]
  },
  {
   "cell_type": "markdown",
   "id": "5e8905ae",
   "metadata": {
    "id": "5e8905ae"
   },
   "source": [
    "Describe brevemente tus hallazgos y lo que hiciste con ellos:\n",
    "\n",
    "a)En primera instancia, realicé un filtrado para revisar si el archivo contiene duplicados con duplicated() + insna() para verificar los valores nulos.\n",
    "b)Realicé un filtrado para revisar todos los pedidos que se realizaron el día miércoles 2 a las 2 a.m y los revise para ver si tenían duplicados o valores nulos.\n",
    "c) Luego apliqué drop_duplicates() sobre el df para eliminar todos los valores duplicados.\n",
    "d) comprobé con duplicated() nuevamente para comprobar que se hayan eliminado los duplicados."
   ]
  },
  {
   "cell_type": "markdown",
   "id": "45e6bc46",
   "metadata": {
    "id": "45e6bc46"
   },
   "source": [
    "### `products` data frame"
   ]
  },
  {
   "cell_type": "code",
   "execution_count": 13,
   "id": "5f526b5b-8175-46fa-a0fd-441767d50e64",
   "metadata": {
    "id": "5f526b5b-8175-46fa-a0fd-441767d50e64",
    "scrolled": true
   },
   "outputs": [
    {
     "name": "stdout",
     "output_type": "stream",
     "text": [
      "0        False\n",
      "1        False\n",
      "2        False\n",
      "3        False\n",
      "4        False\n",
      "         ...  \n",
      "49689    False\n",
      "49690    False\n",
      "49691    False\n",
      "49692    False\n",
      "49693    False\n",
      "Length: 49694, dtype: bool\n",
      "\n",
      "Número total de filas duplicadas:\n",
      "0\n"
     ]
    }
   ],
   "source": [
    "print(products.duplicated())# Verifica si hay filas totalmente duplicadas\n",
    "print()\n",
    "print(\"Número total de filas duplicadas:\")\n",
    "print(products.duplicated().sum())"
   ]
  },
  {
   "cell_type": "code",
   "execution_count": 14,
   "id": "88daa4f4",
   "metadata": {
    "id": "88daa4f4"
   },
   "outputs": [
    {
     "name": "stdout",
     "output_type": "stream",
     "text": [
      "0\n"
     ]
    }
   ],
   "source": [
    "print(products['product_id'].duplicated().sum())# Verifica únicamente si hay IDs duplicadas de productos\n",
    "\n"
   ]
  },
  {
   "cell_type": "code",
   "execution_count": 15,
   "id": "c773f0bf",
   "metadata": {
    "id": "c773f0bf"
   },
   "outputs": [
    {
     "name": "stdout",
     "output_type": "stream",
     "text": [
      "Nombres duplicados de productos:\n",
      "1361\n",
      "\n",
      "0                            CHOCOLATE SANDWICH COOKIES\n",
      "1                                      ALL-SEASONS SALT\n",
      "2                  ROBUST GOLDEN UNSWEETENED OOLONG TEA\n",
      "3     SMART ONES CLASSIC FAVORITES MINI RIGATONI WIT...\n",
      "4                             GREEN CHILE ANYTIME SAUCE\n",
      "5                                          DRY NOSE OIL\n",
      "6                        PURE COCONUT WATER WITH ORANGE\n",
      "7                     CUT RUSSET POTATOES STEAM N' MASH\n",
      "8                     LIGHT STRAWBERRY BLUEBERRY YOGURT\n",
      "9        SPARKLING ORANGE JUICE & PRICKLY PEAR BEVERAGE\n",
      "10                                    PEACH MANGO JUICE\n",
      "11                           CHOCOLATE FUDGE LAYER CAKE\n",
      "12                                    SALINE NASAL MIST\n",
      "13                       FRESH SCENT DISHWASHER CLEANER\n",
      "14                             OVERNIGHT DIAPERS SIZE 6\n",
      "Name: product_name, dtype: object\n"
     ]
    }
   ],
   "source": [
    "# Revisa únicamente si hay nombres duplicados de productos (convierte los nombres a letras mayúsculas para compararlos mejor)\n",
    "print(\"Nombres duplicados de productos:\")\n",
    "products['product_name']= products['product_name'].str.upper()\n",
    "print(products['product_name'].duplicated().sum())\n",
    "print()\n",
    "print(products['product_name'].head(15))"
   ]
  },
  {
   "cell_type": "code",
   "execution_count": 16,
   "id": "01efd02e",
   "metadata": {
    "id": "01efd02e"
   },
   "outputs": [
    {
     "name": "stdout",
     "output_type": "stream",
     "text": [
      "El total de filas es: 207\n",
      "\n",
      "       product_id                                     product_name  aisle_id  \\\n",
      "41             42                                  BIOTIN 1000 MCG        47   \n",
      "185           186       FRESH SCENT DISHWASHER DETERGENT WITH DAWN        74   \n",
      "515           516                           AMERICAN CHEESE SLICES        21   \n",
      "1538         1539                                 CAULIFLOWER HEAD        83   \n",
      "1783         1784              NUTRITION PROTEIN MIX BLUEBERRY NUT       117   \n",
      "...           ...                                              ...       ...   \n",
      "49689       49690                    HIGH PERFORMANCE ENERGY DRINK        64   \n",
      "49690       49691                    ORIGINAL PANCAKE & WAFFLE MIX       130   \n",
      "49691       49692  ORGANIC INSTANT OATMEAL LIGHT MAPLE BROWN SUGAR       130   \n",
      "49692       49693                           SPRING WATER BODY WASH       127   \n",
      "49693       49694                          BURRITO- STEAK & CHEESE        38   \n",
      "\n",
      "       department_id  \n",
      "41                11  \n",
      "185               17  \n",
      "515               16  \n",
      "1538               4  \n",
      "1783              19  \n",
      "...              ...  \n",
      "49689              7  \n",
      "49690             14  \n",
      "49691             14  \n",
      "49692             11  \n",
      "49693              1  \n",
      "\n",
      "[207 rows x 4 columns]\n"
     ]
    }
   ],
   "source": [
    "# Revisa si hay nombres duplicados de productos no faltantes\n",
    "duplicates= products['product_name'].duplicated(keep=False) & ~products['product_name'].isnull()\n",
    "total_rows = products[duplicates].shape[0]\n",
    "print(\"El total de filas es:\", total_rows)\n",
    "print()\n",
    "print(products[duplicates])"
   ]
  },
  {
   "cell_type": "markdown",
   "id": "9da8d293",
   "metadata": {
    "id": "9da8d293"
   },
   "source": [
    "Describe brevemente tus hallazgos y lo que hiciste con ellos.\n",
    "\n",
    "Al realizar el primer filtrado buscando duplicados el método no los encontró. Luego al revisar la columna 'product_name', se aplicó el método str.upper para pasar todos los datos a mayúscula y que se realice el filtrado duplicated() una vez más sin problema. En ese filtrado se hayaron 1361 datos duplicados.\n",
    "Luego para revisar si existen nombres duplicados de productos no faltantes, cree una variable (duplicates) para realizar un filtrado donde en el primero utilizo el método duplicated() para buscar los duplicados y lo uní con otro filtrado con isnull() para buscar los valores no faltantes, como resultado obtuve 207 filas que cumplen con el filtrado."
   ]
  },
  {
   "cell_type": "markdown",
   "id": "60f30db1",
   "metadata": {
    "id": "60f30db1"
   },
   "source": [
    "### `departments` data frame"
   ]
  },
  {
   "cell_type": "code",
   "execution_count": 17,
   "id": "fb410ad4-0fbf-4b80-bb09-23fdea79afe3",
   "metadata": {
    "id": "fb410ad4-0fbf-4b80-bb09-23fdea79afe3"
   },
   "outputs": [
    {
     "name": "stdout",
     "output_type": "stream",
     "text": [
      "0     False\n",
      "1     False\n",
      "2     False\n",
      "3     False\n",
      "4     False\n",
      "5     False\n",
      "6     False\n",
      "7     False\n",
      "8     False\n",
      "9     False\n",
      "10    False\n",
      "11    False\n",
      "12    False\n",
      "13    False\n",
      "14    False\n",
      "15    False\n",
      "16    False\n",
      "17    False\n",
      "18    False\n",
      "19    False\n",
      "20    False\n",
      "dtype: bool\n",
      "0\n"
     ]
    }
   ],
   "source": [
    "# Revisa si hay filas totalmente duplicadas\n",
    "print(departments.duplicated())\n",
    "print(departments.duplicated().sum())"
   ]
  },
  {
   "cell_type": "code",
   "execution_count": 18,
   "id": "332b12bb",
   "metadata": {
    "id": "332b12bb"
   },
   "outputs": [
    {
     "name": "stdout",
     "output_type": "stream",
     "text": [
      "Número de duplicados en 'department_id'\n",
      "0\n",
      "0     False\n",
      "1     False\n",
      "2     False\n",
      "3     False\n",
      "4     False\n",
      "5     False\n",
      "6     False\n",
      "7     False\n",
      "8     False\n",
      "9     False\n",
      "10    False\n",
      "11    False\n",
      "12    False\n",
      "13    False\n",
      "14    False\n",
      "15    False\n",
      "16    False\n",
      "17    False\n",
      "18    False\n",
      "19    False\n",
      "20    False\n",
      "Name: department_id, dtype: bool\n",
      "\n",
      "Número de duplicados en 'department'\n",
      "0\n",
      "0     False\n",
      "1     False\n",
      "2     False\n",
      "3     False\n",
      "4     False\n",
      "5     False\n",
      "6     False\n",
      "7     False\n",
      "8     False\n",
      "9     False\n",
      "10    False\n",
      "11    False\n",
      "12    False\n",
      "13    False\n",
      "14    False\n",
      "15    False\n",
      "16    False\n",
      "17    False\n",
      "18    False\n",
      "19    False\n",
      "20    False\n",
      "Name: department, dtype: bool\n"
     ]
    }
   ],
   "source": [
    "# Revisa únicamente si hay IDs duplicadas de productos\n",
    "print(\"Número de duplicados en 'department_id'\")\n",
    "print(departments['department_id'].duplicated().sum())\n",
    "print(departments['department_id'].duplicated())\n",
    "print()\n",
    "print(\"Número de duplicados en 'department'\")\n",
    "print(departments['department'].duplicated().sum())\n",
    "print(departments['department'].duplicated())"
   ]
  },
  {
   "cell_type": "markdown",
   "id": "bd30d78e",
   "metadata": {
    "id": "bd30d78e"
   },
   "source": [
    "Al aplicar los métodos para filtrar y revisar si existen duplicados en estas columnas, no se hayan datos duplicados."
   ]
  },
  {
   "cell_type": "markdown",
   "id": "889349c1",
   "metadata": {
    "id": "889349c1"
   },
   "source": [
    "### `aisles` data frame"
   ]
  },
  {
   "cell_type": "code",
   "execution_count": 19,
   "id": "9da89fb9-4679-40f5-ad0d-c34df753a3f8",
   "metadata": {
    "id": "9da89fb9-4679-40f5-ad0d-c34df753a3f8"
   },
   "outputs": [
    {
     "name": "stdout",
     "output_type": "stream",
     "text": [
      "Valores duplicados:\n",
      "0\n",
      "\n",
      "0      False\n",
      "1      False\n",
      "2      False\n",
      "3      False\n",
      "4      False\n",
      "       ...  \n",
      "129    False\n",
      "130    False\n",
      "131    False\n",
      "132    False\n",
      "133    False\n",
      "Length: 134, dtype: bool\n"
     ]
    }
   ],
   "source": [
    "# Revisa si hay filas totalmente duplicadas\n",
    "print(\"Valores duplicados:\")\n",
    "print(aisles.duplicated().sum())\n",
    "print()\n",
    "print(aisles.duplicated())\n",
    "\n"
   ]
  },
  {
   "cell_type": "code",
   "execution_count": 20,
   "id": "da7c2822",
   "metadata": {
    "id": "da7c2822"
   },
   "outputs": [
    {
     "name": "stdout",
     "output_type": "stream",
     "text": [
      "0\n"
     ]
    }
   ],
   "source": [
    "# Revisa únicamente si hay IDs duplicadas de productos\n",
    "print(aisles['aisle_id'].duplicated().sum())"
   ]
  },
  {
   "cell_type": "markdown",
   "id": "ac63826f",
   "metadata": {
    "id": "ac63826f"
   },
   "source": [
    "Al aplicar los métodos para filtrar y revisar si existen duplicados en estas columnas, no se hayan datos duplicados."
   ]
  },
  {
   "cell_type": "markdown",
   "id": "274cd06a",
   "metadata": {
    "id": "274cd06a"
   },
   "source": [
    "### `order_products` data frame"
   ]
  },
  {
   "cell_type": "code",
   "execution_count": 21,
   "id": "52326689-84a8-4b8f-a881-7c68780f62c9",
   "metadata": {
    "id": "52326689-84a8-4b8f-a881-7c68780f62c9"
   },
   "outputs": [
    {
     "name": "stdout",
     "output_type": "stream",
     "text": [
      "Valores duplicados:\n",
      "0\n",
      "\n"
     ]
    }
   ],
   "source": [
    "# Revisa si hay filas totalmente duplicadas\n",
    "print(\"Valores duplicados:\")\n",
    "print(order_products.duplicated().sum())\n",
    "print()"
   ]
  },
  {
   "cell_type": "code",
   "execution_count": 22,
   "id": "7b861391",
   "metadata": {
    "id": "7b861391"
   },
   "outputs": [
    {
     "name": "stdout",
     "output_type": "stream",
     "text": [
      "0\n"
     ]
    }
   ],
   "source": [
    "# Vuelve a verificar si hay cualquier otro duplicado engañoso\n",
    "print(order_products.duplicated(subset=['order_id', 'product_id']).sum())"
   ]
  },
  {
   "cell_type": "markdown",
   "id": "0b890492",
   "metadata": {
    "id": "0b890492"
   },
   "source": [
    "Describe brevemente tus hallazgos y lo que hiciste con ellos.\n",
    "Al aplicar los métodos para filtrar y revisar si existen duplicados en estas columnas, no se hayan datos duplicados.\n",
    "En la pregunta anterior sólo volví a verificar si habia otro duplicado engañoso en las columnas ['order_id', 'product_id'] porque las otras columnas solo tratan datos como, si los clientes volvieron a comprar x artículo y el orden en que agregaron cada artículo al carrito, por lo que las descarté para buscar duplicados engañosos."
   ]
  },
  {
   "cell_type": "markdown",
   "id": "1e46de76",
   "metadata": {
    "id": "1e46de76"
   },
   "source": [
    "## Encuentra y elimina los valores ausentes\n",
    "\n",
    "Al trabajar con valores duplicados, pudimos observar que también nos falta investigar valores ausentes:\n",
    "\n",
    "* La columna `'product_name'` de la tabla products.\n",
    "* La columna `'days_since_prior_order'` de la tabla orders.\n",
    "* La columna `'add_to_cart_order'` de la tabla order_productos."
   ]
  },
  {
   "cell_type": "markdown",
   "id": "c0aebd78",
   "metadata": {
    "id": "c0aebd78"
   },
   "source": [
    "### `products` data frame"
   ]
  },
  {
   "cell_type": "code",
   "execution_count": 23,
   "id": "fe4a8b0f",
   "metadata": {
    "id": "fe4a8b0f"
   },
   "outputs": [
    {
     "data": {
      "text/plain": [
       "0        False\n",
       "1        False\n",
       "2        False\n",
       "3        False\n",
       "4        False\n",
       "         ...  \n",
       "49689    False\n",
       "49690    False\n",
       "49691    False\n",
       "49692    False\n",
       "49693    False\n",
       "Name: product_name, Length: 49694, dtype: bool"
      ]
     },
     "metadata": {},
     "output_type": "display_data"
    },
    {
     "name": "stdout",
     "output_type": "stream",
     "text": [
      "\n",
      "Valores ausentes dentro de esta columna:\n",
      "1258\n"
     ]
    }
   ],
   "source": [
    "# Encuentra los valores ausentes en la columna 'product_name'\n",
    "display(products['product_name'].isnull())\n",
    "print()\n",
    "print(\"Valores ausentes dentro de esta columna:\")\n",
    "print(products['product_name'].isna().sum())"
   ]
  },
  {
   "cell_type": "markdown",
   "id": "-A6x1AbJhjkp",
   "metadata": {
    "id": "-A6x1AbJhjkp"
   },
   "source": [
    "Describe brevemente cuáles son tus hallazgos.\n",
    "Hay 1258 valores ausentes en la columna product_name.\n"
   ]
  },
  {
   "cell_type": "code",
   "execution_count": 24,
   "id": "e96167bc",
   "metadata": {
    "id": "e96167bc"
   },
   "outputs": [
    {
     "name": "stdout",
     "output_type": "stream",
     "text": [
      "Empty DataFrame\n",
      "Columns: [product_id, product_name, aisle_id, department_id]\n",
      "Index: []\n"
     ]
    }
   ],
   "source": [
    "#  ¿Todos los nombres de productos ausentes están relacionados con el pasillo con ID 100?\n",
    "other_null= products[(products['product_name'].isnull()) & (aisles['aisle_id'] == 100)]\n",
    "print(other_null)"
   ]
  },
  {
   "cell_type": "markdown",
   "id": "WRpIfXRphpSL",
   "metadata": {
    "id": "WRpIfXRphpSL"
   },
   "source": [
    "Al realizar el filtrado no aparecen productos ausentes relacionados con el pasillo 100."
   ]
  },
  {
   "cell_type": "code",
   "execution_count": 25,
   "id": "8fd0a541",
   "metadata": {
    "id": "8fd0a541"
   },
   "outputs": [
    {
     "name": "stdout",
     "output_type": "stream",
     "text": [
      "Empty DataFrame\n",
      "Columns: [product_id, product_name, aisle_id, department_id]\n",
      "Index: []\n"
     ]
    }
   ],
   "source": [
    "# ¿Todos los nombres de productos ausentes están relacionados con el departamento con ID 21?\n",
    "null_21= products[(products['product_name'].isnull()) & (departments['department_id'] == 21)]\n",
    "\n",
    "print(null_21)"
   ]
  },
  {
   "cell_type": "markdown",
   "id": "qDpdYn1Fht_I",
   "metadata": {
    "id": "qDpdYn1Fht_I"
   },
   "source": [
    "No, ya que al aplicar el filtrado para buscar los valores ausentes + los valores solo del departemento 21 no aparecen valores coincidentes."
   ]
  },
  {
   "cell_type": "code",
   "execution_count": 26,
   "id": "325c3464",
   "metadata": {
    "id": "325c3464"
   },
   "outputs": [
    {
     "name": "stdout",
     "output_type": "stream",
     "text": [
      "Datos de aisle_id 100: \n",
      "     aisle_id    aisle\n",
      "99       100  missing\n",
      "\n",
      "\n",
      "Productos asociados al pasillo con id 100:\n"
     ]
    },
    {
     "data": {
      "text/html": [
       "<div>\n",
       "<style scoped>\n",
       "    .dataframe tbody tr th:only-of-type {\n",
       "        vertical-align: middle;\n",
       "    }\n",
       "\n",
       "    .dataframe tbody tr th {\n",
       "        vertical-align: top;\n",
       "    }\n",
       "\n",
       "    .dataframe thead th {\n",
       "        text-align: right;\n",
       "    }\n",
       "</style>\n",
       "<table border=\"1\" class=\"dataframe\">\n",
       "  <thead>\n",
       "    <tr style=\"text-align: right;\">\n",
       "      <th></th>\n",
       "      <th>product_id</th>\n",
       "      <th>product_name</th>\n",
       "      <th>aisle_id</th>\n",
       "      <th>department_id</th>\n",
       "    </tr>\n",
       "  </thead>\n",
       "  <tbody>\n",
       "    <tr>\n",
       "      <th>37</th>\n",
       "      <td>38</td>\n",
       "      <td>NaN</td>\n",
       "      <td>100</td>\n",
       "      <td>21</td>\n",
       "    </tr>\n",
       "    <tr>\n",
       "      <th>71</th>\n",
       "      <td>72</td>\n",
       "      <td>NaN</td>\n",
       "      <td>100</td>\n",
       "      <td>21</td>\n",
       "    </tr>\n",
       "    <tr>\n",
       "      <th>109</th>\n",
       "      <td>110</td>\n",
       "      <td>NaN</td>\n",
       "      <td>100</td>\n",
       "      <td>21</td>\n",
       "    </tr>\n",
       "    <tr>\n",
       "      <th>296</th>\n",
       "      <td>297</td>\n",
       "      <td>NaN</td>\n",
       "      <td>100</td>\n",
       "      <td>21</td>\n",
       "    </tr>\n",
       "    <tr>\n",
       "      <th>416</th>\n",
       "      <td>417</td>\n",
       "      <td>NaN</td>\n",
       "      <td>100</td>\n",
       "      <td>21</td>\n",
       "    </tr>\n",
       "    <tr>\n",
       "      <th>...</th>\n",
       "      <td>...</td>\n",
       "      <td>...</td>\n",
       "      <td>...</td>\n",
       "      <td>...</td>\n",
       "    </tr>\n",
       "    <tr>\n",
       "      <th>49552</th>\n",
       "      <td>49553</td>\n",
       "      <td>NaN</td>\n",
       "      <td>100</td>\n",
       "      <td>21</td>\n",
       "    </tr>\n",
       "    <tr>\n",
       "      <th>49574</th>\n",
       "      <td>49575</td>\n",
       "      <td>NaN</td>\n",
       "      <td>100</td>\n",
       "      <td>21</td>\n",
       "    </tr>\n",
       "    <tr>\n",
       "      <th>49640</th>\n",
       "      <td>49641</td>\n",
       "      <td>NaN</td>\n",
       "      <td>100</td>\n",
       "      <td>21</td>\n",
       "    </tr>\n",
       "    <tr>\n",
       "      <th>49663</th>\n",
       "      <td>49664</td>\n",
       "      <td>NaN</td>\n",
       "      <td>100</td>\n",
       "      <td>21</td>\n",
       "    </tr>\n",
       "    <tr>\n",
       "      <th>49668</th>\n",
       "      <td>49669</td>\n",
       "      <td>NaN</td>\n",
       "      <td>100</td>\n",
       "      <td>21</td>\n",
       "    </tr>\n",
       "  </tbody>\n",
       "</table>\n",
       "<p>1258 rows × 4 columns</p>\n",
       "</div>"
      ],
      "text/plain": [
       "       product_id product_name  aisle_id  department_id\n",
       "37             38          NaN       100             21\n",
       "71             72          NaN       100             21\n",
       "109           110          NaN       100             21\n",
       "296           297          NaN       100             21\n",
       "416           417          NaN       100             21\n",
       "...           ...          ...       ...            ...\n",
       "49552       49553          NaN       100             21\n",
       "49574       49575          NaN       100             21\n",
       "49640       49641          NaN       100             21\n",
       "49663       49664          NaN       100             21\n",
       "49668       49669          NaN       100             21\n",
       "\n",
       "[1258 rows x 4 columns]"
      ]
     },
     "metadata": {},
     "output_type": "display_data"
    },
    {
     "name": "stdout",
     "output_type": "stream",
     "text": [
      "\n",
      "\n",
      "Datos de department_id 21: \n",
      "     department_id department\n",
      "20             21    missing\n",
      "\n",
      "\n",
      "Productos asociados al departamento 21:\n"
     ]
    },
    {
     "data": {
      "text/html": [
       "<div>\n",
       "<style scoped>\n",
       "    .dataframe tbody tr th:only-of-type {\n",
       "        vertical-align: middle;\n",
       "    }\n",
       "\n",
       "    .dataframe tbody tr th {\n",
       "        vertical-align: top;\n",
       "    }\n",
       "\n",
       "    .dataframe thead th {\n",
       "        text-align: right;\n",
       "    }\n",
       "</style>\n",
       "<table border=\"1\" class=\"dataframe\">\n",
       "  <thead>\n",
       "    <tr style=\"text-align: right;\">\n",
       "      <th></th>\n",
       "      <th>product_id</th>\n",
       "      <th>product_name</th>\n",
       "      <th>aisle_id</th>\n",
       "      <th>department_id</th>\n",
       "    </tr>\n",
       "  </thead>\n",
       "  <tbody>\n",
       "    <tr>\n",
       "      <th>37</th>\n",
       "      <td>38</td>\n",
       "      <td>NaN</td>\n",
       "      <td>100</td>\n",
       "      <td>21</td>\n",
       "    </tr>\n",
       "    <tr>\n",
       "      <th>71</th>\n",
       "      <td>72</td>\n",
       "      <td>NaN</td>\n",
       "      <td>100</td>\n",
       "      <td>21</td>\n",
       "    </tr>\n",
       "    <tr>\n",
       "      <th>109</th>\n",
       "      <td>110</td>\n",
       "      <td>NaN</td>\n",
       "      <td>100</td>\n",
       "      <td>21</td>\n",
       "    </tr>\n",
       "    <tr>\n",
       "      <th>296</th>\n",
       "      <td>297</td>\n",
       "      <td>NaN</td>\n",
       "      <td>100</td>\n",
       "      <td>21</td>\n",
       "    </tr>\n",
       "    <tr>\n",
       "      <th>416</th>\n",
       "      <td>417</td>\n",
       "      <td>NaN</td>\n",
       "      <td>100</td>\n",
       "      <td>21</td>\n",
       "    </tr>\n",
       "    <tr>\n",
       "      <th>...</th>\n",
       "      <td>...</td>\n",
       "      <td>...</td>\n",
       "      <td>...</td>\n",
       "      <td>...</td>\n",
       "    </tr>\n",
       "    <tr>\n",
       "      <th>49552</th>\n",
       "      <td>49553</td>\n",
       "      <td>NaN</td>\n",
       "      <td>100</td>\n",
       "      <td>21</td>\n",
       "    </tr>\n",
       "    <tr>\n",
       "      <th>49574</th>\n",
       "      <td>49575</td>\n",
       "      <td>NaN</td>\n",
       "      <td>100</td>\n",
       "      <td>21</td>\n",
       "    </tr>\n",
       "    <tr>\n",
       "      <th>49640</th>\n",
       "      <td>49641</td>\n",
       "      <td>NaN</td>\n",
       "      <td>100</td>\n",
       "      <td>21</td>\n",
       "    </tr>\n",
       "    <tr>\n",
       "      <th>49663</th>\n",
       "      <td>49664</td>\n",
       "      <td>NaN</td>\n",
       "      <td>100</td>\n",
       "      <td>21</td>\n",
       "    </tr>\n",
       "    <tr>\n",
       "      <th>49668</th>\n",
       "      <td>49669</td>\n",
       "      <td>NaN</td>\n",
       "      <td>100</td>\n",
       "      <td>21</td>\n",
       "    </tr>\n",
       "  </tbody>\n",
       "</table>\n",
       "<p>1258 rows × 4 columns</p>\n",
       "</div>"
      ],
      "text/plain": [
       "       product_id product_name  aisle_id  department_id\n",
       "37             38          NaN       100             21\n",
       "71             72          NaN       100             21\n",
       "109           110          NaN       100             21\n",
       "296           297          NaN       100             21\n",
       "416           417          NaN       100             21\n",
       "...           ...          ...       ...            ...\n",
       "49552       49553          NaN       100             21\n",
       "49574       49575          NaN       100             21\n",
       "49640       49641          NaN       100             21\n",
       "49663       49664          NaN       100             21\n",
       "49668       49669          NaN       100             21\n",
       "\n",
       "[1258 rows x 4 columns]"
      ]
     },
     "metadata": {},
     "output_type": "display_data"
    }
   ],
   "source": [
    "# Usa las tablas department y aisle para revisar los datos del pasillo con ID 100 y el departamento con ID 21.\n",
    "aisle_100= aisles[aisles['aisle_id'] == 100] #Filtro para obtener sólo el pasillo 100\n",
    "print(\"Datos de aisle_id 100: \\n\", aisle_100)\n",
    "print()\n",
    "products_aisle_100 = products[products['aisle_id'] == 100] #Filtro para obtener sólo los productos del pasillo 100\n",
    "print(\"\\nProductos asociados al pasillo con id 100:\")\n",
    "display(products_aisle_100)\n",
    "print()\n",
    "department_21 = departments[departments['department_id'] == 21]  #Filtro para obtener sólo el departamento 21\n",
    "print(\"\\nDatos de department_id 21: \\n\", department_21)\n",
    "print()\n",
    "products_department_21 = products[products['department_id'] == 21] #Filtro para obtener sólo los productos asociados al dpto 21\n",
    "print(\"\\nProductos asociados al departamento 21:\")\n",
    "display(products_department_21)\n",
    "\n"
   ]
  },
  {
   "cell_type": "markdown",
   "id": "nqhSTUPhhvEJ",
   "metadata": {
    "id": "nqhSTUPhhvEJ"
   },
   "source": [
    "Al revisar los resultados si aparecen datos ausentes en la columna product_name relacionados tanto al pasillo 100 como al departamento 21."
   ]
  },
  {
   "cell_type": "code",
   "execution_count": 27,
   "id": "6b295120",
   "metadata": {
    "id": "6b295120"
   },
   "outputs": [
    {
     "name": "stdout",
     "output_type": "stream",
     "text": [
      "0\n"
     ]
    }
   ],
   "source": [
    "# Completa los nombres de productos ausentes con 'Unknown'\n",
    "products['product_name'].fillna('Unknown', inplace=True)\n",
    "print(products['product_name'].isna().sum())"
   ]
  },
  {
   "cell_type": "markdown",
   "id": "fc70e5ad",
   "metadata": {
    "id": "fc70e5ad"
   },
   "source": [
    "Describe brevemente tus hallazgos y lo que hiciste con ellos.\n",
    "\n",
    "Al hallar los valores ausentes, utilicé el método fillna para reemplazarlos por Unknown ya al eliminar los valores ausentes podría afectar a la investigación. Luego realizar el reemplazo utilicé isna().sum() para verificar que todos los valores nulos se cambiaron exitosamente a unknown. Esto se comprueba porque el resultado fue 0."
   ]
  },
  {
   "cell_type": "markdown",
   "id": "7eb45c86",
   "metadata": {
    "id": "7eb45c86"
   },
   "source": [
    "### `orders` data frame"
   ]
  },
  {
   "cell_type": "code",
   "execution_count": 28,
   "id": "93e41d96",
   "metadata": {
    "id": "93e41d96"
   },
   "outputs": [
    {
     "name": "stdout",
     "output_type": "stream",
     "text": [
      "Valores ausentes dentro del DatafFrame:\n",
      "order_id                      0\n",
      "user_id                       0\n",
      "order_number                  0\n",
      "order_dow                     0\n",
      "order_hour_of_day             0\n",
      "days_since_prior_order    28817\n",
      "dtype: int64\n"
     ]
    }
   ],
   "source": [
    "# Encuentra los valores ausentes\n",
    "print(\"Valores ausentes dentro del DatafFrame:\")\n",
    "print(instacart_order.isna().sum())  #Para ver si hay valores ausentes"
   ]
  },
  {
   "cell_type": "code",
   "execution_count": 29,
   "id": "166e5a86",
   "metadata": {
    "id": "166e5a86"
   },
   "outputs": [
    {
     "name": "stdout",
     "output_type": "stream",
     "text": [
      "Empty DataFrame\n",
      "Columns: [order_id, user_id, order_number, order_dow, order_hour_of_day, days_since_prior_order]\n",
      "Index: []\n"
     ]
    }
   ],
   "source": [
    "# ¿Hay algún valor ausente que no sea el primer pedido del cliente?\n",
    "not_first_order= instacart_order[instacart_order['order_number'] !=1] #filtra entre los pedidos que no sean el primero de los clientes\n",
    "val_ausent_not_1st_order= not_first_order[not_first_order.isna().sum(axis=1) >0] #busca los valores nulos y suma los valores ausentes en cada fila\n",
    "print(val_ausent_not_1st_order)\n",
    "\n",
    "\n",
    "instacart_order['days_since_prior_order'] = instacart_order['days_since_prior_order'].fillna('') #Reemplaza los valores ausentes por ('')\n"
   ]
  },
  {
   "cell_type": "markdown",
   "id": "4e23d089",
   "metadata": {
    "id": "4e23d089"
   },
   "source": [
    "Describe brevemente tus hallazgos y lo que hiciste con ellos.\n",
    "Al filtrar se pudo ver que hay valores ausentes en la columna days_since_prior_order del df.\n",
    "Luego al revisar si existen valores ausentes en algún pedido de los clientes que no sea su primer pedido, no se observan.\n",
    "Para terminar reemplacé los valores ausentes por ('').\n"
   ]
  },
  {
   "cell_type": "markdown",
   "id": "69dc9ca4",
   "metadata": {
    "id": "69dc9ca4"
   },
   "source": [
    "### `order_products` data frame"
   ]
  },
  {
   "cell_type": "code",
   "execution_count": 30,
   "id": "b8240253",
   "metadata": {
    "id": "b8240253"
   },
   "outputs": [
    {
     "name": "stdout",
     "output_type": "stream",
     "text": [
      "order_id               0\n",
      "product_id             0\n",
      "add_to_cart_order    836\n",
      "reordered              0\n",
      "dtype: int64\n"
     ]
    }
   ],
   "source": [
    "# Encuentra los valores ausentes\n",
    "order_prod_ausent_val = order_products.isna().sum()\n",
    "print(order_prod_ausent_val)"
   ]
  },
  {
   "cell_type": "code",
   "execution_count": 31,
   "id": "9a78e5ee",
   "metadata": {
    "id": "9a78e5ee"
   },
   "outputs": [
    {
     "name": "stdout",
     "output_type": "stream",
     "text": [
      "Valor mínimo en 'add_to_cart_order': 1.0\n",
      "Valor máximo en 'add_to_cart_order': 64.0\n"
     ]
    }
   ],
   "source": [
    "# ¿Cuáles son los valores mínimos y máximos en esta columna?\n",
    "min_value = order_products['add_to_cart_order'].min()\n",
    "max_value = order_products['add_to_cart_order'].max()\n",
    "\n",
    "print(\"Valor mínimo en 'add_to_cart_order':\", min_value)\n",
    "print(\"Valor máximo en 'add_to_cart_order':\", max_value)\n"
   ]
  },
  {
   "cell_type": "markdown",
   "id": "-Z2Ja215jW78",
   "metadata": {
    "id": "-Z2Ja215jW78"
   },
   "source": [
    "Describe brevemente cuáles son tus hallazgos.\n",
    "\n",
    "Lo artículos mínimos que han añadido al carro es 1 y lo máximo son 64."
   ]
  },
  {
   "cell_type": "code",
   "execution_count": 32,
   "id": "ab9d0c2b",
   "metadata": {
    "id": "ab9d0c2b"
   },
   "outputs": [
    {
     "name": "stdout",
     "output_type": "stream",
     "text": [
      "737        2449164\n",
      "9926       1968313\n",
      "14394      2926893\n",
      "16418      1717990\n",
      "30114      1959075\n",
      "            ...   \n",
      "4505662    1800005\n",
      "4511400    1633337\n",
      "4517562     404157\n",
      "4534112    1673227\n",
      "4535739    1832957\n",
      "Name: order_id, Length: 836, dtype: int64\n"
     ]
    }
   ],
   "source": [
    "# Guarda todas las IDs de pedidos que tengan un valor ausente en 'add_to_cart_order'\n",
    "ausent_id= order_products[order_products['add_to_cart_order'].isnull()]['order_id']\n",
    "print(ausent_id)\n",
    "\n"
   ]
  },
  {
   "cell_type": "code",
   "execution_count": 33,
   "id": "54c31695",
   "metadata": {
    "id": "54c31695",
    "scrolled": true
   },
   "outputs": [
    {
     "name": "stdout",
     "output_type": "stream",
     "text": [
      "¿Todos los pedidos con valores ausentes tienen más de 64 productos?: True\n",
      "\n",
      "Cantidad de productos en pedidos con valores ausentes:\n"
     ]
    },
    {
     "data": {
      "text/plain": [
       "order_id\n",
       "9310        65\n",
       "61355      127\n",
       "102236      95\n",
       "129627      69\n",
       "165801      70\n",
       "          ... \n",
       "2999801     70\n",
       "3125735     86\n",
       "3308010    115\n",
       "3347453     71\n",
       "3383594     69\n",
       "Name: product_id, Length: 70, dtype: int64"
      ]
     },
     "metadata": {},
     "output_type": "display_data"
    }
   ],
   "source": [
    "# ¿Todos los pedidos con valores ausentes tienen más de 64 productos\n",
    "# Agrupa todos los pedidos con datos ausentes por su ID de pedido.\n",
    "#Cuenta el número de 'product_id' en cada pedido y revisa el valor mínimo del conteo.\n",
    "def verificar_productos_ausentes(order_products):\n",
    "    ausent_id = order_products[order_products['add_to_cart_order'].isnull()]['order_id'] \n",
    "    isin_order_products = order_products[order_products['order_id'].isin(ausent_id)] #selecciono solo las filas donde order_id esta presente en ausent_id\n",
    "    orders_with_missing_values = isin_order_products.groupby('order_id')['product_id'].count()\n",
    "\n",
    "    all_more_64_product = (orders_with_missing_values.min() > 64)\n",
    "    return all_more_64_product, orders_with_missing_values\n",
    "\n",
    "all_more_64_products, count_missing_products = verificar_productos_ausentes(order_products)\n",
    "\n",
    "print(\"¿Todos los pedidos con valores ausentes tienen más de 64 productos?:\", all_more_64_products)\n",
    "print(\"\\nCantidad de productos en pedidos con valores ausentes:\")\n",
    "display(count_missing_products)\n",
    "\n",
    "\n"
   ]
  },
  {
   "cell_type": "markdown",
   "id": "p9V6pddtjglj",
   "metadata": {
    "id": "p9V6pddtjglj"
   },
   "source": [
    "Describe brevemente cuáles son tus hallazgos.\n",
    "si, al realizar el filtrado se puede observar que los pedidos con valores ausentes cuentan con >64 artículos."
   ]
  },
  {
   "cell_type": "code",
   "execution_count": 34,
   "id": "7a987d08",
   "metadata": {
    "id": "7a987d08"
   },
   "outputs": [
    {
     "name": "stdout",
     "output_type": "stream",
     "text": [
      "0          17\n",
      "1           1\n",
      "2           1\n",
      "3          35\n",
      "4           5\n",
      "           ..\n",
      "4545002    12\n",
      "4545003     9\n",
      "4545004     4\n",
      "4545005     8\n",
      "4545006     9\n",
      "Name: add_to_cart_order, Length: 4545007, dtype: int64\n"
     ]
    }
   ],
   "source": [
    "# Remplaza los valores ausentes en la columna 'add_to_cart? con 999 y convierte la columna al tipo entero.\n",
    "order_products['add_to_cart_order'].fillna(999, inplace=True)\n",
    "order_products['add_to_cart_order'] = order_products['add_to_cart_order'].astype(int)\n",
    "print(order_products['add_to_cart_order'])"
   ]
  },
  {
   "cell_type": "markdown",
   "id": "fea4bcc7",
   "metadata": {
    "id": "fea4bcc7"
   },
   "source": [
    "Describe brevemente tus hallazgos y lo que hiciste con ellos.\n",
    "\n",
    "Para reemplazar los valores ausentes de la columna utilicé el método fillna, posterior utilicé el método astype para que todos los valores se conviertan en números enteros."
   ]
  },
  {
   "cell_type": "markdown",
   "id": "RnplPFY1gSrb",
   "metadata": {
    "id": "RnplPFY1gSrb"
   },
   "source": [
    "## Conclusiones\n",
    "\n",
    "Escribe aquí tus conclusiones intermedias sobre el Paso 2. Preprocesamiento de los datos\n",
    "Al evaluar los datos aparecen datos ausentes los cuales fueron reemplazados, hay varios productos con valores ausentes en el pasillo 100 y en el dpto 21. También se encontraron valores duplicados los cuales fueron eliminados."
   ]
  },
  {
   "cell_type": "markdown",
   "id": "UjrOIwTcz3ri",
   "metadata": {
    "id": "UjrOIwTcz3ri"
   },
   "source": [
    "# Paso 3. Análisis de los datos\n",
    "\n",
    "Una vez los datos estén procesados y listos, haz el siguiente análisis:"
   ]
  },
  {
   "cell_type": "markdown",
   "id": "turkish-kidney",
   "metadata": {
    "id": "turkish-kidney"
   },
   "source": [
    "# [A] Fácil (deben completarse todos para aprobar)\n",
    "\n",
    "1. Verifica que los valores en las columnas `'order_hour_of_day'` y `'order_dow'` en la tabla orders sean razonables (es decir, `'order_hour_of_day'` oscile entre 0 y 23 y `'order_dow'` oscile entre 0 y 6).\n",
    "2. Crea un gráfico que muestre el número de personas que hacen pedidos dependiendo de la hora del día.\n",
    "3. Crea un gráfico que muestre qué día de la semana la gente hace sus compras.\n",
    "4. Crea un gráfico que muestre el tiempo que la gente espera hasta hacer su siguiente pedido, y comenta sobre los valores mínimos y máximos."
   ]
  },
  {
   "cell_type": "markdown",
   "id": "short-capability",
   "metadata": {
    "id": "short-capability"
   },
   "source": [
    "### [A1] Verifica que los valores sean sensibles"
   ]
  },
  {
   "cell_type": "code",
   "execution_count": 35,
   "id": "growing-fruit",
   "metadata": {
    "id": "growing-fruit"
   },
   "outputs": [
    {
     "name": "stdout",
     "output_type": "stream",
     "text": [
      "Todos los valores oscilan entre 0 y 23 en 'order_hour_of_day'.\n"
     ]
    }
   ],
   "source": [
    "def order_hour(instacart_order):\n",
    "    hour_outliers = instacart_order[(instacart_order['order_hour_of_day'] < 0) | (instacart_order['order_hour_of_day'] > 23)]\n",
    "    if hour_outliers.empty:\n",
    "        print(\"Todos los valores oscilan entre 0 y 23 en 'order_hour_of_day'.\")\n",
    "    else:\n",
    "        print(\"Valores fuera de rango en 'order_hour_of_day':\")\n",
    "        print(hour_outliers)\n",
    "order_hour(instacart_order)"
   ]
  },
  {
   "cell_type": "code",
   "execution_count": 36,
   "id": "accessory-malaysia",
   "metadata": {
    "id": "accessory-malaysia"
   },
   "outputs": [
    {
     "name": "stdout",
     "output_type": "stream",
     "text": [
      "Todos los valores oscilan entre 0 y 6 en 'order_dow'.\n"
     ]
    }
   ],
   "source": [
    "def day_order(instacart_order):\n",
    "    day_outliers = instacart_order[(instacart_order['order_dow'] < 0) | (instacart_order['order_dow'] > 6)]\n",
    "\n",
    "    if day_outliers.empty:\n",
    "        print(\"Todos los valores oscilan entre 0 y 6 en 'order_dow'.\")\n",
    "    else:\n",
    "        print(\"Valores fuera de rango en 'order_dow':\")\n",
    "        print(day_outliers)\n",
    "day_order(instacart_order)"
   ]
  },
  {
   "cell_type": "markdown",
   "id": "hmR2GNQ6lCsX",
   "metadata": {
    "id": "hmR2GNQ6lCsX"
   },
   "source": [
    "Escribe aquí tus conclusiones\n",
    "\n",
    "Los valores se encuentran dentro de los rangos esperados, sin encontrarse valores atipicos.\n"
   ]
  },
  {
   "cell_type": "markdown",
   "id": "a6743a70",
   "metadata": {
    "id": "a6743a70"
   },
   "source": [
    "### [A2] Para cada hora del día, ¿cuántas personas hacen órdenes?"
   ]
  },
  {
   "cell_type": "code",
   "execution_count": 37,
   "id": "a36cca27",
   "metadata": {
    "id": "a36cca27"
   },
   "outputs": [
    {
     "data": {
      "image/png": "[encoded data removed]",
      "text/plain": [
       "<Figure size 720x432 with 1 Axes>"
      ]
     },
     "metadata": {
      "needs_background": "light"
     },
     "output_type": "display_data"
    }
   ],
   "source": [
    "order_count_day= instacart_order['order_hour_of_day'].value_counts().sort_index()\n",
    "\n",
    "order_count_day.plot(title='Pedidos por hora al día',\n",
    "        figsize=[10, 6],\n",
    "        color='hotpink',\n",
    "        xlabel='Hora del Día',\n",
    "        ylabel='Número de Pedidos',\n",
    "        x='order_id',\n",
    "        kind= 'bar',\n",
    "        alpha=0.5)\n",
    "plt.show()"
   ]
  },
  {
   "cell_type": "markdown",
   "id": "11270eed",
   "metadata": {
    "id": "11270eed"
   },
   "source": [
    "Escribe aquí tus conclusiones\n",
    "Se puede observar que entre las 10 y las 16 hrs es cuando más personas realizan pedidos, se podria inferir que es debido a que a esa hora los trabajadores generalmente tienen un descanso para almorzar o colación.\n",
    "El pick de pedidos durante el llega a alcanzar cerca de los 40.000 pedidos y lo mínimo correspondería en la madrugada cerca de los 3000-4000 pedidos entre las horas de 0-5AM."
   ]
  },
  {
   "cell_type": "markdown",
   "id": "documented-command",
   "metadata": {
    "id": "documented-command"
   },
   "source": [
    "### [A3] ¿Qué día de la semana compran víveres las personas?"
   ]
  },
  {
   "cell_type": "code",
   "execution_count": 38,
   "id": "chief-digit",
   "metadata": {
    "id": "chief-digit"
   },
   "outputs": [
    {
     "data": {
      "image/png": "[encoded data removed]",
      "text/plain": [
       "<Figure size 576x432 with 1 Axes>"
      ]
     },
     "metadata": {
      "needs_background": "light"
     },
     "output_type": "display_data"
    }
   ],
   "source": [
    "order_count_week= instacart_order['order_dow'].value_counts().sort_index()\n",
    "days={0:'Monday', 1:'Tuesday', 2:'Wednesday', 3:'Thursday', 4:'Friday', 5:'Saturday', 6:'Sunday'}\n",
    "order_count_week.index = order_count_week.index.map(days)\n",
    "\n",
    "order_count_week.plot(title='Pedidos por semana',\n",
    "        figsize=[8, 6],\n",
    "        color='hotpink',\n",
    "        xlabel='Dia de la semana',\n",
    "        ylabel='Número de Pedidos',\n",
    "        x= 'days',\n",
    "        kind= 'bar')\n",
    "plt.show()"
   ]
  },
  {
   "cell_type": "markdown",
   "id": "dominant-lightning",
   "metadata": {
    "id": "dominant-lightning"
   },
   "source": [
    "Escribe aquí tus conclusiones\n",
    "Se puede observar que los días que las personas compran más víveres son los días Lunes y Martes sobrepasando los 80000 pedidos durante esos días, los días que menos compran jueves y viernesalcanzando 60000 pedidos aprox."
   ]
  },
  {
   "cell_type": "markdown",
   "id": "cutting-concert",
   "metadata": {
    "id": "cutting-concert"
   },
   "source": [
    "### [A4] ¿Cuánto tiempo esperan las personas hasta hacer otro pedido? Comenta sobre los valores mínimos y máximos."
   ]
  },
  {
   "cell_type": "code",
   "execution_count": 39,
   "id": "c231f523",
   "metadata": {
    "id": "c231f523"
   },
   "outputs": [
    {
     "name": "stdout",
     "output_type": "stream",
     "text": [
      "Valor mínimo de días transcurridos entre pedidos: 0\n",
      "Valor máximo de días transcurridos entre pedidos: 30\n"
     ]
    },
    {
     "data": {
      "image/png": "[encoded data removed]",
      "text/plain": [
       "<Figure size 576x432 with 1 Axes>"
      ]
     },
     "metadata": {
      "needs_background": "light"
     },
     "output_type": "display_data"
    }
   ],
   "source": [
    "# Convierto los datos a numéricos con to_numeric para poder trabajar con estos datos\n",
    "instacart_order['days_since_prior_order'] = pd.to_numeric(instacart_order['days_since_prior_order'], errors='coerce')\n",
    "# Encuentra el valor mínimo de días transcurridos entre pedidos\n",
    "min_days_since_prior_order = instacart_order['days_since_prior_order'].min()\n",
    "\n",
    "# Encuentra el valor máximo de días transcurridos entre pedidos\n",
    "max_days_since_prior_order = instacart_order['days_since_prior_order'].max()\n",
    "\n",
    "print(\"Valor mínimo de días transcurridos entre pedidos:\", min_days_since_prior_order.astype(int))\n",
    "print(\"Valor máximo de días transcurridos entre pedidos:\", max_days_since_prior_order.astype(int))\n",
    "\n",
    "instacart_order['days_since_prior_order'].plot(title='Días entre pedidos',\n",
    "        figsize=[8, 6],\n",
    "        color='blue',\n",
    "        xlabel='Número de días',\n",
    "        ylabel='Frecuencia',\n",
    "        kind= 'hist',\n",
    "        alpha= 0.5)\n",
    "plt.show()"
   ]
  },
  {
   "cell_type": "markdown",
   "id": "discrete-vertex",
   "metadata": {
    "id": "discrete-vertex"
   },
   "source": [
    "Escribe aquí tus conclusiones\n",
    "\n",
    "Hay clientes que en el mismo día realizan otro pedido y otros que esperan un mes (30 días) para realizar otro pedido.\n",
    "\n",
    "Según el gráfico la mayoria de los usuarios luego de 4-9 aprox realizan otro pedido"
   ]
  },
  {
   "cell_type": "markdown",
   "id": "tight-staff",
   "metadata": {
    "id": "tight-staff"
   },
   "source": [
    "# [B] Intermedio (deben completarse todos para aprobar)\n",
    "\n",
    "1. ¿Existe alguna diferencia entre las distribuciones `'order_hour_of_day'` de los miércoles y los sábados? Traza gráficos de barra de `'order_hour_of_day'` para ambos días en la misma figura y describe las diferencias que observes.\n",
    "2. Grafica la distribución para el número de órdenes que hacen los clientes (es decir, cuántos clientes hicieron solo 1 pedido, cuántos hicieron 2, cuántos 3, y así sucesivamente...).\n",
    "3. ¿Cuáles son los 20 principales productos que se piden con más frecuencia (muestra su identificación y nombre)?"
   ]
  },
  {
   "cell_type": "markdown",
   "id": "packed-classic",
   "metadata": {
    "id": "packed-classic"
   },
   "source": [
    "### [B1] Diferencia entre miércoles y sábados para  `'order_hour_of_day'`. Traza gráficos de barra para los dos días y describe las diferencias que veas."
   ]
  },
  {
   "cell_type": "code",
   "execution_count": 40,
   "id": "d89b8403",
   "metadata": {
    "id": "d89b8403"
   },
   "outputs": [
    {
     "data": {
      "image/png": "[encoded data removed]",
      "text/plain": [
       "<Figure size 864x432 with 1 Axes>"
      ]
     },
     "metadata": {
      "needs_background": "light"
     },
     "output_type": "display_data"
    }
   ],
   "source": [
    "wednesday_order = instacart_order[instacart_order['order_dow'] == 3]\n",
    "saturday_order = instacart_order[instacart_order['order_dow'] == 6]\n",
    "wednesday_distribution = wednesday_order['order_hour_of_day'].value_counts().sort_index()\n",
    "saturday_distribution = saturday_order['order_hour_of_day'].value_counts().sort_index()\n",
    "\n",
    "plt.figure(figsize=[12, 6])\n",
    "plt.bar(wednesday_distribution.index, wednesday_distribution.values, color='orange', alpha=0.7, label='Miércoles')\n",
    "plt.bar(saturday_distribution.index, saturday_distribution.values, color='purple', alpha=0.5, label='Sábado')\n",
    "\n",
    "plt.title('Comparación de Pedidos los Días Miércoles y Sábado')\n",
    "plt.xlabel('Hora del día')\n",
    "plt.ylabel('Cantidad de Pedidos')\n",
    "plt.show()\n"
   ]
  },
  {
   "cell_type": "markdown",
   "id": "3c0628d0",
   "metadata": {
    "id": "797c90a8"
   },
   "source": [
    "Los días miércoles alcanzan +5000 pedidos y las horas en las que hay más pedidos durante el día es entre las 10 y las 16hrs, luego va disminuyendo la frecuencia de pedidos durante ese día.\n"
   ]
  },
  {
   "cell_type": "markdown",
   "id": "f21df587",
   "metadata": {
    "id": "35bcea30"
   },
   "source": [
    "Los días sábado sobrepasan los +5000 pedidos, las horas en las que se realizan más pedidos son entre las 10 y las 16hrs, luego con las horas los pedidos van disminuyendo."
   ]
  },
  {
   "cell_type": "markdown",
   "id": "charitable-congo",
   "metadata": {
    "id": "charitable-congo"
   },
   "source": [
    "Escribe aquí tus conclusiones\n",
    "\n",
    "Los días miercoles y sábados hay una similar cantidad de pedidos pero la diferencia que se puede hallar entre entos dos días son las horas puntas:\n",
    "Los días miércoles hay más pedidos entre 10-11 ,luego disminuyen un poco, y vuelven a subir entre las 15-16 hrs, en esas horas los pedidos sobrepasan o rondan los 5000.\n",
    "Los días sábados las horas en las que los pedidos sobrepasan o rondan los 5000, a diferencia de los miércoles, se mantienen constantes desde las 10 de la mañana hasta las 16hrs.\n"
   ]
  },
  {
   "cell_type": "markdown",
   "id": "e3891143",
   "metadata": {
    "id": "e3891143"
   },
   "source": [
    "### [B2] ¿Cuál es la distribución para el número de pedidos por cliente?"
   ]
  },
  {
   "cell_type": "code",
   "execution_count": 41,
   "id": "d8c26c23",
   "metadata": {
    "id": "d8c26c23"
   },
   "outputs": [],
   "source": [
    "order_per_client= instacart_order.groupby('user_id')['order_id'].count().sort_index() #agrupo los pedidos para cada cliente y los ordena \n"
   ]
  },
  {
   "cell_type": "code",
   "execution_count": 42,
   "id": "00e69a66",
   "metadata": {
    "id": "00e69a66"
   },
   "outputs": [
    {
     "data": {
      "image/png": "[encoded data removed]",
      "text/plain": [
       "<Figure size 864x432 with 1 Axes>"
      ]
     },
     "metadata": {
      "needs_background": "light"
     },
     "output_type": "display_data"
    }
   ],
   "source": [
    "order_per_client.plot(title='Distribución del número de pedidos por cliente',\n",
    "        figsize=[12, 6],\n",
    "        color='green',\n",
    "        xlabel= 'Número de pedidos',\n",
    "        ylabel='Clientes',\n",
    "        kind= 'hist',\n",
    "        alpha= 0.7)\n",
    "plt.show()"
   ]
  },
  {
   "cell_type": "markdown",
   "id": "d2eff7d5",
   "metadata": {
    "id": "d2eff7d5"
   },
   "source": [
    "Escribe aquí tus conclusiones\n",
    "\n",
    "La mayoria de los clientes han hecho más de 3 pedidos aprox desde que se abrieron una cuenta en instacart, son menos los clientes que han hecho +15 productos."
   ]
  },
  {
   "cell_type": "markdown",
   "id": "54a0319c",
   "metadata": {
    "id": "54a0319c"
   },
   "source": [
    "### [B3] ¿Cuáles son los 20 productos más populares (muestra su ID y nombre)?"
   ]
  },
  {
   "cell_type": "code",
   "execution_count": 43,
   "id": "exterior-arizona",
   "metadata": {
    "id": "exterior-arizona"
   },
   "outputs": [],
   "source": [
    "top_20_products = order_products['product_id'].value_counts().head(20) \n",
    "#filtro la columna que posee los id únicos de cada producto, los cuenta entre los que más aparecen y muestra los primeros 20"
   ]
  },
  {
   "cell_type": "code",
   "execution_count": 44,
   "id": "universal-facial",
   "metadata": {
    "id": "universal-facial"
   },
   "outputs": [],
   "source": [
    "top_20_product_names = products[products['product_id'].isin(top_20_products.index)][['product_id', 'product_name']]\n",
    "#busco dentro de la columna 'product_id', verifico los valores de mi variable, la ordeno con el método index y muestro las columnas product_id y product_name"
   ]
  },
  {
   "cell_type": "code",
   "execution_count": 45,
   "id": "bbcdd20b",
   "metadata": {
    "id": "bbcdd20b"
   },
   "outputs": [
    {
     "name": "stdout",
     "output_type": "stream",
     "text": [
      "Los 20 productos más populares son:\n"
     ]
    },
    {
     "data": {
      "text/html": [
       "<div>\n",
       "<style scoped>\n",
       "    .dataframe tbody tr th:only-of-type {\n",
       "        vertical-align: middle;\n",
       "    }\n",
       "\n",
       "    .dataframe tbody tr th {\n",
       "        vertical-align: top;\n",
       "    }\n",
       "\n",
       "    .dataframe thead th {\n",
       "        text-align: right;\n",
       "    }\n",
       "</style>\n",
       "<table border=\"1\" class=\"dataframe\">\n",
       "  <thead>\n",
       "    <tr style=\"text-align: right;\">\n",
       "      <th></th>\n",
       "      <th>product_id</th>\n",
       "      <th>product_name</th>\n",
       "    </tr>\n",
       "  </thead>\n",
       "  <tbody>\n",
       "    <tr>\n",
       "      <th>5875</th>\n",
       "      <td>5876</td>\n",
       "      <td>ORGANIC LEMON</td>\n",
       "    </tr>\n",
       "    <tr>\n",
       "      <th>8276</th>\n",
       "      <td>8277</td>\n",
       "      <td>APPLE HONEYCRISP ORGANIC</td>\n",
       "    </tr>\n",
       "    <tr>\n",
       "      <th>13175</th>\n",
       "      <td>13176</td>\n",
       "      <td>BAG OF ORGANIC BANANAS</td>\n",
       "    </tr>\n",
       "    <tr>\n",
       "      <th>16796</th>\n",
       "      <td>16797</td>\n",
       "      <td>STRAWBERRIES</td>\n",
       "    </tr>\n",
       "    <tr>\n",
       "      <th>21136</th>\n",
       "      <td>21137</td>\n",
       "      <td>ORGANIC STRAWBERRIES</td>\n",
       "    </tr>\n",
       "    <tr>\n",
       "      <th>21902</th>\n",
       "      <td>21903</td>\n",
       "      <td>ORGANIC BABY SPINACH</td>\n",
       "    </tr>\n",
       "    <tr>\n",
       "      <th>22934</th>\n",
       "      <td>22935</td>\n",
       "      <td>ORGANIC YELLOW ONION</td>\n",
       "    </tr>\n",
       "    <tr>\n",
       "      <th>24851</th>\n",
       "      <td>24852</td>\n",
       "      <td>BANANA</td>\n",
       "    </tr>\n",
       "    <tr>\n",
       "      <th>24963</th>\n",
       "      <td>24964</td>\n",
       "      <td>ORGANIC GARLIC</td>\n",
       "    </tr>\n",
       "    <tr>\n",
       "      <th>26208</th>\n",
       "      <td>26209</td>\n",
       "      <td>LIMES</td>\n",
       "    </tr>\n",
       "    <tr>\n",
       "      <th>27844</th>\n",
       "      <td>27845</td>\n",
       "      <td>ORGANIC WHOLE MILK</td>\n",
       "    </tr>\n",
       "    <tr>\n",
       "      <th>27965</th>\n",
       "      <td>27966</td>\n",
       "      <td>ORGANIC RASPBERRIES</td>\n",
       "    </tr>\n",
       "    <tr>\n",
       "      <th>28203</th>\n",
       "      <td>28204</td>\n",
       "      <td>ORGANIC FUJI APPLE</td>\n",
       "    </tr>\n",
       "    <tr>\n",
       "      <th>39274</th>\n",
       "      <td>39275</td>\n",
       "      <td>ORGANIC BLUEBERRIES</td>\n",
       "    </tr>\n",
       "    <tr>\n",
       "      <th>40705</th>\n",
       "      <td>40706</td>\n",
       "      <td>ORGANIC GRAPE TOMATOES</td>\n",
       "    </tr>\n",
       "    <tr>\n",
       "      <th>45006</th>\n",
       "      <td>45007</td>\n",
       "      <td>ORGANIC ZUCCHINI</td>\n",
       "    </tr>\n",
       "    <tr>\n",
       "      <th>47208</th>\n",
       "      <td>47209</td>\n",
       "      <td>ORGANIC HASS AVOCADO</td>\n",
       "    </tr>\n",
       "    <tr>\n",
       "      <th>47625</th>\n",
       "      <td>47626</td>\n",
       "      <td>LARGE LEMON</td>\n",
       "    </tr>\n",
       "    <tr>\n",
       "      <th>47765</th>\n",
       "      <td>47766</td>\n",
       "      <td>ORGANIC AVOCADO</td>\n",
       "    </tr>\n",
       "    <tr>\n",
       "      <th>49682</th>\n",
       "      <td>49683</td>\n",
       "      <td>CUCUMBER KIRBY</td>\n",
       "    </tr>\n",
       "  </tbody>\n",
       "</table>\n",
       "</div>"
      ],
      "text/plain": [
       "       product_id              product_name\n",
       "5875         5876             ORGANIC LEMON\n",
       "8276         8277  APPLE HONEYCRISP ORGANIC\n",
       "13175       13176    BAG OF ORGANIC BANANAS\n",
       "16796       16797              STRAWBERRIES\n",
       "21136       21137      ORGANIC STRAWBERRIES\n",
       "21902       21903      ORGANIC BABY SPINACH\n",
       "22934       22935      ORGANIC YELLOW ONION\n",
       "24851       24852                    BANANA\n",
       "24963       24964            ORGANIC GARLIC\n",
       "26208       26209                     LIMES\n",
       "27844       27845        ORGANIC WHOLE MILK\n",
       "27965       27966       ORGANIC RASPBERRIES\n",
       "28203       28204        ORGANIC FUJI APPLE\n",
       "39274       39275       ORGANIC BLUEBERRIES\n",
       "40705       40706    ORGANIC GRAPE TOMATOES\n",
       "45006       45007          ORGANIC ZUCCHINI\n",
       "47208       47209      ORGANIC HASS AVOCADO\n",
       "47625       47626               LARGE LEMON\n",
       "47765       47766           ORGANIC AVOCADO\n",
       "49682       49683            CUCUMBER KIRBY"
      ]
     },
     "metadata": {},
     "output_type": "display_data"
    }
   ],
   "source": [
    "print(\"Los 20 productos más populares son:\")\n",
    "display(top_20_product_names)"
   ]
  },
  {
   "cell_type": "markdown",
   "id": "7df00f47",
   "metadata": {
    "id": "7df00f47"
   },
   "source": [
    "Escribe aquí tus conclusiones.\n",
    "\n",
    "El top 20 de productos más populares son productos orgánicos, frutas y verduras."
   ]
  },
  {
   "cell_type": "markdown",
   "id": "gross-theme",
   "metadata": {
    "id": "gross-theme"
   },
   "source": [
    "# [C] Difícil (deben completarse todos para aprobar)\n",
    "\n",
    "1. ¿Cuántos artículos suelen comprar las personas en un pedido? ¿Cómo es la distribución?\n",
    "2. ¿Cuáles son los 20 principales artículos que vuelven a pedirse con mayor frecuencia (muestra sus nombres e IDs de los productos)?\n",
    "3. Para cada producto, ¿cuál es la tasa de repetición del pedido (número de repeticiones de pedido/total de pedidos?\n",
    "4. Para cada cliente, ¿qué proporción de los productos que pidió ya los había pedido? Calcula la tasa de repetición de pedido para cada usuario en lugar de para cada producto.\n",
    "5. ¿Cuáles son los 20 principales artículos que la gente pone primero en sus carritos (muestra las IDs de los productos, sus nombres, y el número de veces en que fueron el primer artículo en añadirse al carrito)?"
   ]
  },
  {
   "cell_type": "markdown",
   "id": "romantic-deposit",
   "metadata": {
    "id": "romantic-deposit"
   },
   "source": [
    "### [C1] ¿Cuántos artículos compran normalmente las personas en un pedido? ¿Cómo es la distribución?"
   ]
  },
  {
   "cell_type": "code",
   "execution_count": 46,
   "id": "virtual-punch",
   "metadata": {
    "id": "virtual-punch"
   },
   "outputs": [],
   "source": [
    "items_per_order = order_products.groupby('order_id')['product_id'].count() #Agrupo las columnas order_id y product_id, y las guardo en una variable\n",
    "items_per_order_mean= items_per_order.mean() #utilizando la variable que cree calculo la media"
   ]
  },
  {
   "cell_type": "code",
   "execution_count": 47,
   "id": "sensitive-breathing",
   "metadata": {
    "id": "sensitive-breathing"
   },
   "outputs": [
    {
     "data": {
      "image/png": "[encoded data removed]",
      "text/plain": [
       "<Figure size 864x432 with 1 Axes>"
      ]
     },
     "metadata": {
      "needs_background": "light"
     },
     "output_type": "display_data"
    }
   ],
   "source": [
    "plt.figure(figsize=(12, 6))\n",
    "plt.hist(items_per_order_mean, color='red', alpha=0.5)\n",
    "\n",
    "plt.title('Distribución del número de pedidos por cliente')\n",
    "plt.xlabel('Cantidad de artículos por pedido')\n",
    "plt.ylabel('Pedidos')\n",
    "\n",
    "plt.show()"
   ]
  },
  {
   "cell_type": "code",
   "execution_count": 48,
   "id": "completed-frank",
   "metadata": {
    "id": "completed-frank"
   },
   "outputs": [
    {
     "data": {
      "image/png": "[encoded data removed]",
      "text/plain": [
       "<Figure size 864x432 with 1 Axes>"
      ]
     },
     "metadata": {
      "needs_background": "light"
     },
     "output_type": "display_data"
    }
   ],
   "source": [
    "plt.figure(figsize=(12, 6))\n",
    "plt.hist(items_per_order, color='red', alpha=0.5)\n",
    "\n",
    "plt.title('Distribución del número de pedidos por cliente')\n",
    "plt.xlabel('Cantidad de artículos por pedido')\n",
    "plt.ylabel('Pedidos')\n",
    "\n",
    "plt.show()"
   ]
  },
  {
   "cell_type": "markdown",
   "id": "designed-mortality",
   "metadata": {
    "id": "designed-mortality"
   },
   "source": [
    "Escribe aquí tus conclusiones\n",
    "En un pedido la media de artículos que compran las personas en un pedido es 10.\n",
    "La gran mayoria de las personas piden 10 artículos aprox y van disminuyendo los clientes que piden más de 20."
   ]
  },
  {
   "cell_type": "markdown",
   "id": "5e6b5537",
   "metadata": {
    "id": "5e6b5537"
   },
   "source": [
    "### [C2] ¿Cuáles son los 20 principales artículos que vuelven a pedirse con mayor frecuencia (muestra sus nombres e IDs de los productos)?"
   ]
  },
  {
   "cell_type": "code",
   "execution_count": 49,
   "id": "9374e55a",
   "metadata": {
    "id": "9374e55a"
   },
   "outputs": [],
   "source": [
    "reorder_frequency = order_products.groupby('product_id')['reordered'].sum().reset_index() \n",
    "#agrupo las columnas 'product_id' y 'reordered' , sumo los datos de la columna reordered y reinicio los índices"
   ]
  },
  {
   "cell_type": "code",
   "execution_count": 50,
   "id": "possible-change",
   "metadata": {
    "id": "possible-change"
   },
   "outputs": [],
   "source": [
    "reorder_frequency.columns = ['product_id', 'reorder_frequency'] #especifico los nombres de las columnas a mis variables "
   ]
  },
  {
   "cell_type": "code",
   "execution_count": 51,
   "id": "professional-surfing",
   "metadata": {
    "id": "professional-surfing"
   },
   "outputs": [],
   "source": [
    "top_20_reorder = reorder_frequency.sort_values(by='reorder_frequency', ascending=False).head(20) \n",
    "#sobre la variable reorder frecuency aplico sort_values para reordenar en orden decreciente y muestro los primeros 20"
   ]
  },
  {
   "cell_type": "code",
   "execution_count": 52,
   "id": "48dd3658",
   "metadata": {
    "id": "48dd3658"
   },
   "outputs": [
    {
     "name": "stdout",
     "output_type": "stream",
     "text": [
      "Los 20 productos más reordenados son:\n"
     ]
    },
    {
     "data": {
      "text/html": [
       "<div>\n",
       "<style scoped>\n",
       "    .dataframe tbody tr th:only-of-type {\n",
       "        vertical-align: middle;\n",
       "    }\n",
       "\n",
       "    .dataframe tbody tr th {\n",
       "        vertical-align: top;\n",
       "    }\n",
       "\n",
       "    .dataframe thead th {\n",
       "        text-align: right;\n",
       "    }\n",
       "</style>\n",
       "<table border=\"1\" class=\"dataframe\">\n",
       "  <thead>\n",
       "    <tr style=\"text-align: right;\">\n",
       "      <th></th>\n",
       "      <th>product_id</th>\n",
       "      <th>reorder_frequency</th>\n",
       "      <th>product_name</th>\n",
       "    </tr>\n",
       "  </thead>\n",
       "  <tbody>\n",
       "    <tr>\n",
       "      <th>0</th>\n",
       "      <td>24852</td>\n",
       "      <td>55763</td>\n",
       "      <td>BANANA</td>\n",
       "    </tr>\n",
       "    <tr>\n",
       "      <th>1</th>\n",
       "      <td>13176</td>\n",
       "      <td>44450</td>\n",
       "      <td>BAG OF ORGANIC BANANAS</td>\n",
       "    </tr>\n",
       "    <tr>\n",
       "      <th>2</th>\n",
       "      <td>21137</td>\n",
       "      <td>28639</td>\n",
       "      <td>ORGANIC STRAWBERRIES</td>\n",
       "    </tr>\n",
       "    <tr>\n",
       "      <th>3</th>\n",
       "      <td>21903</td>\n",
       "      <td>26233</td>\n",
       "      <td>ORGANIC BABY SPINACH</td>\n",
       "    </tr>\n",
       "    <tr>\n",
       "      <th>4</th>\n",
       "      <td>47209</td>\n",
       "      <td>23629</td>\n",
       "      <td>ORGANIC HASS AVOCADO</td>\n",
       "    </tr>\n",
       "    <tr>\n",
       "      <th>5</th>\n",
       "      <td>47766</td>\n",
       "      <td>18743</td>\n",
       "      <td>ORGANIC AVOCADO</td>\n",
       "    </tr>\n",
       "    <tr>\n",
       "      <th>6</th>\n",
       "      <td>27845</td>\n",
       "      <td>16251</td>\n",
       "      <td>ORGANIC WHOLE MILK</td>\n",
       "    </tr>\n",
       "    <tr>\n",
       "      <th>7</th>\n",
       "      <td>47626</td>\n",
       "      <td>15044</td>\n",
       "      <td>LARGE LEMON</td>\n",
       "    </tr>\n",
       "    <tr>\n",
       "      <th>8</th>\n",
       "      <td>27966</td>\n",
       "      <td>14748</td>\n",
       "      <td>ORGANIC RASPBERRIES</td>\n",
       "    </tr>\n",
       "    <tr>\n",
       "      <th>9</th>\n",
       "      <td>16797</td>\n",
       "      <td>13945</td>\n",
       "      <td>STRAWBERRIES</td>\n",
       "    </tr>\n",
       "    <tr>\n",
       "      <th>10</th>\n",
       "      <td>26209</td>\n",
       "      <td>13327</td>\n",
       "      <td>LIMES</td>\n",
       "    </tr>\n",
       "    <tr>\n",
       "      <th>11</th>\n",
       "      <td>22935</td>\n",
       "      <td>11145</td>\n",
       "      <td>ORGANIC YELLOW ONION</td>\n",
       "    </tr>\n",
       "    <tr>\n",
       "      <th>12</th>\n",
       "      <td>24964</td>\n",
       "      <td>10411</td>\n",
       "      <td>ORGANIC GARLIC</td>\n",
       "    </tr>\n",
       "    <tr>\n",
       "      <th>13</th>\n",
       "      <td>45007</td>\n",
       "      <td>10076</td>\n",
       "      <td>ORGANIC ZUCCHINI</td>\n",
       "    </tr>\n",
       "    <tr>\n",
       "      <th>14</th>\n",
       "      <td>49683</td>\n",
       "      <td>9538</td>\n",
       "      <td>CUCUMBER KIRBY</td>\n",
       "    </tr>\n",
       "    <tr>\n",
       "      <th>15</th>\n",
       "      <td>28204</td>\n",
       "      <td>8989</td>\n",
       "      <td>ORGANIC FUJI APPLE</td>\n",
       "    </tr>\n",
       "    <tr>\n",
       "      <th>16</th>\n",
       "      <td>8277</td>\n",
       "      <td>8836</td>\n",
       "      <td>APPLE HONEYCRISP ORGANIC</td>\n",
       "    </tr>\n",
       "    <tr>\n",
       "      <th>17</th>\n",
       "      <td>39275</td>\n",
       "      <td>8799</td>\n",
       "      <td>ORGANIC BLUEBERRIES</td>\n",
       "    </tr>\n",
       "    <tr>\n",
       "      <th>18</th>\n",
       "      <td>5876</td>\n",
       "      <td>8412</td>\n",
       "      <td>ORGANIC LEMON</td>\n",
       "    </tr>\n",
       "    <tr>\n",
       "      <th>19</th>\n",
       "      <td>49235</td>\n",
       "      <td>8389</td>\n",
       "      <td>ORGANIC HALF &amp; HALF</td>\n",
       "    </tr>\n",
       "  </tbody>\n",
       "</table>\n",
       "</div>"
      ],
      "text/plain": [
       "    product_id  reorder_frequency              product_name\n",
       "0        24852              55763                    BANANA\n",
       "1        13176              44450    BAG OF ORGANIC BANANAS\n",
       "2        21137              28639      ORGANIC STRAWBERRIES\n",
       "3        21903              26233      ORGANIC BABY SPINACH\n",
       "4        47209              23629      ORGANIC HASS AVOCADO\n",
       "5        47766              18743           ORGANIC AVOCADO\n",
       "6        27845              16251        ORGANIC WHOLE MILK\n",
       "7        47626              15044               LARGE LEMON\n",
       "8        27966              14748       ORGANIC RASPBERRIES\n",
       "9        16797              13945              STRAWBERRIES\n",
       "10       26209              13327                     LIMES\n",
       "11       22935              11145      ORGANIC YELLOW ONION\n",
       "12       24964              10411            ORGANIC GARLIC\n",
       "13       45007              10076          ORGANIC ZUCCHINI\n",
       "14       49683               9538            CUCUMBER KIRBY\n",
       "15       28204               8989        ORGANIC FUJI APPLE\n",
       "16        8277               8836  APPLE HONEYCRISP ORGANIC\n",
       "17       39275               8799       ORGANIC BLUEBERRIES\n",
       "18        5876               8412             ORGANIC LEMON\n",
       "19       49235               8389       ORGANIC HALF & HALF"
      ]
     },
     "metadata": {},
     "output_type": "display_data"
    }
   ],
   "source": [
    "top_20_product_names = pd.merge(top_20_reorder, products[['product_id', 'product_name']], on='product_id')\n",
    "#fuciono con merge() la variable top_20_reorder con  products[['product_id', 'product_name']] usando la columna común product_id\n",
    "\n",
    "print(\"Los 20 productos más reordenados son:\")\n",
    "display(top_20_product_names)"
   ]
  },
  {
   "cell_type": "markdown",
   "id": "80e70c74",
   "metadata": {
    "id": "80e70c74"
   },
   "source": [
    "Escribe aquí tus conclusiones\n",
    "El top 20 artículos que vuelven a pedirse los clientes con mayor frecuencia es 19/20 similar al top 20 de los más populares."
   ]
  },
  {
   "cell_type": "markdown",
   "id": "9d312b14",
   "metadata": {
    "id": "9d312b14"
   },
   "source": [
    "### [C3] Para cada producto, ¿cuál es la proporción de las veces que se pide y que se vuelve a pedir?"
   ]
  },
  {
   "cell_type": "code",
   "execution_count": 53,
   "id": "8ae9f4b1",
   "metadata": {
    "id": "8ae9f4b1"
   },
   "outputs": [],
   "source": [
    "product_ratio = order_products.groupby('product_id')['reordered'].mean().reset_index() \n",
    "#agrupo las columnas de product id y reordered y calculo la media de los productos reordenados"
   ]
  },
  {
   "cell_type": "code",
   "execution_count": 54,
   "id": "103e7fe1",
   "metadata": {
    "id": "103e7fe1"
   },
   "outputs": [],
   "source": [
    "product_ratio.columns = ['product_id', 'reorder_ratio'] #especifico las columnas que tendrá mi variable"
   ]
  },
  {
   "cell_type": "code",
   "execution_count": 55,
   "id": "social-individual",
   "metadata": {
    "id": "social-individual"
   },
   "outputs": [
    {
     "data": {
      "text/html": [
       "<div>\n",
       "<style scoped>\n",
       "    .dataframe tbody tr th:only-of-type {\n",
       "        vertical-align: middle;\n",
       "    }\n",
       "\n",
       "    .dataframe tbody tr th {\n",
       "        vertical-align: top;\n",
       "    }\n",
       "\n",
       "    .dataframe thead th {\n",
       "        text-align: right;\n",
       "    }\n",
       "</style>\n",
       "<table border=\"1\" class=\"dataframe\">\n",
       "  <thead>\n",
       "    <tr style=\"text-align: right;\">\n",
       "      <th></th>\n",
       "      <th>product_id</th>\n",
       "      <th>reorder_ratio</th>\n",
       "    </tr>\n",
       "  </thead>\n",
       "  <tbody>\n",
       "    <tr>\n",
       "      <th>0</th>\n",
       "      <td>1</td>\n",
       "      <td>0.564286</td>\n",
       "    </tr>\n",
       "    <tr>\n",
       "      <th>1</th>\n",
       "      <td>2</td>\n",
       "      <td>0.000000</td>\n",
       "    </tr>\n",
       "    <tr>\n",
       "      <th>2</th>\n",
       "      <td>3</td>\n",
       "      <td>0.738095</td>\n",
       "    </tr>\n",
       "    <tr>\n",
       "      <th>3</th>\n",
       "      <td>4</td>\n",
       "      <td>0.510204</td>\n",
       "    </tr>\n",
       "    <tr>\n",
       "      <th>4</th>\n",
       "      <td>7</td>\n",
       "      <td>0.500000</td>\n",
       "    </tr>\n",
       "  </tbody>\n",
       "</table>\n",
       "</div>"
      ],
      "text/plain": [
       "   product_id  reorder_ratio\n",
       "0           1       0.564286\n",
       "1           2       0.000000\n",
       "2           3       0.738095\n",
       "3           4       0.510204\n",
       "4           7       0.500000"
      ]
     },
     "metadata": {},
     "output_type": "display_data"
    }
   ],
   "source": [
    "display(product_ratio.head(5))"
   ]
  },
  {
   "cell_type": "markdown",
   "id": "I10dEIAyldcO",
   "metadata": {
    "id": "I10dEIAyldcO"
   },
   "source": [
    "Escribe aquí tus conclusiones\n",
    "en la tabla se puede ver que hay productos que han sido reordenados por lo que es más probable que sigan siendo ordenados por otros usuarios. Excepto el segundo producto que tiene 0.000% que significa que según los datos que hay, nunca ha sido reordenado."
   ]
  },
  {
   "cell_type": "markdown",
   "id": "subject-boxing",
   "metadata": {
    "id": "subject-boxing"
   },
   "source": [
    "### [C4] Para cada cliente, ¿qué proporción de sus productos ya los había pedido?"
   ]
  },
  {
   "cell_type": "code",
   "execution_count": 56,
   "id": "medical-couple",
   "metadata": {
    "id": "medical-couple",
    "scrolled": true
   },
   "outputs": [
    {
     "name": "stdout",
     "output_type": "stream",
     "text": [
      "Tasa media de productos reordenados por user_id:\n"
     ]
    },
    {
     "data": {
      "text/plain": [
       "user_id\n",
       "2     0.038462\n",
       "4     0.000000\n",
       "5     0.666667\n",
       "6     0.000000\n",
       "7     0.928571\n",
       "11    0.200000\n",
       "12    0.250000\n",
       "13    0.565217\n",
       "14    0.360656\n",
       "15    0.538462\n",
       "16    0.531250\n",
       "17    0.716981\n",
       "19    0.291667\n",
       "20    0.000000\n",
       "21    0.400000\n",
       "22    1.000000\n",
       "24    0.500000\n",
       "26    0.437500\n",
       "27    0.658824\n",
       "28    0.500000\n",
       "Name: reordered, dtype: float64"
      ]
     },
     "metadata": {},
     "output_type": "display_data"
    }
   ],
   "source": [
    "merged_data = pd.merge(order_products, instacart_order, on='order_id') #uno con merge los datos de order_products y instacart_order \n",
    "reorder_mean = merged_data.groupby('user_id')['reordered'].mean() #agrupo por 'user_id', accedo a reorder y utilizo mean para calcular la taza\n",
    "\n",
    "print(\"Tasa media de productos reordenados por user_id:\")\n",
    "display(reorder_mean.head(20))\n"
   ]
  },
  {
   "cell_type": "markdown",
   "id": "BgJSvXDsleXz",
   "metadata": {
    "id": "BgJSvXDsleXz"
   },
   "source": [
    "Escribe aquí tus conclusiones.\n",
    "\n",
    "Para cada cliente la proporción de artículos que ha ordenado y que ha reordenado varía cliente a cliente, pero la gran mayoría había ordenado en alguna ocación el producto."
   ]
  },
  {
   "cell_type": "markdown",
   "id": "92d35137",
   "metadata": {
    "id": "92d35137"
   },
   "source": [
    "### [C5] ¿Cuáles son los 20 principales artículos que las personas ponen primero en sus carritos?"
   ]
  },
  {
   "cell_type": "code",
   "execution_count": 57,
   "id": "0ae57274",
   "metadata": {
    "id": "0ae57274"
   },
   "outputs": [
    {
     "name": "stdout",
     "output_type": "stream",
     "text": [
      "Los 20 principales productos que las personas ponen primero en sus carritos son:\n"
     ]
    },
    {
     "data": {
      "text/html": [
       "<div>\n",
       "<style scoped>\n",
       "    .dataframe tbody tr th:only-of-type {\n",
       "        vertical-align: middle;\n",
       "    }\n",
       "\n",
       "    .dataframe tbody tr th {\n",
       "        vertical-align: top;\n",
       "    }\n",
       "\n",
       "    .dataframe thead th {\n",
       "        text-align: right;\n",
       "    }\n",
       "</style>\n",
       "<table border=\"1\" class=\"dataframe\">\n",
       "  <thead>\n",
       "    <tr style=\"text-align: right;\">\n",
       "      <th></th>\n",
       "      <th>product_id</th>\n",
       "      <th>product_name</th>\n",
       "    </tr>\n",
       "  </thead>\n",
       "  <tbody>\n",
       "    <tr>\n",
       "      <th>195</th>\n",
       "      <td>196</td>\n",
       "      <td>SODA</td>\n",
       "    </tr>\n",
       "    <tr>\n",
       "      <th>5784</th>\n",
       "      <td>5785</td>\n",
       "      <td>ORGANIC REDUCED FAT 2% MILK</td>\n",
       "    </tr>\n",
       "    <tr>\n",
       "      <th>12340</th>\n",
       "      <td>12341</td>\n",
       "      <td>HASS AVOCADOS</td>\n",
       "    </tr>\n",
       "    <tr>\n",
       "      <th>13175</th>\n",
       "      <td>13176</td>\n",
       "      <td>BAG OF ORGANIC BANANAS</td>\n",
       "    </tr>\n",
       "    <tr>\n",
       "      <th>16796</th>\n",
       "      <td>16797</td>\n",
       "      <td>STRAWBERRIES</td>\n",
       "    </tr>\n",
       "    <tr>\n",
       "      <th>19659</th>\n",
       "      <td>19660</td>\n",
       "      <td>SPRING WATER</td>\n",
       "    </tr>\n",
       "    <tr>\n",
       "      <th>21136</th>\n",
       "      <td>21137</td>\n",
       "      <td>ORGANIC STRAWBERRIES</td>\n",
       "    </tr>\n",
       "    <tr>\n",
       "      <th>21902</th>\n",
       "      <td>21903</td>\n",
       "      <td>ORGANIC BABY SPINACH</td>\n",
       "    </tr>\n",
       "    <tr>\n",
       "      <th>22934</th>\n",
       "      <td>22935</td>\n",
       "      <td>ORGANIC YELLOW ONION</td>\n",
       "    </tr>\n",
       "    <tr>\n",
       "      <th>24851</th>\n",
       "      <td>24852</td>\n",
       "      <td>BANANA</td>\n",
       "    </tr>\n",
       "    <tr>\n",
       "      <th>26208</th>\n",
       "      <td>26209</td>\n",
       "      <td>LIMES</td>\n",
       "    </tr>\n",
       "    <tr>\n",
       "      <th>27085</th>\n",
       "      <td>27086</td>\n",
       "      <td>HALF &amp; HALF</td>\n",
       "    </tr>\n",
       "    <tr>\n",
       "      <th>27844</th>\n",
       "      <td>27845</td>\n",
       "      <td>ORGANIC WHOLE MILK</td>\n",
       "    </tr>\n",
       "    <tr>\n",
       "      <th>27965</th>\n",
       "      <td>27966</td>\n",
       "      <td>ORGANIC RASPBERRIES</td>\n",
       "    </tr>\n",
       "    <tr>\n",
       "      <th>38688</th>\n",
       "      <td>38689</td>\n",
       "      <td>ORGANIC REDUCED FAT MILK</td>\n",
       "    </tr>\n",
       "    <tr>\n",
       "      <th>44631</th>\n",
       "      <td>44632</td>\n",
       "      <td>SPARKLING WATER GRAPEFRUIT</td>\n",
       "    </tr>\n",
       "    <tr>\n",
       "      <th>47208</th>\n",
       "      <td>47209</td>\n",
       "      <td>ORGANIC HASS AVOCADO</td>\n",
       "    </tr>\n",
       "    <tr>\n",
       "      <th>47625</th>\n",
       "      <td>47626</td>\n",
       "      <td>LARGE LEMON</td>\n",
       "    </tr>\n",
       "    <tr>\n",
       "      <th>47765</th>\n",
       "      <td>47766</td>\n",
       "      <td>ORGANIC AVOCADO</td>\n",
       "    </tr>\n",
       "    <tr>\n",
       "      <th>49234</th>\n",
       "      <td>49235</td>\n",
       "      <td>ORGANIC HALF &amp; HALF</td>\n",
       "    </tr>\n",
       "  </tbody>\n",
       "</table>\n",
       "</div>"
      ],
      "text/plain": [
       "       product_id                 product_name\n",
       "195           196                         SODA\n",
       "5784         5785  ORGANIC REDUCED FAT 2% MILK\n",
       "12340       12341                HASS AVOCADOS\n",
       "13175       13176       BAG OF ORGANIC BANANAS\n",
       "16796       16797                 STRAWBERRIES\n",
       "19659       19660                 SPRING WATER\n",
       "21136       21137         ORGANIC STRAWBERRIES\n",
       "21902       21903         ORGANIC BABY SPINACH\n",
       "22934       22935         ORGANIC YELLOW ONION\n",
       "24851       24852                       BANANA\n",
       "26208       26209                        LIMES\n",
       "27085       27086                  HALF & HALF\n",
       "27844       27845           ORGANIC WHOLE MILK\n",
       "27965       27966          ORGANIC RASPBERRIES\n",
       "38688       38689     ORGANIC REDUCED FAT MILK\n",
       "44631       44632   SPARKLING WATER GRAPEFRUIT\n",
       "47208       47209         ORGANIC HASS AVOCADO\n",
       "47625       47626                  LARGE LEMON\n",
       "47765       47766              ORGANIC AVOCADO\n",
       "49234       49235          ORGANIC HALF & HALF"
      ]
     },
     "metadata": {},
     "output_type": "display_data"
    }
   ],
   "source": [
    "top_first_in_cart = order_products[order_products['add_to_cart_order'] == 1]\n",
    "#Filtro los productos que tienen la posición 1 de agragado al carrito\n",
    "\n",
    "top_20_first_in_cart = top_first_in_cart['product_id'].value_counts().head(20)\n",
    "#cuento la frecuencia de los productos y guardo lo primeros 20\n",
    "# Obtener los nombres de los productos correspondientes a los IDs\n",
    "top_20_product_names = products[products['product_id'].isin(top_20_first_in_cart.index)][['product_id', 'product_name']]\n",
    "#verifico que los valores de la columna products esten en top_20_first_in_cart y conservo las columnas product_id y product_name\n",
    "print(\"Los 20 principales productos que las personas ponen primero en sus carritos son:\")\n",
    "display(top_20_product_names)\n"
   ]
  },
  {
   "cell_type": "markdown",
   "id": "28ce9872",
   "metadata": {
    "id": "28ce9872"
   },
   "source": [
    "Escribe aquí tus conclusiones\n",
    "\n",
    "El top 20 de los primeros productos que son agregados al carrro son similares al top 20 de productos más populares en 12/20, siendo estos también en su mayoría productos orgánicos de frutas y verduras."
   ]
  },
  {
   "cell_type": "markdown",
   "id": "uITbFCEoDosC",
   "metadata": {
    "id": "uITbFCEoDosC"
   },
   "source": [
    "### Conclusion general del proyecto:"
   ]
  },
  {
   "cell_type": "markdown",
   "id": "89a0c076",
   "metadata": {
    "id": "Nk-4GS7mDwqY"
   },
   "source": [
    "En este proyecto se revisaron diversos datos sobre esta plataforma, se hicieron varios analisis donde se pudo concluir que la cantidad de pedidos hechos por los clientes van variando a lo largo de la semana y dependiendo de la hora. También que los artículos más populares son similares a los que se vuelven a ordenar por los usuarios, pero generalmente de los primeros artículos que se agregan al carrito no todos se vuelven a reordenar, también se observo que la mayoria de los clientes a la semana aprox vuelven hacer un pedido, pero esto varía por cliente ya que hay personas que pueden pedir el mismo día o hasta un mes despues. También se pudo analizar que el máximo de articulos que han pedido son 64 y el mínimo 1, siendo la media de 10 artículos.\n"
   ]
  }
 ],
 "metadata": {
  "colab": {
   "provenance": []
  },
  "kernelspec": {
   "display_name": "Python 3 (ipykernel)",
   "language": "python",
   "name": "python3"
  },
  "language_info": {
   "codemirror_mode": {
    "name": "ipython",
    "version": 3
   },
   "file_extension": ".py",
   "mimetype": "text/x-python",
   "name": "python",
   "nbconvert_exporter": "python",
   "pygments_lexer": "ipython3",
   "version": "3.9.19"
  },
  "toc": {
   "base_numbering": 1,
   "nav_menu": {},
   "number_sections": true,
   "sideBar": true,
   "skip_h1_title": true,
   "title_cell": "Table of Contents",
   "title_sidebar": "Contents",
   "toc_cell": false,
   "toc_position": {},
   "toc_section_display": true,
   "toc_window_display": false
  },
  "vscode": {
   "interpreter": {
    "hash": "01a7be9ec63e704a62cefc5fe7a4756944464ee731be31632bdf42a4cb4688cf"
   }
  }
 },
 "nbformat": 4,
 "nbformat_minor": 5
}
